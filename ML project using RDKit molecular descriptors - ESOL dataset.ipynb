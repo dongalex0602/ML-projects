{
 "cells": [
  {
   "cell_type": "markdown",
   "id": "539c4303",
   "metadata": {},
   "source": [
    "# Task: Develop Models to Predict Log Solubility using the ESOL Dataset"
   ]
  },
  {
   "cell_type": "code",
   "execution_count": 25,
   "id": "c487c376",
   "metadata": {},
   "outputs": [],
   "source": [
    "import pandas as pd\n",
    "import numpy as np\n",
    "import matplotlib.pyplot as plt\n",
    "\n",
    "from rdkit.Chem import AllChem\n",
    "from rdkit import Chem\n",
    "from rdkit.Chem import Descriptors\n",
    "from rdkit.ML.Descriptors import MoleculeDescriptors\n",
    "\n",
    "from sklearn.model_selection import train_test_split, learning_curve, cross_val_score, GridSearchCV, RandomizedSearchCV\n",
    "from sklearn.preprocessing import FunctionTransformer, StandardScaler, MinMaxScaler\n",
    "from sklearn.pipeline import make_pipeline\n",
    "from sklearn.linear_model import LinearRegression, Lasso, LassoCV\n",
    "from sklearn.ensemble import RandomForestRegressor\n",
    "from sklearn.metrics import mean_squared_error"
   ]
  },
  {
   "cell_type": "markdown",
   "id": "5de59540",
   "metadata": {},
   "source": [
    "### Import and glance at data"
   ]
  },
  {
   "cell_type": "code",
   "execution_count": 2,
   "id": "40690a5c",
   "metadata": {},
   "outputs": [
    {
     "data": {
      "text/html": [
       "<div>\n",
       "<style scoped>\n",
       "    .dataframe tbody tr th:only-of-type {\n",
       "        vertical-align: middle;\n",
       "    }\n",
       "\n",
       "    .dataframe tbody tr th {\n",
       "        vertical-align: top;\n",
       "    }\n",
       "\n",
       "    .dataframe thead th {\n",
       "        text-align: right;\n",
       "    }\n",
       "</style>\n",
       "<table border=\"1\" class=\"dataframe\">\n",
       "  <thead>\n",
       "    <tr style=\"text-align: right;\">\n",
       "      <th></th>\n",
       "      <th>Compound ID</th>\n",
       "      <th>ESOL predicted log solubility in mols per litre</th>\n",
       "      <th>Minimum Degree</th>\n",
       "      <th>Molecular Weight</th>\n",
       "      <th>Number of H-Bond Donors</th>\n",
       "      <th>Number of Rings</th>\n",
       "      <th>Number of Rotatable Bonds</th>\n",
       "      <th>Polar Surface Area</th>\n",
       "      <th>measured log solubility in mols per litre</th>\n",
       "      <th>smiles</th>\n",
       "    </tr>\n",
       "  </thead>\n",
       "  <tbody>\n",
       "    <tr>\n",
       "      <th>0</th>\n",
       "      <td>Amigdalin</td>\n",
       "      <td>-0.974</td>\n",
       "      <td>1</td>\n",
       "      <td>457.432</td>\n",
       "      <td>7</td>\n",
       "      <td>3</td>\n",
       "      <td>7</td>\n",
       "      <td>202.32</td>\n",
       "      <td>-0.77</td>\n",
       "      <td>OCC3OC(OCC2OC(OC(C#N)c1ccccc1)C(O)C(O)C2O)C(O)...</td>\n",
       "    </tr>\n",
       "    <tr>\n",
       "      <th>1</th>\n",
       "      <td>Fenfuram</td>\n",
       "      <td>-2.885</td>\n",
       "      <td>1</td>\n",
       "      <td>201.225</td>\n",
       "      <td>1</td>\n",
       "      <td>2</td>\n",
       "      <td>2</td>\n",
       "      <td>42.24</td>\n",
       "      <td>-3.30</td>\n",
       "      <td>Cc1occc1C(=O)Nc2ccccc2</td>\n",
       "    </tr>\n",
       "    <tr>\n",
       "      <th>2</th>\n",
       "      <td>citral</td>\n",
       "      <td>-2.579</td>\n",
       "      <td>1</td>\n",
       "      <td>152.237</td>\n",
       "      <td>0</td>\n",
       "      <td>0</td>\n",
       "      <td>4</td>\n",
       "      <td>17.07</td>\n",
       "      <td>-2.06</td>\n",
       "      <td>CC(C)=CCCC(C)=CC(=O)</td>\n",
       "    </tr>\n",
       "    <tr>\n",
       "      <th>3</th>\n",
       "      <td>Picene</td>\n",
       "      <td>-6.618</td>\n",
       "      <td>2</td>\n",
       "      <td>278.354</td>\n",
       "      <td>0</td>\n",
       "      <td>5</td>\n",
       "      <td>0</td>\n",
       "      <td>0.00</td>\n",
       "      <td>-7.87</td>\n",
       "      <td>c1ccc2c(c1)ccc3c2ccc4c5ccccc5ccc43</td>\n",
       "    </tr>\n",
       "    <tr>\n",
       "      <th>4</th>\n",
       "      <td>Thiophene</td>\n",
       "      <td>-2.232</td>\n",
       "      <td>2</td>\n",
       "      <td>84.143</td>\n",
       "      <td>0</td>\n",
       "      <td>1</td>\n",
       "      <td>0</td>\n",
       "      <td>0.00</td>\n",
       "      <td>-1.33</td>\n",
       "      <td>c1ccsc1</td>\n",
       "    </tr>\n",
       "  </tbody>\n",
       "</table>\n",
       "</div>"
      ],
      "text/plain": [
       "  Compound ID  ESOL predicted log solubility in mols per litre  \\\n",
       "0   Amigdalin                                           -0.974   \n",
       "1    Fenfuram                                           -2.885   \n",
       "2      citral                                           -2.579   \n",
       "3      Picene                                           -6.618   \n",
       "4   Thiophene                                           -2.232   \n",
       "\n",
       "   Minimum Degree  Molecular Weight  Number of H-Bond Donors  Number of Rings  \\\n",
       "0               1           457.432                        7                3   \n",
       "1               1           201.225                        1                2   \n",
       "2               1           152.237                        0                0   \n",
       "3               2           278.354                        0                5   \n",
       "4               2            84.143                        0                1   \n",
       "\n",
       "   Number of Rotatable Bonds  Polar Surface Area  \\\n",
       "0                          7              202.32   \n",
       "1                          2               42.24   \n",
       "2                          4               17.07   \n",
       "3                          0                0.00   \n",
       "4                          0                0.00   \n",
       "\n",
       "   measured log solubility in mols per litre  \\\n",
       "0                                      -0.77   \n",
       "1                                      -3.30   \n",
       "2                                      -2.06   \n",
       "3                                      -7.87   \n",
       "4                                      -1.33   \n",
       "\n",
       "                                              smiles  \n",
       "0  OCC3OC(OCC2OC(OC(C#N)c1ccccc1)C(O)C(O)C2O)C(O)...  \n",
       "1                             Cc1occc1C(=O)Nc2ccccc2  \n",
       "2                               CC(C)=CCCC(C)=CC(=O)  \n",
       "3                 c1ccc2c(c1)ccc3c2ccc4c5ccccc5ccc43  \n",
       "4                                            c1ccsc1  "
      ]
     },
     "execution_count": 2,
     "metadata": {},
     "output_type": "execute_result"
    }
   ],
   "source": [
    "esol = pd.read_csv(\"delaney_processed.csv\")\n",
    "esol.head()"
   ]
  },
  {
   "cell_type": "code",
   "execution_count": 3,
   "id": "9300960a",
   "metadata": {},
   "outputs": [
    {
     "name": "stdout",
     "output_type": "stream",
     "text": [
      "<class 'pandas.core.frame.DataFrame'>\n",
      "RangeIndex: 1128 entries, 0 to 1127\n",
      "Data columns (total 10 columns):\n",
      " #   Column                                           Non-Null Count  Dtype  \n",
      "---  ------                                           --------------  -----  \n",
      " 0   Compound ID                                      1128 non-null   object \n",
      " 1   ESOL predicted log solubility in mols per litre  1128 non-null   float64\n",
      " 2   Minimum Degree                                   1128 non-null   int64  \n",
      " 3   Molecular Weight                                 1128 non-null   float64\n",
      " 4   Number of H-Bond Donors                          1128 non-null   int64  \n",
      " 5   Number of Rings                                  1128 non-null   int64  \n",
      " 6   Number of Rotatable Bonds                        1128 non-null   int64  \n",
      " 7   Polar Surface Area                               1128 non-null   float64\n",
      " 8   measured log solubility in mols per litre        1128 non-null   float64\n",
      " 9   smiles                                           1128 non-null   object \n",
      "dtypes: float64(4), int64(4), object(2)\n",
      "memory usage: 88.2+ KB\n"
     ]
    }
   ],
   "source": [
    "esol.info()"
   ]
  },
  {
   "cell_type": "markdown",
   "id": "73647d1c",
   "metadata": {},
   "source": [
    "### Calculate RDkit descriptors"
   ]
  },
  {
   "cell_type": "code",
   "execution_count": 4,
   "id": "3dd2df14",
   "metadata": {},
   "outputs": [],
   "source": [
    "# function to calculate molecular descriptors\n",
    "def RDkit_descriptors(smiles):\n",
    "    # convert smiles into their corresponding molecular graphs\n",
    "    mols = [Chem.MolFromSmiles(i) for i in smiles] \n",
    "    \n",
    "    # calculate all descriptors available in RDkit and save to variable\n",
    "    calc = MoleculeDescriptors.MolecularDescriptorCalculator([x[0] for x in Descriptors._descList])\n",
    "    desc_names = calc.GetDescriptorNames()\n",
    "    \n",
    "    Mol_descriptors =[]\n",
    "    for mol in mols:\n",
    "        # add hydrogens to molecules\n",
    "        mol=Chem.AddHs(mol)\n",
    "        # Calculate all 200 descriptors for each molecule\n",
    "        descriptors = calc.CalcDescriptors(mol)\n",
    "        Mol_descriptors.append(descriptors)\n",
    "        \n",
    "    return Mol_descriptors,desc_names "
   ]
  },
  {
   "cell_type": "code",
   "execution_count": 5,
   "id": "a21ec970",
   "metadata": {},
   "outputs": [
    {
     "data": {
      "text/html": [
       "<div>\n",
       "<style scoped>\n",
       "    .dataframe tbody tr th:only-of-type {\n",
       "        vertical-align: middle;\n",
       "    }\n",
       "\n",
       "    .dataframe tbody tr th {\n",
       "        vertical-align: top;\n",
       "    }\n",
       "\n",
       "    .dataframe thead th {\n",
       "        text-align: right;\n",
       "    }\n",
       "</style>\n",
       "<table border=\"1\" class=\"dataframe\">\n",
       "  <thead>\n",
       "    <tr style=\"text-align: right;\">\n",
       "      <th></th>\n",
       "      <th>MaxEStateIndex</th>\n",
       "      <th>MinEStateIndex</th>\n",
       "      <th>MaxAbsEStateIndex</th>\n",
       "      <th>MinAbsEStateIndex</th>\n",
       "      <th>qed</th>\n",
       "      <th>MolWt</th>\n",
       "      <th>HeavyAtomMolWt</th>\n",
       "      <th>ExactMolWt</th>\n",
       "      <th>NumValenceElectrons</th>\n",
       "      <th>NumRadicalElectrons</th>\n",
       "      <th>...</th>\n",
       "      <th>fr_sulfide</th>\n",
       "      <th>fr_sulfonamd</th>\n",
       "      <th>fr_sulfone</th>\n",
       "      <th>fr_term_acetylene</th>\n",
       "      <th>fr_tetrazole</th>\n",
       "      <th>fr_thiazole</th>\n",
       "      <th>fr_thiocyan</th>\n",
       "      <th>fr_thiophene</th>\n",
       "      <th>fr_unbrch_alkane</th>\n",
       "      <th>fr_urea</th>\n",
       "    </tr>\n",
       "  </thead>\n",
       "  <tbody>\n",
       "    <tr>\n",
       "      <th>0</th>\n",
       "      <td>10.069684</td>\n",
       "      <td>-5.122500</td>\n",
       "      <td>10.069684</td>\n",
       "      <td>0.911295</td>\n",
       "      <td>0.217518</td>\n",
       "      <td>457.432</td>\n",
       "      <td>430.216</td>\n",
       "      <td>457.158411</td>\n",
       "      <td>178</td>\n",
       "      <td>0</td>\n",
       "      <td>...</td>\n",
       "      <td>0</td>\n",
       "      <td>0</td>\n",
       "      <td>0</td>\n",
       "      <td>0</td>\n",
       "      <td>0</td>\n",
       "      <td>0</td>\n",
       "      <td>0</td>\n",
       "      <td>0</td>\n",
       "      <td>0</td>\n",
       "      <td>0</td>\n",
       "    </tr>\n",
       "    <tr>\n",
       "      <th>1</th>\n",
       "      <td>12.547837</td>\n",
       "      <td>-2.999280</td>\n",
       "      <td>12.547837</td>\n",
       "      <td>0.099444</td>\n",
       "      <td>0.811283</td>\n",
       "      <td>201.225</td>\n",
       "      <td>190.137</td>\n",
       "      <td>201.078979</td>\n",
       "      <td>76</td>\n",
       "      <td>0</td>\n",
       "      <td>...</td>\n",
       "      <td>0</td>\n",
       "      <td>0</td>\n",
       "      <td>0</td>\n",
       "      <td>0</td>\n",
       "      <td>0</td>\n",
       "      <td>0</td>\n",
       "      <td>0</td>\n",
       "      <td>0</td>\n",
       "      <td>0</td>\n",
       "      <td>0</td>\n",
       "    </tr>\n",
       "    <tr>\n",
       "      <th>2</th>\n",
       "      <td>11.071016</td>\n",
       "      <td>-3.884051</td>\n",
       "      <td>11.071016</td>\n",
       "      <td>1.707414</td>\n",
       "      <td>0.343706</td>\n",
       "      <td>152.237</td>\n",
       "      <td>136.109</td>\n",
       "      <td>152.120115</td>\n",
       "      <td>62</td>\n",
       "      <td>0</td>\n",
       "      <td>...</td>\n",
       "      <td>0</td>\n",
       "      <td>0</td>\n",
       "      <td>0</td>\n",
       "      <td>0</td>\n",
       "      <td>0</td>\n",
       "      <td>0</td>\n",
       "      <td>0</td>\n",
       "      <td>0</td>\n",
       "      <td>0</td>\n",
       "      <td>0</td>\n",
       "    </tr>\n",
       "    <tr>\n",
       "      <th>3</th>\n",
       "      <td>8.745488</td>\n",
       "      <td>-0.641794</td>\n",
       "      <td>8.745488</td>\n",
       "      <td>0.260568</td>\n",
       "      <td>0.291526</td>\n",
       "      <td>278.354</td>\n",
       "      <td>264.242</td>\n",
       "      <td>278.109550</td>\n",
       "      <td>102</td>\n",
       "      <td>0</td>\n",
       "      <td>...</td>\n",
       "      <td>0</td>\n",
       "      <td>0</td>\n",
       "      <td>0</td>\n",
       "      <td>0</td>\n",
       "      <td>0</td>\n",
       "      <td>0</td>\n",
       "      <td>0</td>\n",
       "      <td>0</td>\n",
       "      <td>0</td>\n",
       "      <td>0</td>\n",
       "    </tr>\n",
       "    <tr>\n",
       "      <th>4</th>\n",
       "      <td>6.980324</td>\n",
       "      <td>-0.134259</td>\n",
       "      <td>6.980324</td>\n",
       "      <td>0.004630</td>\n",
       "      <td>0.448927</td>\n",
       "      <td>84.143</td>\n",
       "      <td>80.111</td>\n",
       "      <td>84.003371</td>\n",
       "      <td>26</td>\n",
       "      <td>0</td>\n",
       "      <td>...</td>\n",
       "      <td>0</td>\n",
       "      <td>0</td>\n",
       "      <td>0</td>\n",
       "      <td>0</td>\n",
       "      <td>0</td>\n",
       "      <td>0</td>\n",
       "      <td>0</td>\n",
       "      <td>1</td>\n",
       "      <td>0</td>\n",
       "      <td>0</td>\n",
       "    </tr>\n",
       "  </tbody>\n",
       "</table>\n",
       "<p>5 rows × 208 columns</p>\n",
       "</div>"
      ],
      "text/plain": [
       "   MaxEStateIndex  MinEStateIndex  MaxAbsEStateIndex  MinAbsEStateIndex  \\\n",
       "0       10.069684       -5.122500          10.069684           0.911295   \n",
       "1       12.547837       -2.999280          12.547837           0.099444   \n",
       "2       11.071016       -3.884051          11.071016           1.707414   \n",
       "3        8.745488       -0.641794           8.745488           0.260568   \n",
       "4        6.980324       -0.134259           6.980324           0.004630   \n",
       "\n",
       "        qed    MolWt  HeavyAtomMolWt  ExactMolWt  NumValenceElectrons  \\\n",
       "0  0.217518  457.432         430.216  457.158411                  178   \n",
       "1  0.811283  201.225         190.137  201.078979                   76   \n",
       "2  0.343706  152.237         136.109  152.120115                   62   \n",
       "3  0.291526  278.354         264.242  278.109550                  102   \n",
       "4  0.448927   84.143          80.111   84.003371                   26   \n",
       "\n",
       "   NumRadicalElectrons  ...  fr_sulfide  fr_sulfonamd  fr_sulfone  \\\n",
       "0                    0  ...           0             0           0   \n",
       "1                    0  ...           0             0           0   \n",
       "2                    0  ...           0             0           0   \n",
       "3                    0  ...           0             0           0   \n",
       "4                    0  ...           0             0           0   \n",
       "\n",
       "   fr_term_acetylene  fr_tetrazole  fr_thiazole  fr_thiocyan  fr_thiophene  \\\n",
       "0                  0             0            0            0             0   \n",
       "1                  0             0            0            0             0   \n",
       "2                  0             0            0            0             0   \n",
       "3                  0             0            0            0             0   \n",
       "4                  0             0            0            0             1   \n",
       "\n",
       "   fr_unbrch_alkane  fr_urea  \n",
       "0                 0        0  \n",
       "1                 0        0  \n",
       "2                 0        0  \n",
       "3                 0        0  \n",
       "4                 0        0  \n",
       "\n",
       "[5 rows x 208 columns]"
      ]
     },
     "execution_count": 5,
     "metadata": {},
     "output_type": "execute_result"
    }
   ],
   "source": [
    "# function call\n",
    "Mol_descriptors, desc_names = RDkit_descriptors(esol['smiles'])\n",
    "\n",
    "# put descriptors and descriptor names into dataframe\n",
    "esol_desc = pd.DataFrame(Mol_descriptors,columns=desc_names)\n",
    "esol_desc.head()"
   ]
  },
  {
   "cell_type": "code",
   "execution_count": 6,
   "id": "b9673513",
   "metadata": {},
   "outputs": [
    {
     "name": "stdout",
     "output_type": "stream",
     "text": [
      "<class 'pandas.core.frame.DataFrame'>\n",
      "RangeIndex: 1128 entries, 0 to 1127\n",
      "Columns: 208 entries, MaxEStateIndex to fr_urea\n",
      "dtypes: float64(104), int64(104)\n",
      "memory usage: 1.8 MB\n"
     ]
    }
   ],
   "source": [
    "esol_desc.info()"
   ]
  },
  {
   "cell_type": "code",
   "execution_count": null,
   "id": "e6f5e563",
   "metadata": {},
   "outputs": [],
   "source": [
    "#esol_desc['measured log solubility in mols per litre'] = esol[['measured log solubility in mols per litre']]\n",
    "#esol_desc.dropna(inplace=True)"
   ]
  },
  {
   "cell_type": "markdown",
   "id": "97f3774f",
   "metadata": {},
   "source": [
    "### Train/validation/test data split"
   ]
  },
  {
   "cell_type": "code",
   "execution_count": 7,
   "id": "5a188ad8",
   "metadata": {},
   "outputs": [],
   "source": [
    "np.random.seed(23) # random state"
   ]
  },
  {
   "cell_type": "code",
   "execution_count": 8,
   "id": "efe1ad8d",
   "metadata": {},
   "outputs": [],
   "source": [
    "# define splitting function since this needs to be used more than once\n",
    "def train_valid_test_split(X, y, train_ratio, test_ratio):\n",
    "    test_ratio = test_ratio / (1 - train_ratio) # calc test/valid_and_test ratio\n",
    "    \n",
    "    # split data into training set and everything else\n",
    "    X_train, X_valid_and_test, y_train, y_valid_and_test = train_test_split(X, y, train_size=train_ratio)\n",
    "\n",
    "    # split everything else into validation and test sets\n",
    "    X_valid, X_test, y_valid, y_test = train_test_split(X_valid_and_test, y_valid_and_test, test_size=test_ratio)\n",
    "    \n",
    "    return X_train, y_train, X_valid, y_valid, X_test, y_test\n",
    "\n",
    "\n",
    "# define function to print the ratio of the sets\n",
    "def print_ratio(train_set, valid_set, test_set, total_data):\n",
    "    \n",
    "    train_ratio = round(train_set.size/total_data.size, 2)\n",
    "    valid_ratio = round(valid_set.size/total_data.size, 2)\n",
    "    test_ratio = round(test_set.size/total_data.size, 2)\n",
    "    \n",
    "    print(train_ratio, \":\", valid_ratio, \":\", test_ratio) # 0.8/0.1/0.1"
   ]
  },
  {
   "cell_type": "code",
   "execution_count": 11,
   "id": "f96ad676",
   "metadata": {},
   "outputs": [
    {
     "name": "stdout",
     "output_type": "stream",
     "text": [
      "esol train/valid/test ratios:  0.8 : 0.1 : 0.1\n",
      "desc train/valid/test ratios:  0.8 : 0.1 : 0.1\n"
     ]
    }
   ],
   "source": [
    "# split data into features and labels\n",
    "\n",
    "X_esol = esol[['Molecular Weight', 'Number of H-Bond Donors', 'Number of Rings', 'Number of Rotatable Bonds', 'Polar Surface Area']]\n",
    "targets = esol[['measured log solubility in mols per litre']]\n",
    "\n",
    "#X_desc = esol_desc.drop(columns=['measured log solubility in mols per litre'])\n",
    "#targets_desc = esol_desc[['measured log solubility in mols per litre']]\n",
    "\n",
    "# split ESOL data into train/valid/test sets\n",
    "X_train_esol, y_train_esol, X_valid_esol, y_valid_esol, X_test_esol, y_test_esol = train_valid_test_split(X_esol, targets_esol, 0.8, 0.1)\n",
    "\n",
    "# split RDkit descriptors into train/valid/test sets\n",
    "X_train_desc, y_train_desc, X_valid_desc, y_valid_desc, X_test_desc, y_test_desc = train_valid_test_split(esol_desc, targets, 0.8, 0.1)\n",
    "\n",
    "\n",
    "# print ratio of the sets\n",
    "print(\"esol train/valid/test ratios: \", end=\" \")\n",
    "print_ratio(X_train_esol, X_valid_esol, X_test_esol, X_esol)\n",
    "print(\"desc train/valid/test ratios: \", end=\" \")\n",
    "print_ratio(X_train_desc, X_valid_desc, X_test_desc, esol_desc)"
   ]
  },
  {
   "cell_type": "markdown",
   "id": "7f534314",
   "metadata": {},
   "source": [
    "### Data processing"
   ]
  },
  {
   "cell_type": "code",
   "execution_count": 12,
   "id": "23fbb99b",
   "metadata": {},
   "outputs": [],
   "source": [
    "# transform features from ESOL data - see HW2b\n",
    "esol_feature_pipeline = make_pipeline(FunctionTransformer(np.cbrt), StandardScaler())\n",
    "\n",
    "# transform RDkit descriptors ? ? ? ?\n",
    "#desc_feature_pipeline = make_pipeline(MinMaxScaler(), StandardScaler())"
   ]
  },
  {
   "cell_type": "markdown",
   "id": "43ea8ff0",
   "metadata": {},
   "source": [
    "### Regression Models\n",
    "\n",
    "#### Model1: Linear Regression Model trained on ESOL Data"
   ]
  },
  {
   "cell_type": "code",
   "execution_count": 13,
   "id": "d2841807",
   "metadata": {},
   "outputs": [
    {
     "data": {
      "image/png": "[encoded data removed]",
      "text/plain": [
       "<Figure size 648x288 with 2 Axes>"
      ]
     },
     "metadata": {
      "needs_background": "light"
     },
     "output_type": "display_data"
    }
   ],
   "source": [
    "# train and evaluate model\n",
    "model1 = make_pipeline(esol_feature_pipeline, LinearRegression())\n",
    "model1.fit(X_train_esol, y_train_esol)\n",
    "\n",
    "train_sizes, train_scores, valid_scores = learning_curve(\n",
    "    model1, X_train_esol, y_train_esol, \n",
    "    train_sizes=np.linspace(0.05, 1.0, 50), \n",
    "    scoring=\"neg_root_mean_squared_error\")\n",
    "\n",
    "train_errors = -train_scores.mean(axis=1)\n",
    "valid_errors = -valid_scores.mean(axis=1)\n",
    "\n",
    "\n",
    "# plot the learning curve for the training set\n",
    "fig, axs = plt.subplots(1, 2, figsize=(9, 4), sharey=False)\n",
    "\n",
    "axs[0].grid()\n",
    "axs[0].plot(train_sizes, train_errors, \"r-+\", linewidth=2, label=\"training error\")\n",
    "axs[0].plot(train_sizes, valid_errors, \"b-\", linewidth=3, label=\"validation error\")\n",
    "axs[0].set_xlabel(\"training set size\")\n",
    "axs[0].set_ylabel(\"RMSE\")\n",
    "axs[0].legend(loc=\"lower right\")\n",
    "axs[0].set_title(\"model1 learning curve\")\n",
    "axs[0].axis([0, train_sizes.max(), 0, valid_errors.max()])\n",
    "\n",
    "axs[1].grid()\n",
    "axs[1].plot(train_sizes, train_errors, \"r-+\", linewidth=2, label=\"training error\")\n",
    "axs[1].plot(train_sizes, valid_errors, \"b-\", linewidth=3, label=\"validation error\")\n",
    "axs[1].set_xlabel(\"training set size\")\n",
    "axs[1].set_ylabel(\"RMSE\")\n",
    "axs[1].legend(loc=\"lower right\")\n",
    "axs[1].set_title(\"zoomed in\")\n",
    "axs[1].axis([train_sizes.min(), train_sizes.max(), train_errors.min(), valid_errors.max()])\n",
    "\n",
    "plt.show()"
   ]
  },
  {
   "cell_type": "markdown",
   "id": "25b72043",
   "metadata": {},
   "source": [
    "Overall, the model seems to be a good fit for the data. There is evidence of overfitting when training sets of under ~200 instances and escpecially when the set contains exactly 100 instances for some reason. Once the error begins to level out, there is slight evidence of the model overfitting the training set. The training error increases until 200 instances when it reaches an RMSE of 1.10, and then drops slightly but erratically to an RMSE of ~1.04 at about 500 instances and than increases again. After the size of the training set increases past 500, the training error rises slightly and seems to still show a positive slope when the full size of the training set is reached. It is possible that the model may fit the data better if more instances are added to the training set.The validation error starts out high but drops sharply to ~1.07, where it begins levels out. The slight gap between the plateaus of the training and validation error indicate slight overfitting on the training set, however, since the size of the gap is relatively small and training error is a bit erratic, the nothing drastic should be concluded. Additionally, since the error for both training and validation do not deviate much overall from between 1.00 and 1.20, model is underfitting."
   ]
  },
  {
   "cell_type": "code",
   "execution_count": 29,
   "id": "b8c08b0f",
   "metadata": {},
   "outputs": [
    {
     "name": "stdout",
     "output_type": "stream",
     "text": [
      "valid set RMSE: 1.0759970488456307\n",
      "test set RMSE: 1.093737708390814\n"
     ]
    }
   ],
   "source": [
    "# compare to performance on validation and test sets\n",
    "model1_pred_validset = model1.predict(X_valid_esol)\n",
    "model1_pred_testset = model1.predict(X_test_esol)\n",
    "\n",
    "model1_rmse_validset = mean_squared_error(y_valid_esol, model1_pred_validset, squared=False)\n",
    "model1_rmse_testset = mean_squared_error(y_test_esol, model1_pred_testset, squared=False)\n",
    "\n",
    "print(\"valid set RMSE:\", model1_rmse_validset)\n",
    "print(\"test set RMSE:\", model1_rmse_testset)"
   ]
  },
  {
   "cell_type": "markdown",
   "id": "b574b42c",
   "metadata": {},
   "source": [
    "The performance is about what we expect about roughly the same as the validation error from the learning curve. Since the model seems to slightly underfit the training data, this may be the best the base linear regression model can do with the provided training data."
   ]
  },
  {
   "cell_type": "markdown",
   "id": "e189796f",
   "metadata": {},
   "source": [
    "#### Model2: Random Forest Regression Model trained on ESOL Data"
   ]
  },
  {
   "cell_type": "code",
   "execution_count": 15,
   "id": "a5ceda7c",
   "metadata": {},
   "outputs": [
    {
     "data": {
      "image/png": "[encoded data removed]",
      "text/plain": [
       "<Figure size 648x288 with 2 Axes>"
      ]
     },
     "metadata": {
      "needs_background": "light"
     },
     "output_type": "display_data"
    }
   ],
   "source": [
    "# train and evaluate model\n",
    "model2 = make_pipeline(esol_feature_pipeline, RandomForestRegressor())\n",
    "model2.fit(X_train_esol, y_train_esol.values.ravel())\n",
    "\n",
    "train_sizes, train_scores, valid_scores = learning_curve(\n",
    "    model2, X_train_esol, y_train_esol.values.ravel(), \n",
    "    train_sizes=np.linspace(0.05, 1.0, 50), \n",
    "    scoring=\"neg_root_mean_squared_error\")\n",
    "\n",
    "train_errors = -train_scores.mean(axis=1)\n",
    "valid_errors = -valid_scores.mean(axis=1)\n",
    "\n",
    "\n",
    "# plot the learning curve for the training set\n",
    "fig, axs = plt.subplots(1, 2, figsize=(9, 4), sharey=False)\n",
    "\n",
    "axs[0].grid()\n",
    "axs[0].plot(train_sizes, train_errors, \"r-+\", linewidth=2, label=\"training error\")\n",
    "axs[0].plot(train_sizes, valid_errors, \"b-\", linewidth=3, label=\"validation error\")\n",
    "axs[0].set_xlabel(\"training set size\")\n",
    "axs[0].set_ylabel(\"RMSE\")\n",
    "axs[0].legend(loc=\"upper right\")\n",
    "axs[0].set_title(\"model2 learning curve\")\n",
    "\n",
    "axs[1].grid()\n",
    "axs[1].plot(train_sizes, train_errors, \"r-+\", linewidth=2, label=\"training error\")\n",
    "axs[1].plot(train_sizes, valid_errors, \"b-\", linewidth=3, label=\"validation error\")\n",
    "axs[1].set_xlabel(\"training set size\")\n",
    "axs[1].set_ylabel(\"RMSE\")\n",
    "axs[1].legend(loc=\"upper right\")\n",
    "axs[1].set_title(\"zoomed in\")\n",
    "axs[1].axis([train_sizes.min(), train_sizes.max(), train_errors.min(), valid_errors.max()])\n",
    "\n",
    "plt.show()"
   ]
  },
  {
   "cell_type": "markdown",
   "id": "6a0610b2",
   "metadata": {},
   "source": [
    "Here, the random forest regressor performs significantly better on the training set, indicating severe overfitting. The degree of overfitting does not seem to decrease much as the size to the training set increases, suggesting that this is a problem specific to the model itself. That being said, despite overfitting, this model still performs better on the validation set than model1."
   ]
  },
  {
   "cell_type": "code",
   "execution_count": 31,
   "id": "74f10ceb",
   "metadata": {},
   "outputs": [
    {
     "name": "stdout",
     "output_type": "stream",
     "text": [
      "valid set RMSE: 0.8659804869611056\n",
      "test set RMSE: 0.910865862126549\n"
     ]
    }
   ],
   "source": [
    "# compare to performance on validation and test sets\n",
    "model2_pred_validset = model2.predict(X_valid_esol)\n",
    "model2_pred_testset = model2.predict(X_test_esol)\n",
    "\n",
    "model2_rmse_validset = mean_squared_error(y_valid_esol, model2_pred_validset, squared=False)\n",
    "model2_rmse_testset = mean_squared_error(y_test_esol, model2_pred_testset, squared=False)\n",
    "\n",
    "print(\"valid set RMSE:\", model2_rmse_validset)\n",
    "print(\"test set RMSE:\", model2_rmse_testset)"
   ]
  },
  {
   "cell_type": "markdown",
   "id": "0eb4c92a",
   "metadata": {},
   "source": [
    "Again, the performance of the model on the validation and test sets is similar to what is shown on the learning curve. We know that the model overfits the training data, but it still performs better on the validation and test sets than the linear regression model."
   ]
  },
  {
   "cell_type": "markdown",
   "id": "790466ee",
   "metadata": {},
   "source": [
    "#### Model3: Linear Regression Model trained on RDkit Descriptors"
   ]
  },
  {
   "cell_type": "code",
   "execution_count": 22,
   "id": "3a0488f5",
   "metadata": {},
   "outputs": [
    {
     "data": {
      "image/png": "[encoded data removed]",
      "text/plain": [
       "<Figure size 1080x288 with 3 Axes>"
      ]
     },
     "metadata": {
      "needs_background": "light"
     },
     "output_type": "display_data"
    }
   ],
   "source": [
    "# train and evaluate the model\n",
    "model3 = LinearRegression().fit(X_train_desc, y_train_desc)\n",
    "\n",
    "train_sizes, train_scores, valid_scores = learning_curve(\n",
    "    model3, X_train_desc, y_train_desc, \n",
    "    train_sizes=np.linspace(0.05, 1.0, 50), \n",
    "    scoring=\"neg_root_mean_squared_error\")\n",
    "\n",
    "train_errors = -train_scores.mean(axis=1)\n",
    "valid_errors = -valid_scores.mean(axis=1)\n",
    "\n",
    "\n",
    "# plot the learning curve for the training set\n",
    "fig, axs = plt.subplots(1, 3, figsize=(15, 4), sharey=False)\n",
    "\n",
    "axs[0].grid()\n",
    "axs[0].plot(train_sizes, train_errors, \"r-+\", linewidth=2, label=\"training error\")\n",
    "axs[0].plot(train_sizes, valid_errors, \"b-\", linewidth=3, label=\"validation error\")\n",
    "axs[0].set_xlabel(\"training set size\")\n",
    "axs[0].set_ylabel(\"RMSE\")\n",
    "axs[0].legend(loc=\"upper right\")\n",
    "axs[0].set_title(\"model3 learning curve\")\n",
    "\n",
    "axs[1].grid()\n",
    "axs[1].plot(train_sizes, train_errors, \"r-+\", linewidth=2, label=\"training error\")\n",
    "axs[1].plot(train_sizes, valid_errors, \"b-\", linewidth=3, label=\"validation error\")\n",
    "axs[1].set_xlabel(\"training set size\")\n",
    "axs[1].set_ylabel(\"RMSE\")\n",
    "axs[1].legend(loc=\"upper right\")\n",
    "axs[1].set_title(\"zoomed in\")\n",
    "axs[1].axis([train_sizes.min(), train_sizes.max(), train_errors.min(), 1e28])\n",
    "\n",
    "axs[2].grid()\n",
    "axs[2].plot(train_sizes, train_errors, \"r-+\", linewidth=2, label=\"training error\")\n",
    "axs[2].plot(train_sizes, valid_errors, \"b-\", linewidth=3, label=\"validation error\")\n",
    "axs[2].set_xlabel(\"training set size\")\n",
    "axs[2].set_ylabel(\"RMSE\")\n",
    "axs[2].legend(loc=\"upper right\")\n",
    "axs[2].set_title(\"more zoomed in\")\n",
    "axs[2].axis([train_sizes.min(), train_sizes.max(), train_errors.min(), 4])\n",
    "plt.show()"
   ]
  },
  {
   "cell_type": "markdown",
   "id": "bd1cbf09",
   "metadata": {},
   "source": [
    "Not entirely sure what is going on here. When the training set has under 600 instances, the model is seemingly unable to predict anything correctly for the validation set. The model is severely overfitting the training set. Perhaps I did something wrong? It is difficult to decide whether and/or how the descriptors need to be transformed since there are so many. I tested once with tranforming the descriptors, but the results were essentially the same."
   ]
  },
  {
   "cell_type": "code",
   "execution_count": 32,
   "id": "285cf809",
   "metadata": {},
   "outputs": [
    {
     "name": "stdout",
     "output_type": "stream",
     "text": [
      "valid set RMSE: 2.2065638512057695\n",
      "test set RMSE: 1.9981263136134653\n"
     ]
    }
   ],
   "source": [
    "# compare to performance on validation and test sets\n",
    "model3_pred_validset = model3.predict(X_valid_desc)\n",
    "model3_pred_testset = model3.predict(X_test_desc)\n",
    "\n",
    "model3_rmse_validset = mean_squared_error(y_valid_desc, model3_pred_validset, squared=False)\n",
    "model3_rmse_testset = mean_squared_error(y_test_desc, model3_pred_testset, squared=False)\n",
    "\n",
    "print(\"valid set RMSE:\", model3_rmse_validset)\n",
    "print(\"test set RMSE:\", model3_rmse_testset)"
   ]
  },
  {
   "cell_type": "markdown",
   "id": "f892666e",
   "metadata": {},
   "source": [
    "The performance on the validation and test sets are similar to the validation error found by the learning curve for training sets with more than 500 instances. That being said, this model trained on the molecular descriptors performs significanly worse than the models trained on the esol data. "
   ]
  },
  {
   "cell_type": "markdown",
   "id": "eaf70eb0",
   "metadata": {},
   "source": [
    "### Model4: Lasso Linear Regression Model trained on RDkit Descriptors"
   ]
  },
  {
   "cell_type": "code",
   "execution_count": 33,
   "id": "2d6ba5d9",
   "metadata": {},
   "outputs": [
    {
     "data": {
      "image/png": "[encoded data removed]",
      "text/plain": [
       "<Figure size 1080x288 with 3 Axes>"
      ]
     },
     "metadata": {
      "needs_background": "light"
     },
     "output_type": "display_data"
    }
   ],
   "source": [
    "# train and evaluate model\n",
    "model4 = LassoCV(cv=10)\n",
    "model4.fit(X_train_desc, y_train_desc.values.ravel())\n",
    "\n",
    "train_sizes, train_scores, valid_scores = learning_curve(\n",
    "    model4, X_train_desc, y_train_desc.values.ravel(), \n",
    "    train_sizes=np.linspace(0.05, 1.0, 50), \n",
    "    scoring=\"neg_root_mean_squared_error\")\n",
    "\n",
    "train_errors = -train_scores.mean(axis=1)\n",
    "valid_errors = -valid_scores.mean(axis=1)\n",
    "\n",
    "\n",
    "# plot the learning curve for the training set\n",
    "fig, axs = plt.subplots(1, 3, figsize=(15, 4), sharey=False)\n",
    "\n",
    "axs[0].grid()\n",
    "axs[0].plot(train_sizes, train_errors, \"r-+\", linewidth=2, label=\"training error\")\n",
    "axs[0].plot(train_sizes, valid_errors, \"b-\", linewidth=3, label=\"validation error\")\n",
    "axs[0].set_xlabel(\"training set size\")\n",
    "axs[0].set_ylabel(\"RMSE\")\n",
    "axs[0].legend(loc=\"upper right\")\n",
    "axs[0].set_title(\"model3 learning curve\")\n",
    "\n",
    "axs[1].grid()\n",
    "axs[1].plot(train_sizes, train_errors, \"r-+\", linewidth=2, label=\"training error\")\n",
    "axs[1].plot(train_sizes, valid_errors, \"b-\", linewidth=3, label=\"validation error\")\n",
    "axs[1].set_xlabel(\"training set size\")\n",
    "axs[1].set_ylabel(\"RMSE\")\n",
    "axs[1].legend(loc=\"upper right\")\n",
    "axs[1].set_title(\"zoomed in\")\n",
    "axs[1].axis([train_sizes.min(), train_sizes.max(), train_errors.min(), 1e28])\n",
    "\n",
    "axs[2].grid()\n",
    "axs[2].plot(train_sizes, train_errors, \"r-+\", linewidth=2, label=\"training error\")\n",
    "axs[2].plot(train_sizes, valid_errors, \"b-\", linewidth=3, label=\"validation error\")\n",
    "axs[2].set_xlabel(\"training set size\")\n",
    "axs[2].set_ylabel(\"RMSE\")\n",
    "axs[2].legend(loc=\"upper right\")\n",
    "axs[2].set_title(\"more zoomed in\")\n",
    "axs[2].axis([train_sizes.min(), train_sizes.max(), train_errors.min(), 2.2])\n",
    "plt.show()"
   ]
  },
  {
   "cell_type": "markdown",
   "id": "fc700f0f",
   "metadata": {},
   "source": [
    "Why...? Looking past the massive validation error in the beginning, even after 500 instances this model still performs worse on both the training and validation set than the models that were trained using the esol dataset. :("
   ]
  },
  {
   "cell_type": "code",
   "execution_count": 35,
   "id": "a9ae56aa",
   "metadata": {},
   "outputs": [
    {
     "name": "stdout",
     "output_type": "stream",
     "text": [
      "valid set RMSE: 2.206601239988318\n",
      "test set RMSE: 1.9981040920509852\n"
     ]
    }
   ],
   "source": [
    "# compare to performance on validation and test sets\n",
    "model4_pred_validset = model4.predict(X_valid_desc)\n",
    "model4_pred_testset = model4.predict(X_test_desc)\n",
    "\n",
    "model4_rmse_validset = mean_squared_error(y_valid_desc, model4_pred_validset, squared=False)\n",
    "model4_rmse_testset = mean_squared_error(y_test_desc, model4_pred_testset, squared=False)\n",
    "\n",
    "print(\"valid set RMSE:\", model4_rmse_validset)\n",
    "print(\"test set RMSE:\", model4_rmse_testset)"
   ]
  },
  {
   "cell_type": "markdown",
   "id": "504a7f17",
   "metadata": {},
   "source": [
    "The performance varies a bit between the validation set and test set. This may be due to random splitting. The performance overall is similar to the performance of the previous model. Like the previous model, it performs worse than models 1 and 2."
   ]
  },
  {
   "cell_type": "markdown",
   "id": "05de37fe",
   "metadata": {},
   "source": [
    "### Model5: Random Forest Model trained on RDkit Descriptors"
   ]
  },
  {
   "cell_type": "code",
   "execution_count": 34,
   "id": "e2a06942",
   "metadata": {
    "scrolled": true
   },
   "outputs": [
    {
     "ename": "ValueError",
     "evalue": "\nAll the 100 fits failed.\nIt is very likely that your model is misconfigured.\nYou can try to debug the error by setting error_score='raise'.\n\nBelow are more details about the failures:\n--------------------------------------------------------------------------------\n100 fits failed with the following error:\nTraceback (most recent call last):\n  File \"/Users/alex/opt/anaconda3/lib/python3.9/site-packages/sklearn/model_selection/_validation.py\", line 686, in _fit_and_score\n    estimator.fit(X_train, y_train, **fit_params)\n  File \"/Users/alex/opt/anaconda3/lib/python3.9/site-packages/sklearn/ensemble/_forest.py\", line 331, in fit\n    X, y = self._validate_data(\n  File \"/Users/alex/opt/anaconda3/lib/python3.9/site-packages/sklearn/base.py\", line 596, in _validate_data\n    X, y = check_X_y(X, y, **check_params)\n  File \"/Users/alex/opt/anaconda3/lib/python3.9/site-packages/sklearn/utils/validation.py\", line 1074, in check_X_y\n    X = check_array(\n  File \"/Users/alex/opt/anaconda3/lib/python3.9/site-packages/sklearn/utils/validation.py\", line 899, in check_array\n    _assert_all_finite(\n  File \"/Users/alex/opt/anaconda3/lib/python3.9/site-packages/sklearn/utils/validation.py\", line 146, in _assert_all_finite\n    raise ValueError(msg_err)\nValueError: Input X contains infinity or a value too large for dtype('float32').\n",
     "output_type": "error",
     "traceback": [
      "\u001b[0;31m---------------------------------------------------------------------------\u001b[0m",
      "\u001b[0;31mValueError\u001b[0m                                Traceback (most recent call last)",
      "\u001b[0;32m/var/folders/_p/f0myx_v151q54h3npxn57p100000gn/T/ipykernel_37342/3670527033.py\u001b[0m in \u001b[0;36m<module>\u001b[0;34m\u001b[0m\n\u001b[1;32m     11\u001b[0m                             cv=10, scoring='neg_root_mean_squared_error')\n\u001b[1;32m     12\u001b[0m \u001b[0;34m\u001b[0m\u001b[0m\n\u001b[0;32m---> 13\u001b[0;31m \u001b[0msearch\u001b[0m\u001b[0;34m.\u001b[0m\u001b[0mfit\u001b[0m\u001b[0;34m(\u001b[0m\u001b[0mX_train_desc\u001b[0m\u001b[0;34m,\u001b[0m \u001b[0my_train_desc\u001b[0m\u001b[0;34m.\u001b[0m\u001b[0mvalues\u001b[0m\u001b[0;34m.\u001b[0m\u001b[0mravel\u001b[0m\u001b[0;34m(\u001b[0m\u001b[0;34m)\u001b[0m\u001b[0;34m)\u001b[0m\u001b[0;34m\u001b[0m\u001b[0;34m\u001b[0m\u001b[0m\n\u001b[0m\u001b[1;32m     14\u001b[0m \u001b[0;34m\u001b[0m\u001b[0m\n\u001b[1;32m     15\u001b[0m \u001b[0mprint\u001b[0m\u001b[0;34m(\u001b[0m\u001b[0;34m\"Best hyperparameters: \"\u001b[0m\u001b[0;34m,\u001b[0m \u001b[0msearch\u001b[0m\u001b[0;34m.\u001b[0m\u001b[0mbest_params_\u001b[0m\u001b[0;34m)\u001b[0m\u001b[0;34m\u001b[0m\u001b[0;34m\u001b[0m\u001b[0m\n",
      "\u001b[0;32m~/opt/anaconda3/lib/python3.9/site-packages/sklearn/model_selection/_search.py\u001b[0m in \u001b[0;36mfit\u001b[0;34m(self, X, y, groups, **fit_params)\u001b[0m\n\u001b[1;32m    873\u001b[0m                 \u001b[0;32mreturn\u001b[0m \u001b[0mresults\u001b[0m\u001b[0;34m\u001b[0m\u001b[0;34m\u001b[0m\u001b[0m\n\u001b[1;32m    874\u001b[0m \u001b[0;34m\u001b[0m\u001b[0m\n\u001b[0;32m--> 875\u001b[0;31m             \u001b[0mself\u001b[0m\u001b[0;34m.\u001b[0m\u001b[0m_run_search\u001b[0m\u001b[0;34m(\u001b[0m\u001b[0mevaluate_candidates\u001b[0m\u001b[0;34m)\u001b[0m\u001b[0;34m\u001b[0m\u001b[0;34m\u001b[0m\u001b[0m\n\u001b[0m\u001b[1;32m    876\u001b[0m \u001b[0;34m\u001b[0m\u001b[0m\n\u001b[1;32m    877\u001b[0m             \u001b[0;31m# multimetric is determined here because in the case of a callable\u001b[0m\u001b[0;34m\u001b[0m\u001b[0;34m\u001b[0m\u001b[0m\n",
      "\u001b[0;32m~/opt/anaconda3/lib/python3.9/site-packages/sklearn/model_selection/_search.py\u001b[0m in \u001b[0;36m_run_search\u001b[0;34m(self, evaluate_candidates)\u001b[0m\n\u001b[1;32m   1747\u001b[0m     \u001b[0;32mdef\u001b[0m \u001b[0m_run_search\u001b[0m\u001b[0;34m(\u001b[0m\u001b[0mself\u001b[0m\u001b[0;34m,\u001b[0m \u001b[0mevaluate_candidates\u001b[0m\u001b[0;34m)\u001b[0m\u001b[0;34m:\u001b[0m\u001b[0;34m\u001b[0m\u001b[0;34m\u001b[0m\u001b[0m\n\u001b[1;32m   1748\u001b[0m         \u001b[0;34m\"\"\"Search n_iter candidates from param_distributions\"\"\"\u001b[0m\u001b[0;34m\u001b[0m\u001b[0;34m\u001b[0m\u001b[0m\n\u001b[0;32m-> 1749\u001b[0;31m         evaluate_candidates(\n\u001b[0m\u001b[1;32m   1750\u001b[0m             ParameterSampler(\n\u001b[1;32m   1751\u001b[0m                 \u001b[0mself\u001b[0m\u001b[0;34m.\u001b[0m\u001b[0mparam_distributions\u001b[0m\u001b[0;34m,\u001b[0m \u001b[0mself\u001b[0m\u001b[0;34m.\u001b[0m\u001b[0mn_iter\u001b[0m\u001b[0;34m,\u001b[0m \u001b[0mrandom_state\u001b[0m\u001b[0;34m=\u001b[0m\u001b[0mself\u001b[0m\u001b[0;34m.\u001b[0m\u001b[0mrandom_state\u001b[0m\u001b[0;34m\u001b[0m\u001b[0;34m\u001b[0m\u001b[0m\n",
      "\u001b[0;32m~/opt/anaconda3/lib/python3.9/site-packages/sklearn/model_selection/_search.py\u001b[0m in \u001b[0;36mevaluate_candidates\u001b[0;34m(candidate_params, cv, more_results)\u001b[0m\n\u001b[1;32m    850\u001b[0m                     )\n\u001b[1;32m    851\u001b[0m \u001b[0;34m\u001b[0m\u001b[0m\n\u001b[0;32m--> 852\u001b[0;31m                 \u001b[0m_warn_or_raise_about_fit_failures\u001b[0m\u001b[0;34m(\u001b[0m\u001b[0mout\u001b[0m\u001b[0;34m,\u001b[0m \u001b[0mself\u001b[0m\u001b[0;34m.\u001b[0m\u001b[0merror_score\u001b[0m\u001b[0;34m)\u001b[0m\u001b[0;34m\u001b[0m\u001b[0;34m\u001b[0m\u001b[0m\n\u001b[0m\u001b[1;32m    853\u001b[0m \u001b[0;34m\u001b[0m\u001b[0m\n\u001b[1;32m    854\u001b[0m                 \u001b[0;31m# For callable self.scoring, the return type is only know after\u001b[0m\u001b[0;34m\u001b[0m\u001b[0;34m\u001b[0m\u001b[0m\n",
      "\u001b[0;32m~/opt/anaconda3/lib/python3.9/site-packages/sklearn/model_selection/_validation.py\u001b[0m in \u001b[0;36m_warn_or_raise_about_fit_failures\u001b[0;34m(results, error_score)\u001b[0m\n\u001b[1;32m    365\u001b[0m                 \u001b[0;34mf\"Below are more details about the failures:\\n{fit_errors_summary}\"\u001b[0m\u001b[0;34m\u001b[0m\u001b[0;34m\u001b[0m\u001b[0m\n\u001b[1;32m    366\u001b[0m             )\n\u001b[0;32m--> 367\u001b[0;31m             \u001b[0;32mraise\u001b[0m \u001b[0mValueError\u001b[0m\u001b[0;34m(\u001b[0m\u001b[0mall_fits_failed_message\u001b[0m\u001b[0;34m)\u001b[0m\u001b[0;34m\u001b[0m\u001b[0;34m\u001b[0m\u001b[0m\n\u001b[0m\u001b[1;32m    368\u001b[0m \u001b[0;34m\u001b[0m\u001b[0m\n\u001b[1;32m    369\u001b[0m         \u001b[0;32melse\u001b[0m\u001b[0;34m:\u001b[0m\u001b[0;34m\u001b[0m\u001b[0;34m\u001b[0m\u001b[0m\n",
      "\u001b[0;31mValueError\u001b[0m: \nAll the 100 fits failed.\nIt is very likely that your model is misconfigured.\nYou can try to debug the error by setting error_score='raise'.\n\nBelow are more details about the failures:\n--------------------------------------------------------------------------------\n100 fits failed with the following error:\nTraceback (most recent call last):\n  File \"/Users/alex/opt/anaconda3/lib/python3.9/site-packages/sklearn/model_selection/_validation.py\", line 686, in _fit_and_score\n    estimator.fit(X_train, y_train, **fit_params)\n  File \"/Users/alex/opt/anaconda3/lib/python3.9/site-packages/sklearn/ensemble/_forest.py\", line 331, in fit\n    X, y = self._validate_data(\n  File \"/Users/alex/opt/anaconda3/lib/python3.9/site-packages/sklearn/base.py\", line 596, in _validate_data\n    X, y = check_X_y(X, y, **check_params)\n  File \"/Users/alex/opt/anaconda3/lib/python3.9/site-packages/sklearn/utils/validation.py\", line 1074, in check_X_y\n    X = check_array(\n  File \"/Users/alex/opt/anaconda3/lib/python3.9/site-packages/sklearn/utils/validation.py\", line 899, in check_array\n    _assert_all_finite(\n  File \"/Users/alex/opt/anaconda3/lib/python3.9/site-packages/sklearn/utils/validation.py\", line 146, in _assert_all_finite\n    raise ValueError(msg_err)\nValueError: Input X contains infinity or a value too large for dtype('float32').\n"
     ]
    }
   ],
   "source": [
    "# hyperparam grid to search over\n",
    "param_grid = {'n_estimators': [int(x) for x in np.linspace(200, 2000, 10)],\n",
    "               'max_features': ['auto', 'sqrt'],\n",
    "               'max_depth': [int(x) for x in np.linspace(10, 110,  11)],\n",
    "               'min_samples_split': [2, 5, 10],\n",
    "               'min_samples_leaf': [1, 2, 4],\n",
    "               'bootstrap': [True, False]}\n",
    "\n",
    "model5 = RandomForestRegressor()\n",
    "search = RandomizedSearchCV(model5, param_distributions=param_grid, \n",
    "                            cv=10, scoring='neg_root_mean_squared_error')\n",
    "\n",
    "search.fit(X_train_desc, y_train_desc.values.ravel())\n",
    "\n",
    "print(\"Best hyperparameters: \", search.best_params_)\n",
    "print(\"Best score: \", -search.best_score_)"
   ]
  },
  {
   "cell_type": "code",
   "execution_count": 36,
   "id": "27688f92",
   "metadata": {},
   "outputs": [
    {
     "ename": "ValueError",
     "evalue": "Input X contains infinity or a value too large for dtype('float32').",
     "output_type": "error",
     "traceback": [
      "\u001b[0;31m---------------------------------------------------------------------------\u001b[0m",
      "\u001b[0;31mValueError\u001b[0m                                Traceback (most recent call last)",
      "\u001b[0;32m/var/folders/_p/f0myx_v151q54h3npxn57p100000gn/T/ipykernel_37342/2028290663.py\u001b[0m in \u001b[0;36m<module>\u001b[0;34m\u001b[0m\n\u001b[1;32m      1\u001b[0m \u001b[0;31m# train, tune, and evaluate model\u001b[0m\u001b[0;34m\u001b[0m\u001b[0;34m\u001b[0m\u001b[0m\n\u001b[1;32m      2\u001b[0m \u001b[0mmodel5\u001b[0m \u001b[0;34m=\u001b[0m \u001b[0mRandomForestRegressor\u001b[0m\u001b[0;34m(\u001b[0m\u001b[0;34m)\u001b[0m\u001b[0;34m\u001b[0m\u001b[0;34m\u001b[0m\u001b[0m\n\u001b[0;32m----> 3\u001b[0;31m \u001b[0mmodel5\u001b[0m\u001b[0;34m.\u001b[0m\u001b[0mfit\u001b[0m\u001b[0;34m(\u001b[0m\u001b[0mX_train_desc\u001b[0m\u001b[0;34m,\u001b[0m \u001b[0my_train_desc\u001b[0m\u001b[0;34m.\u001b[0m\u001b[0mvalues\u001b[0m\u001b[0;34m.\u001b[0m\u001b[0mravel\u001b[0m\u001b[0;34m(\u001b[0m\u001b[0;34m)\u001b[0m\u001b[0;34m)\u001b[0m\u001b[0;34m\u001b[0m\u001b[0;34m\u001b[0m\u001b[0m\n\u001b[0m\u001b[1;32m      4\u001b[0m \u001b[0;34m\u001b[0m\u001b[0m\n\u001b[1;32m      5\u001b[0m train_sizes, train_scores, valid_scores = learning_curve(\n",
      "\u001b[0;32m~/opt/anaconda3/lib/python3.9/site-packages/sklearn/ensemble/_forest.py\u001b[0m in \u001b[0;36mfit\u001b[0;34m(self, X, y, sample_weight)\u001b[0m\n\u001b[1;32m    329\u001b[0m         \u001b[0;32mif\u001b[0m \u001b[0missparse\u001b[0m\u001b[0;34m(\u001b[0m\u001b[0my\u001b[0m\u001b[0;34m)\u001b[0m\u001b[0;34m:\u001b[0m\u001b[0;34m\u001b[0m\u001b[0;34m\u001b[0m\u001b[0m\n\u001b[1;32m    330\u001b[0m             \u001b[0;32mraise\u001b[0m \u001b[0mValueError\u001b[0m\u001b[0;34m(\u001b[0m\u001b[0;34m\"sparse multilabel-indicator for y is not supported.\"\u001b[0m\u001b[0;34m)\u001b[0m\u001b[0;34m\u001b[0m\u001b[0;34m\u001b[0m\u001b[0m\n\u001b[0;32m--> 331\u001b[0;31m         X, y = self._validate_data(\n\u001b[0m\u001b[1;32m    332\u001b[0m             \u001b[0mX\u001b[0m\u001b[0;34m,\u001b[0m \u001b[0my\u001b[0m\u001b[0;34m,\u001b[0m \u001b[0mmulti_output\u001b[0m\u001b[0;34m=\u001b[0m\u001b[0;32mTrue\u001b[0m\u001b[0;34m,\u001b[0m \u001b[0maccept_sparse\u001b[0m\u001b[0;34m=\u001b[0m\u001b[0;34m\"csc\"\u001b[0m\u001b[0;34m,\u001b[0m \u001b[0mdtype\u001b[0m\u001b[0;34m=\u001b[0m\u001b[0mDTYPE\u001b[0m\u001b[0;34m\u001b[0m\u001b[0;34m\u001b[0m\u001b[0m\n\u001b[1;32m    333\u001b[0m         )\n",
      "\u001b[0;32m~/opt/anaconda3/lib/python3.9/site-packages/sklearn/base.py\u001b[0m in \u001b[0;36m_validate_data\u001b[0;34m(self, X, y, reset, validate_separately, **check_params)\u001b[0m\n\u001b[1;32m    594\u001b[0m                 \u001b[0my\u001b[0m \u001b[0;34m=\u001b[0m \u001b[0mcheck_array\u001b[0m\u001b[0;34m(\u001b[0m\u001b[0my\u001b[0m\u001b[0;34m,\u001b[0m \u001b[0minput_name\u001b[0m\u001b[0;34m=\u001b[0m\u001b[0;34m\"y\"\u001b[0m\u001b[0;34m,\u001b[0m \u001b[0;34m**\u001b[0m\u001b[0mcheck_y_params\u001b[0m\u001b[0;34m)\u001b[0m\u001b[0;34m\u001b[0m\u001b[0;34m\u001b[0m\u001b[0m\n\u001b[1;32m    595\u001b[0m             \u001b[0;32melse\u001b[0m\u001b[0;34m:\u001b[0m\u001b[0;34m\u001b[0m\u001b[0;34m\u001b[0m\u001b[0m\n\u001b[0;32m--> 596\u001b[0;31m                 \u001b[0mX\u001b[0m\u001b[0;34m,\u001b[0m \u001b[0my\u001b[0m \u001b[0;34m=\u001b[0m \u001b[0mcheck_X_y\u001b[0m\u001b[0;34m(\u001b[0m\u001b[0mX\u001b[0m\u001b[0;34m,\u001b[0m \u001b[0my\u001b[0m\u001b[0;34m,\u001b[0m \u001b[0;34m**\u001b[0m\u001b[0mcheck_params\u001b[0m\u001b[0;34m)\u001b[0m\u001b[0;34m\u001b[0m\u001b[0;34m\u001b[0m\u001b[0m\n\u001b[0m\u001b[1;32m    597\u001b[0m             \u001b[0mout\u001b[0m \u001b[0;34m=\u001b[0m \u001b[0mX\u001b[0m\u001b[0;34m,\u001b[0m \u001b[0my\u001b[0m\u001b[0;34m\u001b[0m\u001b[0;34m\u001b[0m\u001b[0m\n\u001b[1;32m    598\u001b[0m \u001b[0;34m\u001b[0m\u001b[0m\n",
      "\u001b[0;32m~/opt/anaconda3/lib/python3.9/site-packages/sklearn/utils/validation.py\u001b[0m in \u001b[0;36mcheck_X_y\u001b[0;34m(X, y, accept_sparse, accept_large_sparse, dtype, order, copy, force_all_finite, ensure_2d, allow_nd, multi_output, ensure_min_samples, ensure_min_features, y_numeric, estimator)\u001b[0m\n\u001b[1;32m   1072\u001b[0m         )\n\u001b[1;32m   1073\u001b[0m \u001b[0;34m\u001b[0m\u001b[0m\n\u001b[0;32m-> 1074\u001b[0;31m     X = check_array(\n\u001b[0m\u001b[1;32m   1075\u001b[0m         \u001b[0mX\u001b[0m\u001b[0;34m,\u001b[0m\u001b[0;34m\u001b[0m\u001b[0;34m\u001b[0m\u001b[0m\n\u001b[1;32m   1076\u001b[0m         \u001b[0maccept_sparse\u001b[0m\u001b[0;34m=\u001b[0m\u001b[0maccept_sparse\u001b[0m\u001b[0;34m,\u001b[0m\u001b[0;34m\u001b[0m\u001b[0;34m\u001b[0m\u001b[0m\n",
      "\u001b[0;32m~/opt/anaconda3/lib/python3.9/site-packages/sklearn/utils/validation.py\u001b[0m in \u001b[0;36mcheck_array\u001b[0;34m(array, accept_sparse, accept_large_sparse, dtype, order, copy, force_all_finite, ensure_2d, allow_nd, ensure_min_samples, ensure_min_features, estimator, input_name)\u001b[0m\n\u001b[1;32m    897\u001b[0m \u001b[0;34m\u001b[0m\u001b[0m\n\u001b[1;32m    898\u001b[0m         \u001b[0;32mif\u001b[0m \u001b[0mforce_all_finite\u001b[0m\u001b[0;34m:\u001b[0m\u001b[0;34m\u001b[0m\u001b[0;34m\u001b[0m\u001b[0m\n\u001b[0;32m--> 899\u001b[0;31m             _assert_all_finite(\n\u001b[0m\u001b[1;32m    900\u001b[0m                 \u001b[0marray\u001b[0m\u001b[0;34m,\u001b[0m\u001b[0;34m\u001b[0m\u001b[0;34m\u001b[0m\u001b[0m\n\u001b[1;32m    901\u001b[0m                 \u001b[0minput_name\u001b[0m\u001b[0;34m=\u001b[0m\u001b[0minput_name\u001b[0m\u001b[0;34m,\u001b[0m\u001b[0;34m\u001b[0m\u001b[0;34m\u001b[0m\u001b[0m\n",
      "\u001b[0;32m~/opt/anaconda3/lib/python3.9/site-packages/sklearn/utils/validation.py\u001b[0m in \u001b[0;36m_assert_all_finite\u001b[0;34m(X, allow_nan, msg_dtype, estimator_name, input_name)\u001b[0m\n\u001b[1;32m    144\u001b[0m                     \u001b[0;34m\"#estimators-that-handle-nan-values\"\u001b[0m\u001b[0;34m\u001b[0m\u001b[0;34m\u001b[0m\u001b[0m\n\u001b[1;32m    145\u001b[0m                 )\n\u001b[0;32m--> 146\u001b[0;31m             \u001b[0;32mraise\u001b[0m \u001b[0mValueError\u001b[0m\u001b[0;34m(\u001b[0m\u001b[0mmsg_err\u001b[0m\u001b[0;34m)\u001b[0m\u001b[0;34m\u001b[0m\u001b[0;34m\u001b[0m\u001b[0m\n\u001b[0m\u001b[1;32m    147\u001b[0m \u001b[0;34m\u001b[0m\u001b[0m\n\u001b[1;32m    148\u001b[0m     \u001b[0;31m# for object dtype data, we only check for NaNs (GH-13254)\u001b[0m\u001b[0;34m\u001b[0m\u001b[0;34m\u001b[0m\u001b[0m\n",
      "\u001b[0;31mValueError\u001b[0m: Input X contains infinity or a value too large for dtype('float32')."
     ]
    }
   ],
   "source": [
    "# train, tune, and evaluate model\n",
    "model5 = RandomForestRegressor()\n",
    "model5.fit(X_train_desc, y_train_desc.values.ravel())\n",
    "\n",
    "train_sizes, train_scores, valid_scores = learning_curve(\n",
    "    model5, X_train_desc, y_train_desc.values.ravel(), \n",
    "    train_sizes=np.linspace(0.05, 1.0, 50), \n",
    "    scoring=\"neg_root_mean_squared_error\")\n",
    "\n",
    "train_errors = -train_scores.mean(axis=1)\n",
    "valid_errors = -valid_scores.mean(axis=1)\n",
    "\n",
    "\n",
    "# plot the learning curve for the training set\n",
    "fig, axs = plt.subplots(1, 2, figsize=(9, 4), sharey=False)\n",
    "\n",
    "axs[0].grid()\n",
    "axs[0].plot(train_sizes, train_errors, \"r-+\", linewidth=2, label=\"training error\")\n",
    "axs[0].plot(train_sizes, valid_errors, \"b-\", linewidth=3, label=\"validation error\")\n",
    "axs[0].set_xlabel(\"training set size\")\n",
    "axs[0].set_ylabel(\"RMSE\")\n",
    "axs[0].legend(loc=\"upper right\")\n",
    "axs[0].set_title(\"model5 learning curve\")\n",
    "\n",
    "axs[1].grid()\n",
    "axs[1].plot(train_sizes, train_errors, \"r-+\", linewidth=2, label=\"training error\")\n",
    "axs[1].plot(train_sizes, valid_errors, \"b-\", linewidth=3, label=\"validation error\")\n",
    "axs[1].set_xlabel(\"training set size\")\n",
    "axs[1].set_ylabel(\"RMSE\")\n",
    "axs[1].legend(loc=\"upper right\")\n",
    "axs[1].set_title(\"zoomed in\")\n",
    "axs[1].axis([train_sizes.min(), train_sizes.max(), train_errors.min(), valid_errors.max()])\n",
    "\n",
    "plt.show()"
   ]
  },
  {
   "cell_type": "markdown",
   "id": "faf5c18d",
   "metadata": {},
   "source": [
    "Could not get this to work. I guess that I'm misunderstanding something..."
   ]
  },
  {
   "cell_type": "markdown",
   "id": "10a2426d",
   "metadata": {},
   "source": [
    "### Findings"
   ]
  },
  {
   "cell_type": "markdown",
   "id": "2ed9b593",
   "metadata": {},
   "source": [
    "The models trained on the rdkit molecular descriptors performed much worse than the models trained on the esol data. The learning curves for the models trained on descriptors were all over the place, but they all seem to have a common attribute of suddenly making better predictions for training sets larger than 500. I'm guessing that the problem with the molecular descriptors is that not all features were informative. This could be a step taken to improve all the models trained on descriptors. Since there are many many descriptors for each molecule, and each set of descriptors may have different distributions or scales, this step may take a long time.\n",
    "\n",
    "Both models trained on the esol data performed pretty well. We can see that validation error began to plateau for model1 as we reached the full size of the training set, suggesting that the training set might not be able to perform much better than we see above. Model2 has a problem of severely overfitting the training data, but even with overfitting, it does a good job of predicting on the validation and testing set. In fact, it did the best out of all the models I tried. Looking at the learning curves for model1, we can see that both the validation and training error steadily drop as the training set size increases. The full training set is only about 700 instances, but looking at the trends, it might be worthwhile to get more data and train model2 with an even larger training set. "
   ]
  }
 ],
 "metadata": {
  "kernelspec": {
   "display_name": "mlms2023",
   "language": "python",
   "name": "mlms2023"
  },
  "language_info": {
   "codemirror_mode": {
    "name": "ipython",
    "version": 3
   },
   "file_extension": ".py",
   "mimetype": "text/x-python",
   "name": "python",
   "nbconvert_exporter": "python",
   "pygments_lexer": "ipython3",
   "version": "3.9.7"
  }
 },
 "nbformat": 4,
 "nbformat_minor": 5
}
