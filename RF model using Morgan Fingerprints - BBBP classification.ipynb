{
 "cells": [
  {
   "cell_type": "markdown",
   "id": "9d127442",
   "metadata": {},
   "source": [
    "## Task: Random Forest Model for BBBP Classifier using Morgan Fingerprints and Hyperparameter Optimization\n",
    "\n",
    "* Develop a random forest model for the BBBP classifier using the default hyperparameters and Morgan fingerprints, and report the performance measure (ROC_AUC) for all three datasets.\n",
    "\n",
    "* List the default hyperparameters used in the model (n_estimators, max_depth, min_samples_leaf, min_impurity_decrease, max_features).\n",
    "\n",
    "* Optimize the model using grid search to find the optimal set of hyperparameters and report the performance measure (ROC_AUC) for all three datasets with optimized hyperparameters.\n",
    "\n",
    "* Compare results with the baseline model and the results reported in Table 4 of the following paper: https://jcheminf.biomedcentral.com/articles/10.1186/s13321-020-00479-8\n",
    "\n",
    "* Summarize results and comment on the hyperparameters explored in the paper. (The paper explored the following hyperparameters: n_estimators (10, 50, 100, 200, 300, 400, 500), max_depth (3 to 12), min_samples_leaf (1, 3, 5, 10, 20, 50), min_impurity_decrease (0 to 0.01), and max_features (‘sqrt’, ‘log2’, 0.7, 0.8, 0.9).\n",
    "\n"
   ]
  },
  {
   "cell_type": "markdown",
   "id": "3575bbf7",
   "metadata": {},
   "source": [
    "### import modules"
   ]
  },
  {
   "cell_type": "code",
   "execution_count": 1,
   "id": "e7fc4037",
   "metadata": {},
   "outputs": [],
   "source": [
    "import pandas as pd\n",
    "import numpy as np\n",
    "import matplotlib.pyplot as plt\n",
    "\n",
    "from rdkit import Chem\n",
    "from rdkit.Chem import AllChem\n",
    "\n",
    "from sklearn.model_selection import (train_test_split, \n",
    "                                     cross_val_predict, \n",
    "                                     GridSearchCV)\n",
    "from sklearn.ensemble import RandomForestClassifier\n",
    "from sklearn.metrics import roc_auc_score"
   ]
  },
  {
   "cell_type": "markdown",
   "id": "4fd9bf5c",
   "metadata": {},
   "source": [
    "### import data"
   ]
  },
  {
   "cell_type": "code",
   "execution_count": 2,
   "id": "3087bb02",
   "metadata": {},
   "outputs": [
    {
     "data": {
      "text/html": [
       "<div>\n",
       "<style scoped>\n",
       "    .dataframe tbody tr th:only-of-type {\n",
       "        vertical-align: middle;\n",
       "    }\n",
       "\n",
       "    .dataframe tbody tr th {\n",
       "        vertical-align: top;\n",
       "    }\n",
       "\n",
       "    .dataframe thead th {\n",
       "        text-align: right;\n",
       "    }\n",
       "</style>\n",
       "<table border=\"1\" class=\"dataframe\">\n",
       "  <thead>\n",
       "    <tr style=\"text-align: right;\">\n",
       "      <th></th>\n",
       "      <th>num</th>\n",
       "      <th>name</th>\n",
       "      <th>p_np</th>\n",
       "      <th>smiles</th>\n",
       "    </tr>\n",
       "  </thead>\n",
       "  <tbody>\n",
       "    <tr>\n",
       "      <th>0</th>\n",
       "      <td>1</td>\n",
       "      <td>Propanolol</td>\n",
       "      <td>1</td>\n",
       "      <td>[Cl].CC(C)NCC(O)COc1cccc2ccccc12</td>\n",
       "    </tr>\n",
       "    <tr>\n",
       "      <th>1</th>\n",
       "      <td>2</td>\n",
       "      <td>Terbutylchlorambucil</td>\n",
       "      <td>1</td>\n",
       "      <td>C(=O)(OC(C)(C)C)CCCc1ccc(cc1)N(CCCl)CCCl</td>\n",
       "    </tr>\n",
       "    <tr>\n",
       "      <th>2</th>\n",
       "      <td>3</td>\n",
       "      <td>40730</td>\n",
       "      <td>1</td>\n",
       "      <td>c12c3c(N4CCN(C)CC4)c(F)cc1c(c(C(O)=O)cn2C(C)CO...</td>\n",
       "    </tr>\n",
       "    <tr>\n",
       "      <th>3</th>\n",
       "      <td>4</td>\n",
       "      <td>24</td>\n",
       "      <td>1</td>\n",
       "      <td>C1CCN(CC1)Cc1cccc(c1)OCCCNC(=O)C</td>\n",
       "    </tr>\n",
       "    <tr>\n",
       "      <th>4</th>\n",
       "      <td>5</td>\n",
       "      <td>cloxacillin</td>\n",
       "      <td>1</td>\n",
       "      <td>Cc1onc(c2ccccc2Cl)c1C(=O)N[C@H]3[C@H]4SC(C)(C)...</td>\n",
       "    </tr>\n",
       "  </tbody>\n",
       "</table>\n",
       "</div>"
      ],
      "text/plain": [
       "   num                  name  p_np  \\\n",
       "0    1            Propanolol     1   \n",
       "1    2  Terbutylchlorambucil     1   \n",
       "2    3                 40730     1   \n",
       "3    4                    24     1   \n",
       "4    5           cloxacillin     1   \n",
       "\n",
       "                                              smiles  \n",
       "0                   [Cl].CC(C)NCC(O)COc1cccc2ccccc12  \n",
       "1           C(=O)(OC(C)(C)C)CCCc1ccc(cc1)N(CCCl)CCCl  \n",
       "2  c12c3c(N4CCN(C)CC4)c(F)cc1c(c(C(O)=O)cn2C(C)CO...  \n",
       "3                   C1CCN(CC1)Cc1cccc(c1)OCCCNC(=O)C  \n",
       "4  Cc1onc(c2ccccc2Cl)c1C(=O)N[C@H]3[C@H]4SC(C)(C)...  "
      ]
     },
     "execution_count": 2,
     "metadata": {},
     "output_type": "execute_result"
    }
   ],
   "source": [
    "bbbp = pd.read_csv(\"BBBP.csv\")\n",
    "bbbp.head()"
   ]
  },
  {
   "cell_type": "markdown",
   "id": "49898612",
   "metadata": {},
   "source": [
    "### calculate morgan fingerprints"
   ]
  },
  {
   "cell_type": "code",
   "execution_count": 3,
   "id": "d593b950",
   "metadata": {},
   "outputs": [],
   "source": [
    "# suppress warnings from invalid molecules\n",
    "# so error messages don't blow up — will deal later\n",
    "from rdkit import RDLogger\n",
    "RDLogger.DisableLog('rdApp.*')"
   ]
  },
  {
   "cell_type": "code",
   "execution_count": 4,
   "id": "6a9ae92a",
   "metadata": {},
   "outputs": [],
   "source": [
    "# function: generate canon SMILES\n",
    "def gen_canon_smiles(smiles_list):\n",
    "    \n",
    "    invalid_ids = []\n",
    "    canon_smiles = []\n",
    "\n",
    "    for i in range(len(smiles_list)):   \n",
    "        mol = Chem.MolFromSmiles(smiles_list[i])\n",
    "        \n",
    "        # do not append NoneType if invalid\n",
    "        if mol is None: \n",
    "            invalid_ids.append(i)\n",
    "            continue\n",
    "\n",
    "        canon_smiles.append(Chem.MolToSmiles(mol))\n",
    "\n",
    "    return canon_smiles, invalid_ids\n",
    "\n",
    "# function: calculate morgan fingerprints from SMILES\n",
    "def calc_morgan_fpts(smiles_list):\n",
    "    morgan_fingerprints = []\n",
    "    \n",
    "    for i in smiles_list:\n",
    "        mol = Chem.MolFromSmiles(i)\n",
    "        \n",
    "        # do not try to calculate if invalid\n",
    "        if mol is None: continue\n",
    "            \n",
    "        fpts = AllChem.GetMorganFingerprintAsBitVect(mol,2,2048)\n",
    "        mfpts = np.array(fpts)\n",
    "        morgan_fingerprints.append(mfpts) \n",
    "        \n",
    "    return np.array(morgan_fingerprints)"
   ]
  },
  {
   "cell_type": "code",
   "execution_count": 5,
   "id": "9bdd9705",
   "metadata": {},
   "outputs": [],
   "source": [
    "# generate canon smiles\n",
    "canon_smiles, invalid_ids = gen_canon_smiles(bbbp.smiles)\n",
    "\n",
    "# drop rows with invalid SMILES\n",
    "bbbp = bbbp.drop(invalid_ids)\n",
    "\n",
    "# replace SMILES with canon SMILES\n",
    "bbbp.smiles = canon_smiles\n",
    "\n",
    "# drop duplicates to prevent train/valid/test contamination\n",
    "bbbp.drop_duplicates(subset=['smiles'], inplace=True)"
   ]
  },
  {
   "cell_type": "code",
   "execution_count": 6,
   "id": "b46bf881",
   "metadata": {},
   "outputs": [],
   "source": [
    "X = calc_morgan_fpts(bbbp.smiles) # features\n",
    "y = bbbp.p_np # labels"
   ]
  },
  {
   "cell_type": "markdown",
   "id": "2415de83",
   "metadata": {},
   "source": [
    "### split data"
   ]
  },
  {
   "cell_type": "code",
   "execution_count": 7,
   "id": "969ce97c",
   "metadata": {},
   "outputs": [],
   "source": [
    "# split data into training set and everything else\n",
    "X_train, X_valid_and_test, y_train, y_valid_and_test = train_test_split(X, y, train_size=0.8)\n",
    "\n",
    "# split everything else into validation and test sets\n",
    "X_valid, X_test, y_valid, y_test = train_test_split(X_valid_and_test, y_valid_and_test, test_size=0.5)"
   ]
  },
  {
   "cell_type": "markdown",
   "id": "a2cf4cd0",
   "metadata": {},
   "source": [
    "### random forest model"
   ]
  },
  {
   "cell_type": "code",
   "execution_count": 8,
   "id": "9b19f5ba",
   "metadata": {},
   "outputs": [],
   "source": [
    "# train and fit\n",
    "forest = RandomForestClassifier().fit(X_train, y_train)"
   ]
  },
  {
   "cell_type": "code",
   "execution_count": 9,
   "id": "69de9ca9",
   "metadata": {},
   "outputs": [
    {
     "name": "stdout",
     "output_type": "stream",
     "text": [
      "train_set scores: 0.9999955327228055\n",
      "valid_set scores: 0.8754136789851075\n",
      "test_set scores : 0.9012714558169103\n"
     ]
    }
   ],
   "source": [
    "# compute decision scores\n",
    "y_train_scores = forest.predict_proba(X_train)\n",
    "y_valid_scores = forest.predict_proba(X_valid)\n",
    "y_test_scores = forest.predict_proba(X_test)\n",
    "\n",
    "# print ROC-AOC scores\n",
    "print(\"train_set scores:\", roc_auc_score(y_train, y_train_scores[:,1]))\n",
    "print(\"valid_set scores:\", roc_auc_score(y_valid, y_valid_scores[:,1]))\n",
    "print(\"test_set scores :\", roc_auc_score(y_test, y_test_scores[:,1]))"
   ]
  },
  {
   "cell_type": "markdown",
   "id": "7f7a22b9",
   "metadata": {},
   "source": [
    "The model overfits the training set, we can see this as the performance on the training set is significantly higher than than the performance on the validation or test sets."
   ]
  },
  {
   "cell_type": "code",
   "execution_count": 10,
   "id": "51b7d61d",
   "metadata": {},
   "outputs": [
    {
     "data": {
      "text/plain": [
       "{'bootstrap': True,\n",
       " 'ccp_alpha': 0.0,\n",
       " 'class_weight': None,\n",
       " 'criterion': 'gini',\n",
       " 'max_depth': None,\n",
       " 'max_features': 'sqrt',\n",
       " 'max_leaf_nodes': None,\n",
       " 'max_samples': None,\n",
       " 'min_impurity_decrease': 0.0,\n",
       " 'min_samples_leaf': 1,\n",
       " 'min_samples_split': 2,\n",
       " 'min_weight_fraction_leaf': 0.0,\n",
       " 'n_estimators': 100,\n",
       " 'n_jobs': None,\n",
       " 'oob_score': False,\n",
       " 'random_state': None,\n",
       " 'verbose': 0,\n",
       " 'warm_start': False}"
      ]
     },
     "execution_count": 10,
     "metadata": {},
     "output_type": "execute_result"
    }
   ],
   "source": [
    "# print default hyperparams\n",
    "forest.get_params()"
   ]
  },
  {
   "cell_type": "code",
   "execution_count": null,
   "id": "e86c8895",
   "metadata": {},
   "outputs": [],
   "source": [
    "# optimize model with grid search\n",
    "params = {\n",
    "    'n_estimators': [10, 50, 100, 200, 300, 400, 500], \n",
    "    'max_depth': [int(x) for x in np.linspace(3, 12)] + [None], \n",
    "    'max_features': ['log2', 'sqrt', 0.7, 0.8, 0.9], \n",
    "    'min_samples_split': [int(x) for x in np.linspace(2, 6, 5)],\n",
    "    'min_samples_leaf': [1, 3, 5, 10, 20, 50]\n",
    "}\n",
    "\n",
    "forest_op = GridSearchCV(forest, params, cv=3, n_jobs=-1)\n",
    "forest_op.fit(X_train, y_train)\n",
    "forest_op.best_estimator_"
   ]
  },
  {
   "cell_type": "code",
   "execution_count": null,
   "id": "97d1d0fb",
   "metadata": {},
   "outputs": [],
   "source": [
    "forest_op = forest_op.best_estimator_\n",
    "\n",
    "# compute decision scores\n",
    "y_train_scores = forest_op.predict_proba(X_train)\n",
    "y_valid_scores = forest_op.predict_proba(X_valid)\n",
    "y_test_scores = forest_op.predict_proba(X_test)\n",
    "\n",
    "# print ROC-AOC scores\n",
    "print(\"train_set scores:\", roc_auc_score(y_train, y_train_scores[:,1]))\n",
    "print(\"valid_set scores:\", roc_auc_score(y_valid, y_valid_scores[:,1]))\n",
    "print(\"test_set scores :\", roc_auc_score(y_test, y_test_scores[:,1]))"
   ]
  },
  {
   "cell_type": "markdown",
   "id": "64e4959d",
   "metadata": {},
   "source": [
    "My random forest model performed about the same as the baseline model in the paper. Just like the model in the paper, my model overfit the training set significantly. In addition, the performance on the validation and test sets were similar to the performance presented in the paper."
   ]
  },
  {
   "cell_type": "markdown",
   "id": "4d58c56f",
   "metadata": {},
   "source": [
    "In doing this task, I reviewed how to calculate morgan fingerprints and use the RDkit module. I learned more in depth about how a RandomForestClassifier works by training many estimators and what each specific hyperparameter does. That being said, other than 'n_estimators' it is difficult to know which hyperparameters need or should be changed, and the process or trial and error is very, very time consuming. The paper chose slightly different hyperparameters than I did, with the exception of major ones such as 'n_estimators', and 'max_depth'. Even for the hyperparameters we both modified, we chose different ranges to check. I wish there were a better way to choose a starting point for checking hyper parameters so that it were less time consuming. I chose the hyperparameters that I chose because they sounded the most important, but I do not know for sure, which hyper parameters contribute the most to performance."
   ]
  }
 ],
 "metadata": {
  "kernelspec": {
   "display_name": "mlms2023",
   "language": "python",
   "name": "mlms2023"
  },
  "language_info": {
   "codemirror_mode": {
    "name": "ipython",
    "version": 3
   },
   "file_extension": ".py",
   "mimetype": "text/x-python",
   "name": "python",
   "nbconvert_exporter": "python",
   "pygments_lexer": "ipython3",
   "version": "3.9.7"
  }
 },
 "nbformat": 4,
 "nbformat_minor": 5
}
