{
 "cells": [
  {
   "cell_type": "markdown",
   "id": "9b4db29d",
   "metadata": {},
   "source": [
    "## Task: Random Forest Model for BBBP Classifier using RDkit Descriptors and Hyperparameter Optimization\n",
    "\n",
    "* Develop a random forest model for the BBBP classifier using the default hyperparameters and rdkit descriptors, and report the performance measure (ROC_AUC) for all three datasets.\n",
    "\n",
    "* List the default hyperparameters used in the model (n_estimators, max_depth, min_samples_leaf, min_impurity_decrease, max_features).\n",
    "\n",
    "* Optimize the model using grid search to find the optimal set of hyperparameters and report the performance measure (ROC_AUC) for all three datasets with your optimized hyperparameters.\n",
    "\n",
    "* Compare your results with the baseline model and the results reported in Table 4 of the following paper: https://jcheminf.biomedcentral.com/articles/10.1186/s13321-020-00479-8, and with the results of task 3."
   ]
  },
  {
   "cell_type": "markdown",
   "id": "43556d66",
   "metadata": {},
   "source": [
    "### import modules"
   ]
  },
  {
   "cell_type": "code",
   "execution_count": 77,
   "id": "54234921",
   "metadata": {},
   "outputs": [],
   "source": [
    "import pandas as pd\n",
    "import numpy as np\n",
    "import matplotlib.pyplot as plt\n",
    "\n",
    "from rdkit import Chem\n",
    "from rdkit.Chem import AllChem\n",
    "from rdkit.Chem import Descriptors\n",
    "from rdkit.ML.Descriptors import MoleculeDescriptors\n",
    "\n",
    "from sklearn.model_selection import (train_test_split, \n",
    "                                     cross_val_predict, \n",
    "                                     GridSearchCV)\n",
    "from sklearn.ensemble import RandomForestClassifier\n",
    "from sklearn.metrics import roc_auc_score"
   ]
  },
  {
   "cell_type": "markdown",
   "id": "48eafba7",
   "metadata": {},
   "source": [
    "### import data"
   ]
  },
  {
   "cell_type": "code",
   "execution_count": 44,
   "id": "1c8e6a1d",
   "metadata": {},
   "outputs": [
    {
     "data": {
      "text/html": [
       "<div>\n",
       "<style scoped>\n",
       "    .dataframe tbody tr th:only-of-type {\n",
       "        vertical-align: middle;\n",
       "    }\n",
       "\n",
       "    .dataframe tbody tr th {\n",
       "        vertical-align: top;\n",
       "    }\n",
       "\n",
       "    .dataframe thead th {\n",
       "        text-align: right;\n",
       "    }\n",
       "</style>\n",
       "<table border=\"1\" class=\"dataframe\">\n",
       "  <thead>\n",
       "    <tr style=\"text-align: right;\">\n",
       "      <th></th>\n",
       "      <th>num</th>\n",
       "      <th>name</th>\n",
       "      <th>p_np</th>\n",
       "      <th>smiles</th>\n",
       "    </tr>\n",
       "  </thead>\n",
       "  <tbody>\n",
       "    <tr>\n",
       "      <th>0</th>\n",
       "      <td>1</td>\n",
       "      <td>Propanolol</td>\n",
       "      <td>1</td>\n",
       "      <td>[Cl].CC(C)NCC(O)COc1cccc2ccccc12</td>\n",
       "    </tr>\n",
       "    <tr>\n",
       "      <th>1</th>\n",
       "      <td>2</td>\n",
       "      <td>Terbutylchlorambucil</td>\n",
       "      <td>1</td>\n",
       "      <td>C(=O)(OC(C)(C)C)CCCc1ccc(cc1)N(CCCl)CCCl</td>\n",
       "    </tr>\n",
       "    <tr>\n",
       "      <th>2</th>\n",
       "      <td>3</td>\n",
       "      <td>40730</td>\n",
       "      <td>1</td>\n",
       "      <td>c12c3c(N4CCN(C)CC4)c(F)cc1c(c(C(O)=O)cn2C(C)CO...</td>\n",
       "    </tr>\n",
       "    <tr>\n",
       "      <th>3</th>\n",
       "      <td>4</td>\n",
       "      <td>24</td>\n",
       "      <td>1</td>\n",
       "      <td>C1CCN(CC1)Cc1cccc(c1)OCCCNC(=O)C</td>\n",
       "    </tr>\n",
       "    <tr>\n",
       "      <th>4</th>\n",
       "      <td>5</td>\n",
       "      <td>cloxacillin</td>\n",
       "      <td>1</td>\n",
       "      <td>Cc1onc(c2ccccc2Cl)c1C(=O)N[C@H]3[C@H]4SC(C)(C)...</td>\n",
       "    </tr>\n",
       "  </tbody>\n",
       "</table>\n",
       "</div>"
      ],
      "text/plain": [
       "   num                  name  p_np  \\\n",
       "0    1            Propanolol     1   \n",
       "1    2  Terbutylchlorambucil     1   \n",
       "2    3                 40730     1   \n",
       "3    4                    24     1   \n",
       "4    5           cloxacillin     1   \n",
       "\n",
       "                                              smiles  \n",
       "0                   [Cl].CC(C)NCC(O)COc1cccc2ccccc12  \n",
       "1           C(=O)(OC(C)(C)C)CCCc1ccc(cc1)N(CCCl)CCCl  \n",
       "2  c12c3c(N4CCN(C)CC4)c(F)cc1c(c(C(O)=O)cn2C(C)CO...  \n",
       "3                   C1CCN(CC1)Cc1cccc(c1)OCCCNC(=O)C  \n",
       "4  Cc1onc(c2ccccc2Cl)c1C(=O)N[C@H]3[C@H]4SC(C)(C)...  "
      ]
     },
     "execution_count": 44,
     "metadata": {},
     "output_type": "execute_result"
    }
   ],
   "source": [
    "bbbp = pd.read_csv(\"BBBP.csv\")\n",
    "bbbp.head()"
   ]
  },
  {
   "cell_type": "markdown",
   "id": "dfe2800e",
   "metadata": {},
   "source": [
    "# calculate RDkit descriptors"
   ]
  },
  {
   "cell_type": "code",
   "execution_count": 45,
   "id": "3e1acd8c",
   "metadata": {},
   "outputs": [],
   "source": [
    "# suppress warnings from invalid molecules - why does this happen???\n",
    "from rdkit import RDLogger\n",
    "RDLogger.DisableLog('rdApp.*')"
   ]
  },
  {
   "cell_type": "code",
   "execution_count": 46,
   "id": "d7d42ede",
   "metadata": {},
   "outputs": [],
   "source": [
    "# function: generate canon SMILES\n",
    "def gen_canon_smiles(smiles_list):\n",
    "    \n",
    "    invalid_ids = []\n",
    "    canon_smiles = []\n",
    "\n",
    "    for i in range(len(smiles_list)):   \n",
    "        mol = Chem.MolFromSmiles(smiles_list[i])\n",
    "        \n",
    "        # do not append NoneType if invalid\n",
    "        if mol is None: \n",
    "            invalid_ids.append(i)\n",
    "            continue\n",
    "\n",
    "        canon_smiles.append(Chem.MolToSmiles(mol))\n",
    "\n",
    "    return canon_smiles, invalid_ids\n",
    "\n",
    "\n",
    "# function: calculate molecular descriptors\n",
    "def RDkit_descriptors(smiles):\n",
    "    # convert smiles into their corresponding molecular graphs\n",
    "    mols = [Chem.MolFromSmiles(i) for i in smiles] \n",
    "    \n",
    "    # calculate all descriptors available in RDkit and save to variable\n",
    "    calc = MoleculeDescriptors.MolecularDescriptorCalculator([x[0] for x in Descriptors._descList])\n",
    "    desc_names = calc.GetDescriptorNames()\n",
    "    \n",
    "    Mol_descriptors =[]\n",
    "    for mol in mols:\n",
    "        # add hydrogens to molecules\n",
    "        mol=Chem.AddHs(mol)\n",
    "        # Calculate all 200 descriptors for each molecule\n",
    "        descriptors = calc.CalcDescriptors(mol)\n",
    "        Mol_descriptors.append(descriptors)\n",
    "        \n",
    "    return Mol_descriptors, desc_names "
   ]
  },
  {
   "cell_type": "code",
   "execution_count": 47,
   "id": "9d9d1f25",
   "metadata": {},
   "outputs": [],
   "source": [
    "# generate canon smiles\n",
    "canon_smiles, invalid_ids = gen_canon_smiles(bbbp.smiles)\n",
    "\n",
    "# drop rows with invalid SMILES\n",
    "bbbp = bbbp.drop(invalid_ids)\n",
    "\n",
    "# replace SMILES with canon SMILES\n",
    "bbbp.smiles = canon_smiles\n",
    "\n",
    "# drop duplicates to prevent train/valid/test contamination\n",
    "bbbp.drop_duplicates(subset=['smiles'], inplace=True)"
   ]
  },
  {
   "cell_type": "code",
   "execution_count": 48,
   "id": "3335e580",
   "metadata": {},
   "outputs": [
    {
     "data": {
      "text/html": [
       "<div>\n",
       "<style scoped>\n",
       "    .dataframe tbody tr th:only-of-type {\n",
       "        vertical-align: middle;\n",
       "    }\n",
       "\n",
       "    .dataframe tbody tr th {\n",
       "        vertical-align: top;\n",
       "    }\n",
       "\n",
       "    .dataframe thead th {\n",
       "        text-align: right;\n",
       "    }\n",
       "</style>\n",
       "<table border=\"1\" class=\"dataframe\">\n",
       "  <thead>\n",
       "    <tr style=\"text-align: right;\">\n",
       "      <th></th>\n",
       "      <th>MaxEStateIndex</th>\n",
       "      <th>MinEStateIndex</th>\n",
       "      <th>MaxAbsEStateIndex</th>\n",
       "      <th>MinAbsEStateIndex</th>\n",
       "      <th>qed</th>\n",
       "      <th>MolWt</th>\n",
       "      <th>HeavyAtomMolWt</th>\n",
       "      <th>ExactMolWt</th>\n",
       "      <th>NumValenceElectrons</th>\n",
       "      <th>NumRadicalElectrons</th>\n",
       "      <th>...</th>\n",
       "      <th>fr_sulfide</th>\n",
       "      <th>fr_sulfonamd</th>\n",
       "      <th>fr_sulfone</th>\n",
       "      <th>fr_term_acetylene</th>\n",
       "      <th>fr_tetrazole</th>\n",
       "      <th>fr_thiazole</th>\n",
       "      <th>fr_thiocyan</th>\n",
       "      <th>fr_thiophene</th>\n",
       "      <th>fr_unbrch_alkane</th>\n",
       "      <th>fr_urea</th>\n",
       "    </tr>\n",
       "  </thead>\n",
       "  <tbody>\n",
       "    <tr>\n",
       "      <th>0</th>\n",
       "      <td>8.297086</td>\n",
       "      <td>-4.334066</td>\n",
       "      <td>8.297086</td>\n",
       "      <td>0.000000</td>\n",
       "      <td>0.859050</td>\n",
       "      <td>294.802</td>\n",
       "      <td>273.634</td>\n",
       "      <td>294.126082</td>\n",
       "      <td>109</td>\n",
       "      <td>1</td>\n",
       "      <td>...</td>\n",
       "      <td>0</td>\n",
       "      <td>0</td>\n",
       "      <td>0</td>\n",
       "      <td>0</td>\n",
       "      <td>0</td>\n",
       "      <td>0</td>\n",
       "      <td>0</td>\n",
       "      <td>0</td>\n",
       "      <td>0</td>\n",
       "      <td>0</td>\n",
       "    </tr>\n",
       "    <tr>\n",
       "      <th>1</th>\n",
       "      <td>13.093184</td>\n",
       "      <td>-4.643037</td>\n",
       "      <td>13.093184</td>\n",
       "      <td>0.649388</td>\n",
       "      <td>0.474821</td>\n",
       "      <td>360.325</td>\n",
       "      <td>333.109</td>\n",
       "      <td>359.141884</td>\n",
       "      <td>130</td>\n",
       "      <td>0</td>\n",
       "      <td>...</td>\n",
       "      <td>0</td>\n",
       "      <td>0</td>\n",
       "      <td>0</td>\n",
       "      <td>0</td>\n",
       "      <td>0</td>\n",
       "      <td>0</td>\n",
       "      <td>0</td>\n",
       "      <td>0</td>\n",
       "      <td>0</td>\n",
       "      <td>0</td>\n",
       "    </tr>\n",
       "    <tr>\n",
       "      <th>2</th>\n",
       "      <td>16.373716</td>\n",
       "      <td>-4.214838</td>\n",
       "      <td>16.373716</td>\n",
       "      <td>0.240165</td>\n",
       "      <td>0.874740</td>\n",
       "      <td>361.373</td>\n",
       "      <td>341.213</td>\n",
       "      <td>361.143784</td>\n",
       "      <td>138</td>\n",
       "      <td>0</td>\n",
       "      <td>...</td>\n",
       "      <td>0</td>\n",
       "      <td>0</td>\n",
       "      <td>0</td>\n",
       "      <td>0</td>\n",
       "      <td>0</td>\n",
       "      <td>0</td>\n",
       "      <td>0</td>\n",
       "      <td>0</td>\n",
       "      <td>0</td>\n",
       "      <td>0</td>\n",
       "    </tr>\n",
       "    <tr>\n",
       "      <th>3</th>\n",
       "      <td>11.991523</td>\n",
       "      <td>-4.317357</td>\n",
       "      <td>11.991523</td>\n",
       "      <td>0.821900</td>\n",
       "      <td>0.784810</td>\n",
       "      <td>290.407</td>\n",
       "      <td>264.199</td>\n",
       "      <td>290.199428</td>\n",
       "      <td>116</td>\n",
       "      <td>0</td>\n",
       "      <td>...</td>\n",
       "      <td>0</td>\n",
       "      <td>0</td>\n",
       "      <td>0</td>\n",
       "      <td>0</td>\n",
       "      <td>0</td>\n",
       "      <td>0</td>\n",
       "      <td>0</td>\n",
       "      <td>0</td>\n",
       "      <td>0</td>\n",
       "      <td>0</td>\n",
       "    </tr>\n",
       "    <tr>\n",
       "      <th>4</th>\n",
       "      <td>13.928423</td>\n",
       "      <td>-3.966667</td>\n",
       "      <td>13.928423</td>\n",
       "      <td>0.341483</td>\n",
       "      <td>0.709265</td>\n",
       "      <td>435.889</td>\n",
       "      <td>417.745</td>\n",
       "      <td>435.065569</td>\n",
       "      <td>152</td>\n",
       "      <td>0</td>\n",
       "      <td>...</td>\n",
       "      <td>1</td>\n",
       "      <td>0</td>\n",
       "      <td>0</td>\n",
       "      <td>0</td>\n",
       "      <td>0</td>\n",
       "      <td>0</td>\n",
       "      <td>0</td>\n",
       "      <td>0</td>\n",
       "      <td>0</td>\n",
       "      <td>0</td>\n",
       "    </tr>\n",
       "  </tbody>\n",
       "</table>\n",
       "<p>5 rows × 208 columns</p>\n",
       "</div>"
      ],
      "text/plain": [
       "   MaxEStateIndex  MinEStateIndex  MaxAbsEStateIndex  MinAbsEStateIndex  \\\n",
       "0        8.297086       -4.334066           8.297086           0.000000   \n",
       "1       13.093184       -4.643037          13.093184           0.649388   \n",
       "2       16.373716       -4.214838          16.373716           0.240165   \n",
       "3       11.991523       -4.317357          11.991523           0.821900   \n",
       "4       13.928423       -3.966667          13.928423           0.341483   \n",
       "\n",
       "        qed    MolWt  HeavyAtomMolWt  ExactMolWt  NumValenceElectrons  \\\n",
       "0  0.859050  294.802         273.634  294.126082                  109   \n",
       "1  0.474821  360.325         333.109  359.141884                  130   \n",
       "2  0.874740  361.373         341.213  361.143784                  138   \n",
       "3  0.784810  290.407         264.199  290.199428                  116   \n",
       "4  0.709265  435.889         417.745  435.065569                  152   \n",
       "\n",
       "   NumRadicalElectrons  ...  fr_sulfide  fr_sulfonamd  fr_sulfone  \\\n",
       "0                    1  ...           0             0           0   \n",
       "1                    0  ...           0             0           0   \n",
       "2                    0  ...           0             0           0   \n",
       "3                    0  ...           0             0           0   \n",
       "4                    0  ...           1             0           0   \n",
       "\n",
       "   fr_term_acetylene  fr_tetrazole  fr_thiazole  fr_thiocyan  fr_thiophene  \\\n",
       "0                  0             0            0            0             0   \n",
       "1                  0             0            0            0             0   \n",
       "2                  0             0            0            0             0   \n",
       "3                  0             0            0            0             0   \n",
       "4                  0             0            0            0             0   \n",
       "\n",
       "   fr_unbrch_alkane  fr_urea  \n",
       "0                 0        0  \n",
       "1                 0        0  \n",
       "2                 0        0  \n",
       "3                 0        0  \n",
       "4                 0        0  \n",
       "\n",
       "[5 rows x 208 columns]"
      ]
     },
     "execution_count": 48,
     "metadata": {},
     "output_type": "execute_result"
    }
   ],
   "source": [
    "# function call\n",
    "Mol_descriptors, desc_names = RDkit_descriptors(bbbp.smiles)\n",
    "\n",
    "# put descriptors and descriptor names into dataframe\n",
    "desc = pd.DataFrame(Mol_descriptors,columns=desc_names)\n",
    "desc.head()"
   ]
  },
  {
   "cell_type": "code",
   "execution_count": 88,
   "id": "d3998723",
   "metadata": {},
   "outputs": [],
   "source": [
    "# add labels to df so it is easier to rm nans\n",
    "desc['p_np'] = bbbp['p_np']\n",
    "desc = desc[~desc.isin([np.nan, np.inf, -np.inf]).any(1)]"
   ]
  },
  {
   "cell_type": "code",
   "execution_count": 89,
   "id": "5ed4a1fe",
   "metadata": {},
   "outputs": [],
   "source": [
    "X = desc.drop(columns=['p_np']) # features\n",
    "y = desc.p_np # labels"
   ]
  },
  {
   "cell_type": "code",
   "execution_count": 90,
   "id": "95dcb33b",
   "metadata": {},
   "outputs": [],
   "source": [
    "from sklearn.preprocessing import MinMaxScaler\n",
    "\n",
    "# otherwise I get a ValueError\n",
    "scaler = MinMaxScaler()\n",
    "X = scaler.fit_transform(X)"
   ]
  },
  {
   "cell_type": "markdown",
   "id": "60b31a26",
   "metadata": {},
   "source": [
    "### split data"
   ]
  },
  {
   "cell_type": "code",
   "execution_count": 91,
   "id": "c5faa7a9",
   "metadata": {},
   "outputs": [],
   "source": [
    "# split data into training set and everything else\n",
    "X_train, X_valid_and_test, y_train, y_valid_and_test = train_test_split(X, y, train_size=0.8)\n",
    "\n",
    "# split everything else into validation and test sets\n",
    "X_valid, X_test, y_valid, y_test = train_test_split(X_valid_and_test, y_valid_and_test, test_size=0.5)"
   ]
  },
  {
   "cell_type": "markdown",
   "id": "98ff59d1",
   "metadata": {},
   "source": [
    "### random forest model"
   ]
  },
  {
   "cell_type": "code",
   "execution_count": 92,
   "id": "ed182397",
   "metadata": {},
   "outputs": [],
   "source": [
    "# train and fit\n",
    "forest = RandomForestClassifier().fit(X_train, y_train)"
   ]
  },
  {
   "cell_type": "code",
   "execution_count": 93,
   "id": "625e268d",
   "metadata": {},
   "outputs": [
    {
     "name": "stdout",
     "output_type": "stream",
     "text": [
      "train_set scores: 0.9999471374332757\n",
      "valid_set scores: 0.7695749440715883\n",
      "test_set scores : 0.75589656152316\n"
     ]
    }
   ],
   "source": [
    "# compute decision scores\n",
    "y_train_scores = forest.predict_proba(X_train)\n",
    "y_valid_scores = forest.predict_proba(X_valid)\n",
    "y_test_scores = forest.predict_proba(X_test)\n",
    "\n",
    "# print ROC-AOC scores\n",
    "print(\"train_set scores:\", roc_auc_score(y_train, y_train_scores[:,1]))\n",
    "print(\"valid_set scores:\", roc_auc_score(y_valid, y_valid_scores[:,1]))\n",
    "print(\"test_set scores :\", roc_auc_score(y_test, y_test_scores[:,1]))"
   ]
  },
  {
   "cell_type": "markdown",
   "id": "e27ede43",
   "metadata": {},
   "source": [
    "The model almost perfectly fits the training set. It performs much, much worse on the validation and test sets. The model has severely overfit the training set."
   ]
  },
  {
   "cell_type": "code",
   "execution_count": 95,
   "id": "f225b378",
   "metadata": {},
   "outputs": [
    {
     "data": {
      "text/plain": [
       "{'bootstrap': True,\n",
       " 'ccp_alpha': 0.0,\n",
       " 'class_weight': None,\n",
       " 'criterion': 'gini',\n",
       " 'max_depth': None,\n",
       " 'max_features': 'sqrt',\n",
       " 'max_leaf_nodes': None,\n",
       " 'max_samples': None,\n",
       " 'min_impurity_decrease': 0.0,\n",
       " 'min_samples_leaf': 1,\n",
       " 'min_samples_split': 2,\n",
       " 'min_weight_fraction_leaf': 0.0,\n",
       " 'n_estimators': 100,\n",
       " 'n_jobs': None,\n",
       " 'oob_score': False,\n",
       " 'random_state': None,\n",
       " 'verbose': 0,\n",
       " 'warm_start': False}"
      ]
     },
     "execution_count": 95,
     "metadata": {},
     "output_type": "execute_result"
    }
   ],
   "source": [
    "# print default hyperparams\n",
    "forest.get_params()"
   ]
  },
  {
   "cell_type": "code",
   "execution_count": 96,
   "id": "6d138aed",
   "metadata": {},
   "outputs": [
    {
     "data": {
      "text/html": [
       "<style>#sk-container-id-1 {color: black;background-color: white;}#sk-container-id-1 pre{padding: 0;}#sk-container-id-1 div.sk-toggleable {background-color: white;}#sk-container-id-1 label.sk-toggleable__label {cursor: pointer;display: block;width: 100%;margin-bottom: 0;padding: 0.3em;box-sizing: border-box;text-align: center;}#sk-container-id-1 label.sk-toggleable__label-arrow:before {content: \"▸\";float: left;margin-right: 0.25em;color: #696969;}#sk-container-id-1 label.sk-toggleable__label-arrow:hover:before {color: black;}#sk-container-id-1 div.sk-estimator:hover label.sk-toggleable__label-arrow:before {color: black;}#sk-container-id-1 div.sk-toggleable__content {max-height: 0;max-width: 0;overflow: hidden;text-align: left;background-color: #f0f8ff;}#sk-container-id-1 div.sk-toggleable__content pre {margin: 0.2em;color: black;border-radius: 0.25em;background-color: #f0f8ff;}#sk-container-id-1 input.sk-toggleable__control:checked~div.sk-toggleable__content {max-height: 200px;max-width: 100%;overflow: auto;}#sk-container-id-1 input.sk-toggleable__control:checked~label.sk-toggleable__label-arrow:before {content: \"▾\";}#sk-container-id-1 div.sk-estimator input.sk-toggleable__control:checked~label.sk-toggleable__label {background-color: #d4ebff;}#sk-container-id-1 div.sk-label input.sk-toggleable__control:checked~label.sk-toggleable__label {background-color: #d4ebff;}#sk-container-id-1 input.sk-hidden--visually {border: 0;clip: rect(1px 1px 1px 1px);clip: rect(1px, 1px, 1px, 1px);height: 1px;margin: -1px;overflow: hidden;padding: 0;position: absolute;width: 1px;}#sk-container-id-1 div.sk-estimator {font-family: monospace;background-color: #f0f8ff;border: 1px dotted black;border-radius: 0.25em;box-sizing: border-box;margin-bottom: 0.5em;}#sk-container-id-1 div.sk-estimator:hover {background-color: #d4ebff;}#sk-container-id-1 div.sk-parallel-item::after {content: \"\";width: 100%;border-bottom: 1px solid gray;flex-grow: 1;}#sk-container-id-1 div.sk-label:hover label.sk-toggleable__label {background-color: #d4ebff;}#sk-container-id-1 div.sk-serial::before {content: \"\";position: absolute;border-left: 1px solid gray;box-sizing: border-box;top: 0;bottom: 0;left: 50%;z-index: 0;}#sk-container-id-1 div.sk-serial {display: flex;flex-direction: column;align-items: center;background-color: white;padding-right: 0.2em;padding-left: 0.2em;position: relative;}#sk-container-id-1 div.sk-item {position: relative;z-index: 1;}#sk-container-id-1 div.sk-parallel {display: flex;align-items: stretch;justify-content: center;background-color: white;position: relative;}#sk-container-id-1 div.sk-item::before, #sk-container-id-1 div.sk-parallel-item::before {content: \"\";position: absolute;border-left: 1px solid gray;box-sizing: border-box;top: 0;bottom: 0;left: 50%;z-index: -1;}#sk-container-id-1 div.sk-parallel-item {display: flex;flex-direction: column;z-index: 1;position: relative;background-color: white;}#sk-container-id-1 div.sk-parallel-item:first-child::after {align-self: flex-end;width: 50%;}#sk-container-id-1 div.sk-parallel-item:last-child::after {align-self: flex-start;width: 50%;}#sk-container-id-1 div.sk-parallel-item:only-child::after {width: 0;}#sk-container-id-1 div.sk-dashed-wrapped {border: 1px dashed gray;margin: 0 0.4em 0.5em 0.4em;box-sizing: border-box;padding-bottom: 0.4em;background-color: white;}#sk-container-id-1 div.sk-label label {font-family: monospace;font-weight: bold;display: inline-block;line-height: 1.2em;}#sk-container-id-1 div.sk-label-container {text-align: center;}#sk-container-id-1 div.sk-container {/* jupyter's `normalize.less` sets `[hidden] { display: none; }` but bootstrap.min.css set `[hidden] { display: none !important; }` so we also need the `!important` here to be able to override the default hidden behavior on the sphinx rendered scikit-learn.org. See: https://github.com/scikit-learn/scikit-learn/issues/21755 */display: inline-block !important;position: relative;}#sk-container-id-1 div.sk-text-repr-fallback {display: none;}</style><div id=\"sk-container-id-1\" class=\"sk-top-container\"><div class=\"sk-text-repr-fallback\"><pre>RandomForestClassifier(min_samples_leaf=2, min_samples_split=3)</pre><b>In a Jupyter environment, please rerun this cell to show the HTML representation or trust the notebook. <br />On GitHub, the HTML representation is unable to render, please try loading this page with nbviewer.org.</b></div><div class=\"sk-container\" hidden><div class=\"sk-item\"><div class=\"sk-estimator sk-toggleable\"><input class=\"sk-toggleable__control sk-hidden--visually\" id=\"sk-estimator-id-1\" type=\"checkbox\" checked><label for=\"sk-estimator-id-1\" class=\"sk-toggleable__label sk-toggleable__label-arrow\">RandomForestClassifier</label><div class=\"sk-toggleable__content\"><pre>RandomForestClassifier(min_samples_leaf=2, min_samples_split=3)</pre></div></div></div></div></div>"
      ],
      "text/plain": [
       "RandomForestClassifier(min_samples_leaf=2, min_samples_split=3)"
      ]
     },
     "execution_count": 96,
     "metadata": {},
     "output_type": "execute_result"
    }
   ],
   "source": [
    "# optimize model with grid search - is it still necessary?\n",
    "params = {\n",
    "    'n_estimators': [int(x) for x in np.linspace(100, 800, 4)], \n",
    "    'max_features': ['sqrt'], \n",
    "    'min_samples_split': [int(x) for x in np.linspace(2, 6, 5)],\n",
    "    'min_samples_leaf': [int(x) for x in np.linspace(1, 4, 4)]\n",
    "}\n",
    "\n",
    "forest_op = GridSearchCV(RandomForestClassifier(), params, cv=3)\n",
    "forest_op.fit(X_train, y_train)\n",
    "forest_op.best_estimator_"
   ]
  },
  {
   "cell_type": "code",
   "execution_count": 100,
   "id": "25b9ff56",
   "metadata": {},
   "outputs": [],
   "source": [
    "forest_op = forest_op.best_estimator_"
   ]
  },
  {
   "cell_type": "code",
   "execution_count": 101,
   "id": "ba68823e",
   "metadata": {},
   "outputs": [
    {
     "name": "stdout",
     "output_type": "stream",
     "text": [
      "train_set scores: 0.999389143673408\n",
      "valid_set scores: 0.7358458096713131\n",
      "test_set scores : 0.7619352088661553\n"
     ]
    }
   ],
   "source": [
    "# compute decision scores\n",
    "y_train_scores = forest_op.predict_proba(X_train)\n",
    "y_valid_scores = forest_op.predict_proba(X_valid)\n",
    "y_test_scores = forest_op.predict_proba(X_test)\n",
    "\n",
    "# print ROC-AOC scores\n",
    "print(\"train_set scores:\", roc_auc_score(y_train, y_train_scores[:,1]))\n",
    "print(\"valid_set scores:\", roc_auc_score(y_valid, y_valid_scores[:,1]))\n",
    "print(\"test_set scores :\", roc_auc_score(y_test, y_test_scores[:,1]))"
   ]
  },
  {
   "cell_type": "markdown",
   "id": "8798ddc4",
   "metadata": {},
   "source": [
    "The results of my random forest model turned out to be worse than the baseline model of the paper. Both the baseline model in the paper and my model overfit the training set, however, my model performs much worse on the validation and test sets. The results of this model are also worse than my model from task 3, which had a similar performance to the model in the paper."
   ]
  }
 ],
 "metadata": {
  "kernelspec": {
   "display_name": "mlms2023",
   "language": "python",
   "name": "mlms2023"
  },
  "language_info": {
   "codemirror_mode": {
    "name": "ipython",
    "version": 3
   },
   "file_extension": ".py",
   "mimetype": "text/x-python",
   "name": "python",
   "nbconvert_exporter": "python",
   "pygments_lexer": "ipython3",
   "version": "3.9.7"
  }
 },
 "nbformat": 4,
 "nbformat_minor": 5
}
