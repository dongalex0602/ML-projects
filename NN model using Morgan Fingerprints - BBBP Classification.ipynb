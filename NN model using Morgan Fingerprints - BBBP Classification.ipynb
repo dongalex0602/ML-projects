{
 "cells": [
  {
   "cell_type": "markdown",
   "id": "571d7d50",
   "metadata": {},
   "source": [
    "# Task 3. \n",
    "Based on what you learned in task 2, to train a neural network model on the BBBP dataset used in HW5 by using Morgan fingerprints as input features and accuracy as the performance measure.   Please do similar explorations as what you did for task 2,  summarize what you have learned from this experiment, and discuss what are similar or different from what you observed in Task 2.  Please  compare your results of you optimal NN model (accuracy) with your optimal random forest model that have been developed in HW5.  (40 Points, HW8c.ipynb)"
   ]
  },
  {
   "cell_type": "markdown",
   "id": "c470592d",
   "metadata": {},
   "source": [
    "## Download data"
   ]
  },
  {
   "cell_type": "code",
   "execution_count": 2,
   "id": "86adf48c",
   "metadata": {},
   "outputs": [],
   "source": [
    "import pandas as pd\n",
    "import numpy as np\n",
    "import matplotlib.pyplot as plt"
   ]
  },
  {
   "cell_type": "code",
   "execution_count": 3,
   "id": "0c31c07c",
   "metadata": {},
   "outputs": [],
   "source": [
    "from rdkit import Chem\n",
    "from rdkit.Chem import AllChem"
   ]
  },
  {
   "cell_type": "code",
   "execution_count": 4,
   "id": "7f571f12",
   "metadata": {},
   "outputs": [],
   "source": [
    "import torch\n",
    "import torch.nn as nn\n",
    "\n",
    "from torch.utils.data import random_split\n",
    "from torch.utils.data import TensorDataset\n",
    "from torch.utils.data import DataLoader"
   ]
  },
  {
   "cell_type": "code",
   "execution_count": 5,
   "id": "09216605",
   "metadata": {},
   "outputs": [
    {
     "data": {
      "text/html": [
       "<div>\n",
       "<style scoped>\n",
       "    .dataframe tbody tr th:only-of-type {\n",
       "        vertical-align: middle;\n",
       "    }\n",
       "\n",
       "    .dataframe tbody tr th {\n",
       "        vertical-align: top;\n",
       "    }\n",
       "\n",
       "    .dataframe thead th {\n",
       "        text-align: right;\n",
       "    }\n",
       "</style>\n",
       "<table border=\"1\" class=\"dataframe\">\n",
       "  <thead>\n",
       "    <tr style=\"text-align: right;\">\n",
       "      <th></th>\n",
       "      <th>num</th>\n",
       "      <th>name</th>\n",
       "      <th>p_np</th>\n",
       "      <th>smiles</th>\n",
       "    </tr>\n",
       "  </thead>\n",
       "  <tbody>\n",
       "    <tr>\n",
       "      <th>0</th>\n",
       "      <td>1</td>\n",
       "      <td>Propanolol</td>\n",
       "      <td>1</td>\n",
       "      <td>[Cl].CC(C)NCC(O)COc1cccc2ccccc12</td>\n",
       "    </tr>\n",
       "    <tr>\n",
       "      <th>1</th>\n",
       "      <td>2</td>\n",
       "      <td>Terbutylchlorambucil</td>\n",
       "      <td>1</td>\n",
       "      <td>C(=O)(OC(C)(C)C)CCCc1ccc(cc1)N(CCCl)CCCl</td>\n",
       "    </tr>\n",
       "    <tr>\n",
       "      <th>2</th>\n",
       "      <td>3</td>\n",
       "      <td>40730</td>\n",
       "      <td>1</td>\n",
       "      <td>c12c3c(N4CCN(C)CC4)c(F)cc1c(c(C(O)=O)cn2C(C)CO...</td>\n",
       "    </tr>\n",
       "    <tr>\n",
       "      <th>3</th>\n",
       "      <td>4</td>\n",
       "      <td>24</td>\n",
       "      <td>1</td>\n",
       "      <td>C1CCN(CC1)Cc1cccc(c1)OCCCNC(=O)C</td>\n",
       "    </tr>\n",
       "    <tr>\n",
       "      <th>4</th>\n",
       "      <td>5</td>\n",
       "      <td>cloxacillin</td>\n",
       "      <td>1</td>\n",
       "      <td>Cc1onc(c2ccccc2Cl)c1C(=O)N[C@H]3[C@H]4SC(C)(C)...</td>\n",
       "    </tr>\n",
       "  </tbody>\n",
       "</table>\n",
       "</div>"
      ],
      "text/plain": [
       "   num                  name  p_np  \\\n",
       "0    1            Propanolol     1   \n",
       "1    2  Terbutylchlorambucil     1   \n",
       "2    3                 40730     1   \n",
       "3    4                    24     1   \n",
       "4    5           cloxacillin     1   \n",
       "\n",
       "                                              smiles  \n",
       "0                   [Cl].CC(C)NCC(O)COc1cccc2ccccc12  \n",
       "1           C(=O)(OC(C)(C)C)CCCc1ccc(cc1)N(CCCl)CCCl  \n",
       "2  c12c3c(N4CCN(C)CC4)c(F)cc1c(c(C(O)=O)cn2C(C)CO...  \n",
       "3                   C1CCN(CC1)Cc1cccc(c1)OCCCNC(=O)C  \n",
       "4  Cc1onc(c2ccccc2Cl)c1C(=O)N[C@H]3[C@H]4SC(C)(C)...  "
      ]
     },
     "execution_count": 5,
     "metadata": {},
     "output_type": "execute_result"
    }
   ],
   "source": [
    "# download data\n",
    "bbbp = pd.read_csv('BBBP.csv')\n",
    "bbbp.head()"
   ]
  },
  {
   "cell_type": "markdown",
   "id": "af048a72",
   "metadata": {},
   "source": [
    "## Calculate morgan fingerprints"
   ]
  },
  {
   "cell_type": "code",
   "execution_count": 6,
   "id": "e9c1957e",
   "metadata": {},
   "outputs": [],
   "source": [
    "# suppress warnings from invalid molecules\n",
    "from rdkit import RDLogger\n",
    "RDLogger.DisableLog('rdApp.*')"
   ]
  },
  {
   "cell_type": "code",
   "execution_count": 7,
   "id": "faa83478",
   "metadata": {},
   "outputs": [],
   "source": [
    "# function to generate canon SMILES\n",
    "def gen_canon_smiles(smiles_list):\n",
    "    \n",
    "    invalid_ids = []\n",
    "    canon_smiles = []\n",
    "\n",
    "    for i in range(len(smiles_list)):   \n",
    "        mol = Chem.MolFromSmiles(smiles_list[i])\n",
    "        \n",
    "        # do not append NoneType if invalid\n",
    "        if mol is None: \n",
    "            invalid_ids.append(i)\n",
    "            continue\n",
    "\n",
    "        canon_smiles.append(Chem.MolToSmiles(mol))\n",
    "\n",
    "    return canon_smiles, invalid_ids\n",
    "\n",
    "\n",
    "# function to calculate morgan fingerprints from SMILES\n",
    "def calc_morgan_fpts(smiles_list):\n",
    "    morgan_fingerprints = []\n",
    "    \n",
    "    for i in smiles_list:\n",
    "        mol = Chem.MolFromSmiles(i)\n",
    "        \n",
    "        # do not try to calculate if invalid\n",
    "        if mol is None: continue\n",
    "            \n",
    "        fpts = AllChem.GetMorganFingerprintAsBitVect(mol,2,2048)\n",
    "        mfpts = np.array(fpts)\n",
    "        morgan_fingerprints.append(mfpts) \n",
    "        \n",
    "    return np.array(morgan_fingerprints)"
   ]
  },
  {
   "cell_type": "code",
   "execution_count": 8,
   "id": "31969aff",
   "metadata": {},
   "outputs": [],
   "source": [
    "# generate canon smiles\n",
    "canon_smiles, invalid_ids = gen_canon_smiles(bbbp.smiles)\n",
    "\n",
    "# drop rows with invalid SMILES\n",
    "bbbp = bbbp.drop(invalid_ids)\n",
    "\n",
    "# replace SMILES with canon SMILES\n",
    "bbbp.smiles = canon_smiles\n",
    "\n",
    "# drop duplicates to prevent train/valid/test contamination\n",
    "bbbp.drop_duplicates(subset=['smiles'], inplace=True)"
   ]
  },
  {
   "cell_type": "code",
   "execution_count": 9,
   "id": "f1f828c5",
   "metadata": {},
   "outputs": [],
   "source": [
    "# create TensorDataset\n",
    "X = torch.from_numpy(calc_morgan_fpts(bbbp.smiles)).float()\n",
    "y = torch.from_numpy(bbbp.p_np.values)\n",
    "bbbp_ds = TensorDataset(X, y)"
   ]
  },
  {
   "cell_type": "code",
   "execution_count": 10,
   "id": "78872884",
   "metadata": {},
   "outputs": [],
   "source": [
    "# split data into training, validation, and test sets\n",
    "init_train_ds, train_ds, valid_ds, test_ds = random_split(bbbp_ds, [0.08, 0.72, 0.10, 0.10])"
   ]
  },
  {
   "cell_type": "code",
   "execution_count": 11,
   "id": "cf7f5d7e",
   "metadata": {},
   "outputs": [],
   "source": [
    "# create DataLoaders\n",
    "batch_size = 64\n",
    "\n",
    "init_train_dl = DataLoader(init_train_ds, batch_size, shuffle=True)\n",
    "train_dl = DataLoader(train_ds, batch_size, shuffle=True)\n",
    "valid_dl = DataLoader(valid_ds, batch_size, shuffle=True)\n",
    "test_dl = DataLoader(test_ds, batch_size, shuffle=True)"
   ]
  },
  {
   "cell_type": "markdown",
   "id": "f2aa3baf",
   "metadata": {},
   "source": [
    "## Explore neural networks"
   ]
  },
  {
   "cell_type": "markdown",
   "id": "429e8e42",
   "metadata": {},
   "source": [
    "#### Base model"
   ]
  },
  {
   "cell_type": "code",
   "execution_count": 23,
   "id": "99890e8f",
   "metadata": {},
   "outputs": [
    {
     "data": {
      "text/plain": [
       "Model(\n",
       "  (flatten): Flatten(start_dim=1, end_dim=-1)\n",
       "  (stack): Sequential(\n",
       "    (0): Linear(in_features=2048, out_features=64, bias=True)\n",
       "    (1): ReLU()\n",
       "    (2): Linear(in_features=64, out_features=64, bias=True)\n",
       "    (3): ReLU()\n",
       "    (4): Linear(in_features=64, out_features=2, bias=True)\n",
       "  )\n",
       ")"
      ]
     },
     "execution_count": 23,
     "metadata": {},
     "output_type": "execute_result"
    }
   ],
   "source": [
    "# construct a basic model architecture\n",
    "class Model(nn.Module):\n",
    "    def __init__(self):\n",
    "        super(Model, self).__init__()\n",
    "        self.flatten = nn.Flatten()\n",
    "        self.stack = nn.Sequential(\n",
    "            nn.Linear(2048, 64), \n",
    "            nn.ReLU(), \n",
    "            nn.Linear(64, 64),\n",
    "            nn.ReLU(), \n",
    "            nn.Linear(64, 2)\n",
    "        )\n",
    "        \n",
    "    def forward(self, x):\n",
    "        x = self.flatten(x)\n",
    "        logits = self.stack(x)\n",
    "        return logits\n",
    "    \n",
    "model = Model()\n",
    "model"
   ]
  },
  {
   "cell_type": "code",
   "execution_count": 24,
   "id": "d2863324",
   "metadata": {},
   "outputs": [],
   "source": [
    "# function to train the model and evaluate on the validation set\n",
    "def train_and_validate(model, train_dl, valid_dl, optimizer, loss_fn, num_epochs=20):\n",
    "    for epoch in range(num_epochs):\n",
    "        # Training loop\n",
    "        acc_hist_train = 0\n",
    "        loss_hist_train = 0\n",
    "        for x_batch, y_batch in train_dl:\n",
    "            pred = model(x_batch)\n",
    "            loss = loss_fn(pred, y_batch)\n",
    "            loss.backward()\n",
    "            optimizer.step()\n",
    "            optimizer.zero_grad()\n",
    "            is_correct = (torch.argmax(pred, dim=1) == y_batch).float()\n",
    "            acc_hist_train += is_correct.sum()\n",
    "            loss_hist_train += loss.item() * x_batch.size(0)  # accumulate loss\n",
    "        acc_hist_train /= len(train_dl.dataset)\n",
    "        loss_hist_train /= len(train_dl.dataset)\n",
    "\n",
    "        # Validation loop\n",
    "        acc_hist_valid = 0\n",
    "        loss_hist_valid = 0\n",
    "        with torch.no_grad():\n",
    "            for x_batch, y_batch in valid_dl:\n",
    "                pred = model(x_batch)\n",
    "                loss = loss_fn(pred, y_batch)\n",
    "                is_correct = (torch.argmax(pred, dim=1) == y_batch).float()\n",
    "                acc_hist_valid += is_correct.sum()\n",
    "                loss_hist_valid += loss.item() * x_batch.size(0)\n",
    "            acc_hist_valid /= len(valid_dl.dataset)\n",
    "            loss_hist_valid /= len(valid_dl.dataset)\n",
    "\n",
    "        print(f'Epoch [{epoch+1:0>2}/{num_epochs}], Train Loss: {loss_hist_train:.4f}, Train Acc: {acc_hist_train:.4f}, Valid Loss: {loss_hist_valid:.4f}, Valid Acc: {acc_hist_valid:.4f}')"
   ]
  },
  {
   "cell_type": "code",
   "execution_count": 25,
   "id": "3ecf2cd0",
   "metadata": {},
   "outputs": [
    {
     "name": "stdout",
     "output_type": "stream",
     "text": [
      "Epoch [01/20], Train Loss: 0.7119, Train Acc: 0.2767, Valid Loss: 0.6868, Valid Acc: 0.6345\n",
      "Epoch [02/20], Train Loss: 0.6666, Train Acc: 0.8050, Valid Loss: 0.6529, Valid Acc: 0.7766\n",
      "Epoch [03/20], Train Loss: 0.6204, Train Acc: 0.8491, Valid Loss: 0.6144, Valid Acc: 0.7766\n",
      "Epoch [04/20], Train Loss: 0.5625, Train Acc: 0.8491, Valid Loss: 0.5721, Valid Acc: 0.7868\n",
      "Epoch [05/20], Train Loss: 0.4937, Train Acc: 0.8553, Valid Loss: 0.5327, Valid Acc: 0.7817\n",
      "Epoch [06/20], Train Loss: 0.4260, Train Acc: 0.8742, Valid Loss: 0.5003, Valid Acc: 0.7817\n",
      "Epoch [07/20], Train Loss: 0.3599, Train Acc: 0.8805, Valid Loss: 0.4771, Valid Acc: 0.7817\n",
      "Epoch [08/20], Train Loss: 0.2962, Train Acc: 0.9057, Valid Loss: 0.4587, Valid Acc: 0.7868\n",
      "Epoch [09/20], Train Loss: 0.2368, Train Acc: 0.9245, Valid Loss: 0.4422, Valid Acc: 0.8020\n",
      "Epoch [10/20], Train Loss: 0.1836, Train Acc: 0.9560, Valid Loss: 0.4328, Valid Acc: 0.8122\n",
      "Epoch [11/20], Train Loss: 0.1362, Train Acc: 0.9874, Valid Loss: 0.4342, Valid Acc: 0.8223\n",
      "Epoch [12/20], Train Loss: 0.0959, Train Acc: 0.9937, Valid Loss: 0.4498, Valid Acc: 0.8223\n",
      "Epoch [13/20], Train Loss: 0.0681, Train Acc: 0.9937, Valid Loss: 0.4663, Valid Acc: 0.8325\n",
      "Epoch [14/20], Train Loss: 0.0465, Train Acc: 1.0000, Valid Loss: 0.4918, Valid Acc: 0.8274\n",
      "Epoch [15/20], Train Loss: 0.0326, Train Acc: 1.0000, Valid Loss: 0.5256, Valid Acc: 0.8325\n",
      "Epoch [16/20], Train Loss: 0.0227, Train Acc: 1.0000, Valid Loss: 0.5625, Valid Acc: 0.8325\n",
      "Epoch [17/20], Train Loss: 0.0168, Train Acc: 1.0000, Valid Loss: 0.6017, Valid Acc: 0.8223\n",
      "Epoch [18/20], Train Loss: 0.0130, Train Acc: 1.0000, Valid Loss: 0.6387, Valid Acc: 0.8274\n",
      "Epoch [19/20], Train Loss: 0.0102, Train Acc: 1.0000, Valid Loss: 0.6706, Valid Acc: 0.8274\n",
      "Epoch [20/20], Train Loss: 0.0083, Train Acc: 1.0000, Valid Loss: 0.7006, Valid Acc: 0.8274\n"
     ]
    }
   ],
   "source": [
    "# evaluate the model\n",
    "loss_fn = nn.CrossEntropyLoss()\n",
    "learning_rate = 0.001\n",
    "optimizer = torch.optim.Adam(model.parameters(), lr=learning_rate)\n",
    "\n",
    "train_and_validate(model, init_train_dl, valid_dl, optimizer, loss_fn)"
   ]
  },
  {
   "cell_type": "markdown",
   "id": "5e11504b",
   "metadata": {},
   "source": [
    "#### Number of dimensions of hidden layer"
   ]
  },
  {
   "cell_type": "markdown",
   "id": "0b121209",
   "metadata": {},
   "source": [
    "hidden layer: 256, 256"
   ]
  },
  {
   "cell_type": "code",
   "execution_count": 28,
   "id": "85df498d",
   "metadata": {},
   "outputs": [
    {
     "data": {
      "text/plain": [
       "Model(\n",
       "  (flatten): Flatten(start_dim=1, end_dim=-1)\n",
       "  (stack): Sequential(\n",
       "    (0): Linear(in_features=2048, out_features=256, bias=True)\n",
       "    (1): ReLU()\n",
       "    (2): Linear(in_features=256, out_features=256, bias=True)\n",
       "    (3): ReLU()\n",
       "    (4): Linear(in_features=256, out_features=2, bias=True)\n",
       "  )\n",
       ")"
      ]
     },
     "execution_count": 28,
     "metadata": {},
     "output_type": "execute_result"
    }
   ],
   "source": [
    "# construct a nn model with higher dimension hidden layer\n",
    "class Model(nn.Module):\n",
    "    def __init__(self):\n",
    "        super(Model, self).__init__()\n",
    "        self.flatten = nn.Flatten()\n",
    "        self.stack = nn.Sequential(\n",
    "            nn.Linear(2048, 256), \n",
    "            nn.ReLU(), \n",
    "            nn.Linear(256, 256),\n",
    "            nn.ReLU(), \n",
    "            nn.Linear(256, 2)\n",
    "        )\n",
    "        \n",
    "    def forward(self, x):\n",
    "        x = self.flatten(x)\n",
    "        logits = self.stack(x)\n",
    "        return logits\n",
    "    \n",
    "model = Model()\n",
    "model"
   ]
  },
  {
   "cell_type": "code",
   "execution_count": 29,
   "id": "f0c957fe",
   "metadata": {},
   "outputs": [
    {
     "name": "stdout",
     "output_type": "stream",
     "text": [
      "Epoch [01/20], Train Loss: 0.6721, Train Acc: 0.6918, Valid Loss: 0.6215, Valid Acc: 0.7462\n",
      "Epoch [02/20], Train Loss: 0.5746, Train Acc: 0.7547, Valid Loss: 0.5467, Valid Acc: 0.7462\n",
      "Epoch [03/20], Train Loss: 0.4524, Train Acc: 0.7987, Valid Loss: 0.4977, Valid Acc: 0.7665\n",
      "Epoch [04/20], Train Loss: 0.3295, Train Acc: 0.8428, Valid Loss: 0.4855, Valid Acc: 0.7919\n",
      "Epoch [05/20], Train Loss: 0.2124, Train Acc: 0.9119, Valid Loss: 0.4499, Valid Acc: 0.8274\n",
      "Epoch [06/20], Train Loss: 0.1275, Train Acc: 0.9748, Valid Loss: 0.4316, Valid Acc: 0.8223\n",
      "Epoch [07/20], Train Loss: 0.0678, Train Acc: 1.0000, Valid Loss: 0.4732, Valid Acc: 0.8223\n",
      "Epoch [08/20], Train Loss: 0.0320, Train Acc: 1.0000, Valid Loss: 0.5714, Valid Acc: 0.8274\n",
      "Epoch [09/20], Train Loss: 0.0156, Train Acc: 1.0000, Valid Loss: 0.7050, Valid Acc: 0.8274\n",
      "Epoch [10/20], Train Loss: 0.0073, Train Acc: 1.0000, Valid Loss: 0.8475, Valid Acc: 0.8274\n",
      "Epoch [11/20], Train Loss: 0.0040, Train Acc: 1.0000, Valid Loss: 0.9814, Valid Acc: 0.8325\n",
      "Epoch [12/20], Train Loss: 0.0026, Train Acc: 1.0000, Valid Loss: 1.1034, Valid Acc: 0.8325\n",
      "Epoch [13/20], Train Loss: 0.0015, Train Acc: 1.0000, Valid Loss: 1.2065, Valid Acc: 0.8325\n",
      "Epoch [14/20], Train Loss: 0.0011, Train Acc: 1.0000, Valid Loss: 1.2968, Valid Acc: 0.8325\n",
      "Epoch [15/20], Train Loss: 0.0008, Train Acc: 1.0000, Valid Loss: 1.3689, Valid Acc: 0.8325\n",
      "Epoch [16/20], Train Loss: 0.0006, Train Acc: 1.0000, Valid Loss: 1.4276, Valid Acc: 0.8274\n",
      "Epoch [17/20], Train Loss: 0.0005, Train Acc: 1.0000, Valid Loss: 1.4735, Valid Acc: 0.8274\n",
      "Epoch [18/20], Train Loss: 0.0004, Train Acc: 1.0000, Valid Loss: 1.5104, Valid Acc: 0.8274\n",
      "Epoch [19/20], Train Loss: 0.0003, Train Acc: 1.0000, Valid Loss: 1.5401, Valid Acc: 0.8325\n",
      "Epoch [20/20], Train Loss: 0.0003, Train Acc: 1.0000, Valid Loss: 1.5644, Valid Acc: 0.8325\n"
     ]
    }
   ],
   "source": [
    "# evaluate the model\n",
    "loss_fn = nn.CrossEntropyLoss()\n",
    "learning_rate = 0.001\n",
    "optimizer = torch.optim.Adam(model.parameters(), lr=learning_rate)\n",
    "\n",
    "train_and_validate(model, init_train_dl, valid_dl, optimizer, loss_fn)"
   ]
  },
  {
   "cell_type": "markdown",
   "id": "9f7ca841",
   "metadata": {},
   "source": [
    "hidden layer: 256, 64"
   ]
  },
  {
   "cell_type": "code",
   "execution_count": 30,
   "id": "67cfdb8a",
   "metadata": {},
   "outputs": [
    {
     "data": {
      "text/plain": [
       "Model(\n",
       "  (flatten): Flatten(start_dim=1, end_dim=-1)\n",
       "  (stack): Sequential(\n",
       "    (0): Linear(in_features=2048, out_features=256, bias=True)\n",
       "    (1): ReLU()\n",
       "    (2): Linear(in_features=256, out_features=64, bias=True)\n",
       "    (3): ReLU()\n",
       "    (4): Linear(in_features=64, out_features=2, bias=True)\n",
       "  )\n",
       ")"
      ]
     },
     "execution_count": 30,
     "metadata": {},
     "output_type": "execute_result"
    }
   ],
   "source": [
    "# construct a nn model with variable dimension hidden layer\n",
    "class Model(nn.Module):\n",
    "    def __init__(self):\n",
    "        super(Model, self).__init__()\n",
    "        self.flatten = nn.Flatten()\n",
    "        self.stack = nn.Sequential(\n",
    "            nn.Linear(2048, 256), \n",
    "            nn.ReLU(), \n",
    "            nn.Linear(256, 64),\n",
    "            nn.ReLU(), \n",
    "            nn.Linear(64, 2)\n",
    "        )\n",
    "        \n",
    "    def forward(self, x):\n",
    "        x = self.flatten(x)\n",
    "        logits = self.stack(x)\n",
    "        return logits\n",
    "    \n",
    "model = Model()\n",
    "model"
   ]
  },
  {
   "cell_type": "code",
   "execution_count": 31,
   "id": "4e972470",
   "metadata": {},
   "outputs": [
    {
     "name": "stdout",
     "output_type": "stream",
     "text": [
      "Epoch [01/20], Train Loss: 0.6563, Train Acc: 0.7421, Valid Loss: 0.6171, Valid Acc: 0.7462\n",
      "Epoch [02/20], Train Loss: 0.5821, Train Acc: 0.7421, Valid Loss: 0.5585, Valid Acc: 0.7462\n",
      "Epoch [03/20], Train Loss: 0.4846, Train Acc: 0.7673, Valid Loss: 0.5106, Valid Acc: 0.7462\n",
      "Epoch [04/20], Train Loss: 0.3819, Train Acc: 0.8176, Valid Loss: 0.4895, Valid Acc: 0.7716\n",
      "Epoch [05/20], Train Loss: 0.3016, Train Acc: 0.8679, Valid Loss: 0.4810, Valid Acc: 0.7919\n",
      "Epoch [06/20], Train Loss: 0.2294, Train Acc: 0.9057, Valid Loss: 0.4614, Valid Acc: 0.8071\n",
      "Epoch [07/20], Train Loss: 0.1653, Train Acc: 0.9748, Valid Loss: 0.4595, Valid Acc: 0.8173\n",
      "Epoch [08/20], Train Loss: 0.1175, Train Acc: 0.9937, Valid Loss: 0.4855, Valid Acc: 0.8223\n",
      "Epoch [09/20], Train Loss: 0.0741, Train Acc: 1.0000, Valid Loss: 0.5401, Valid Acc: 0.8223\n",
      "Epoch [10/20], Train Loss: 0.0445, Train Acc: 1.0000, Valid Loss: 0.6088, Valid Acc: 0.8223\n",
      "Epoch [11/20], Train Loss: 0.0254, Train Acc: 1.0000, Valid Loss: 0.6815, Valid Acc: 0.8223\n",
      "Epoch [12/20], Train Loss: 0.0149, Train Acc: 1.0000, Valid Loss: 0.7479, Valid Acc: 0.8274\n",
      "Epoch [13/20], Train Loss: 0.0091, Train Acc: 1.0000, Valid Loss: 0.8110, Valid Acc: 0.8274\n",
      "Epoch [14/20], Train Loss: 0.0058, Train Acc: 1.0000, Valid Loss: 0.8666, Valid Acc: 0.8274\n",
      "Epoch [15/20], Train Loss: 0.0040, Train Acc: 1.0000, Valid Loss: 0.9138, Valid Acc: 0.8274\n",
      "Epoch [16/20], Train Loss: 0.0031, Train Acc: 1.0000, Valid Loss: 0.9526, Valid Acc: 0.8274\n",
      "Epoch [17/20], Train Loss: 0.0025, Train Acc: 1.0000, Valid Loss: 0.9910, Valid Acc: 0.8274\n",
      "Epoch [18/20], Train Loss: 0.0020, Train Acc: 1.0000, Valid Loss: 1.0260, Valid Acc: 0.8274\n",
      "Epoch [19/20], Train Loss: 0.0016, Train Acc: 1.0000, Valid Loss: 1.0554, Valid Acc: 0.8274\n",
      "Epoch [20/20], Train Loss: 0.0014, Train Acc: 1.0000, Valid Loss: 1.0813, Valid Acc: 0.8274\n"
     ]
    }
   ],
   "source": [
    "# evaluate the model\n",
    "loss_fn = nn.CrossEntropyLoss()\n",
    "learning_rate = 0.001\n",
    "optimizer = torch.optim.Adam(model.parameters(), lr=learning_rate)\n",
    "\n",
    "train_and_validate(model, init_train_dl, valid_dl, optimizer, loss_fn)"
   ]
  },
  {
   "cell_type": "markdown",
   "id": "cb5fc156",
   "metadata": {},
   "source": [
    "hidden layer: 512, 512"
   ]
  },
  {
   "cell_type": "code",
   "execution_count": 32,
   "id": "7d103a85",
   "metadata": {},
   "outputs": [
    {
     "data": {
      "text/plain": [
       "Model(\n",
       "  (flatten): Flatten(start_dim=1, end_dim=-1)\n",
       "  (stack): Sequential(\n",
       "    (0): Linear(in_features=2048, out_features=512, bias=True)\n",
       "    (1): ReLU()\n",
       "    (2): Linear(in_features=512, out_features=512, bias=True)\n",
       "    (3): ReLU()\n",
       "    (4): Linear(in_features=512, out_features=2, bias=True)\n",
       "  )\n",
       ")"
      ]
     },
     "execution_count": 32,
     "metadata": {},
     "output_type": "execute_result"
    }
   ],
   "source": [
    "# construct a nn model with hidden layer dimensions: 512, 512\n",
    "class Model(nn.Module):\n",
    "    def __init__(self):\n",
    "        super(Model, self).__init__()\n",
    "        self.flatten = nn.Flatten()\n",
    "        self.stack = nn.Sequential(\n",
    "            nn.Linear(2048, 512), \n",
    "            nn.ReLU(), \n",
    "            nn.Linear(512, 512),\n",
    "            nn.ReLU(), \n",
    "            nn.Linear(512, 2)\n",
    "        )\n",
    "        \n",
    "    def forward(self, x):\n",
    "        x = self.flatten(x)\n",
    "        logits = self.stack(x)\n",
    "        return logits\n",
    "    \n",
    "model = Model()\n",
    "model"
   ]
  },
  {
   "cell_type": "code",
   "execution_count": 33,
   "id": "ec7775ec",
   "metadata": {},
   "outputs": [
    {
     "name": "stdout",
     "output_type": "stream",
     "text": [
      "Epoch [01/20], Train Loss: 0.6656, Train Acc: 0.5975, Valid Loss: 0.5761, Valid Acc: 0.7462\n",
      "Epoch [02/20], Train Loss: 0.5033, Train Acc: 0.7421, Valid Loss: 0.5228, Valid Acc: 0.7462\n",
      "Epoch [03/20], Train Loss: 0.3430, Train Acc: 0.7987, Valid Loss: 0.5073, Valid Acc: 0.7868\n",
      "Epoch [04/20], Train Loss: 0.2052, Train Acc: 0.8994, Valid Loss: 0.4779, Valid Acc: 0.8223\n",
      "Epoch [05/20], Train Loss: 0.1105, Train Acc: 0.9874, Valid Loss: 0.4705, Valid Acc: 0.8274\n",
      "Epoch [06/20], Train Loss: 0.0486, Train Acc: 1.0000, Valid Loss: 0.5609, Valid Acc: 0.8426\n",
      "Epoch [07/20], Train Loss: 0.0180, Train Acc: 1.0000, Valid Loss: 0.7070, Valid Acc: 0.8426\n",
      "Epoch [08/20], Train Loss: 0.0063, Train Acc: 1.0000, Valid Loss: 0.8708, Valid Acc: 0.8325\n",
      "Epoch [09/20], Train Loss: 0.0025, Train Acc: 1.0000, Valid Loss: 1.0349, Valid Acc: 0.8274\n",
      "Epoch [10/20], Train Loss: 0.0012, Train Acc: 1.0000, Valid Loss: 1.1822, Valid Acc: 0.8274\n",
      "Epoch [11/20], Train Loss: 0.0007, Train Acc: 1.0000, Valid Loss: 1.3090, Valid Acc: 0.8274\n",
      "Epoch [12/20], Train Loss: 0.0004, Train Acc: 1.0000, Valid Loss: 1.4163, Valid Acc: 0.8274\n",
      "Epoch [13/20], Train Loss: 0.0002, Train Acc: 1.0000, Valid Loss: 1.5035, Valid Acc: 0.8274\n",
      "Epoch [14/20], Train Loss: 0.0001, Train Acc: 1.0000, Valid Loss: 1.5763, Valid Acc: 0.8274\n",
      "Epoch [15/20], Train Loss: 0.0001, Train Acc: 1.0000, Valid Loss: 1.6365, Valid Acc: 0.8274\n",
      "Epoch [16/20], Train Loss: 0.0001, Train Acc: 1.0000, Valid Loss: 1.6858, Valid Acc: 0.8376\n",
      "Epoch [17/20], Train Loss: 0.0001, Train Acc: 1.0000, Valid Loss: 1.7264, Valid Acc: 0.8376\n",
      "Epoch [18/20], Train Loss: 0.0001, Train Acc: 1.0000, Valid Loss: 1.7582, Valid Acc: 0.8376\n",
      "Epoch [19/20], Train Loss: 0.0000, Train Acc: 1.0000, Valid Loss: 1.7842, Valid Acc: 0.8376\n",
      "Epoch [20/20], Train Loss: 0.0000, Train Acc: 1.0000, Valid Loss: 1.8045, Valid Acc: 0.8376\n"
     ]
    }
   ],
   "source": [
    "# evaluate the model\n",
    "loss_fn = nn.CrossEntropyLoss()\n",
    "learning_rate = 0.001\n",
    "optimizer = torch.optim.Adam(model.parameters(), lr=learning_rate)\n",
    "\n",
    "train_and_validate(model, init_train_dl, valid_dl, optimizer, loss_fn)"
   ]
  },
  {
   "cell_type": "markdown",
   "id": "2e7288d2",
   "metadata": {},
   "source": [
    "hidden layer: 512, 256"
   ]
  },
  {
   "cell_type": "code",
   "execution_count": 34,
   "id": "c4c8f03d",
   "metadata": {
    "scrolled": true
   },
   "outputs": [
    {
     "data": {
      "text/plain": [
       "Model(\n",
       "  (flatten): Flatten(start_dim=1, end_dim=-1)\n",
       "  (stack): Sequential(\n",
       "    (0): Linear(in_features=2048, out_features=512, bias=True)\n",
       "    (1): ReLU()\n",
       "    (2): Linear(in_features=512, out_features=512, bias=True)\n",
       "    (3): ReLU()\n",
       "    (4): Linear(in_features=512, out_features=2, bias=True)\n",
       "  )\n",
       ")"
      ]
     },
     "execution_count": 34,
     "metadata": {},
     "output_type": "execute_result"
    }
   ],
   "source": [
    "# construct a nn model with hidden layer dimensions: 512, 256\n",
    "class Model(nn.Module):\n",
    "    def __init__(self):\n",
    "        super(Model, self).__init__()\n",
    "        self.flatten = nn.Flatten()\n",
    "        self.stack = nn.Sequential(\n",
    "            nn.Linear(2048, 512), \n",
    "            nn.ReLU(), \n",
    "            nn.Linear(512, 512),\n",
    "            nn.ReLU(), \n",
    "            nn.Linear(512, 2)\n",
    "        )\n",
    "        \n",
    "    def forward(self, x):\n",
    "        x = self.flatten(x)\n",
    "        logits = self.stack(x)\n",
    "        return logits\n",
    "    \n",
    "model = Model()\n",
    "model"
   ]
  },
  {
   "cell_type": "code",
   "execution_count": 35,
   "id": "8665d0fa",
   "metadata": {},
   "outputs": [
    {
     "name": "stdout",
     "output_type": "stream",
     "text": [
      "Epoch [01/20], Train Loss: 0.6685, Train Acc: 0.5849, Valid Loss: 0.5831, Valid Acc: 0.7462\n",
      "Epoch [02/20], Train Loss: 0.5220, Train Acc: 0.7421, Valid Loss: 0.5133, Valid Acc: 0.7462\n",
      "Epoch [03/20], Train Loss: 0.3645, Train Acc: 0.7925, Valid Loss: 0.4942, Valid Acc: 0.7716\n",
      "Epoch [04/20], Train Loss: 0.2344, Train Acc: 0.8805, Valid Loss: 0.4498, Valid Acc: 0.8173\n",
      "Epoch [05/20], Train Loss: 0.1299, Train Acc: 0.9874, Valid Loss: 0.4502, Valid Acc: 0.8376\n",
      "Epoch [06/20], Train Loss: 0.0657, Train Acc: 1.0000, Valid Loss: 0.5083, Valid Acc: 0.8426\n",
      "Epoch [07/20], Train Loss: 0.0239, Train Acc: 1.0000, Valid Loss: 0.6262, Valid Acc: 0.8426\n",
      "Epoch [08/20], Train Loss: 0.0082, Train Acc: 1.0000, Valid Loss: 0.7815, Valid Acc: 0.8325\n",
      "Epoch [09/20], Train Loss: 0.0029, Train Acc: 1.0000, Valid Loss: 0.9360, Valid Acc: 0.8325\n",
      "Epoch [10/20], Train Loss: 0.0011, Train Acc: 1.0000, Valid Loss: 1.0860, Valid Acc: 0.8274\n",
      "Epoch [11/20], Train Loss: 0.0006, Train Acc: 1.0000, Valid Loss: 1.2192, Valid Acc: 0.8223\n",
      "Epoch [12/20], Train Loss: 0.0004, Train Acc: 1.0000, Valid Loss: 1.3329, Valid Acc: 0.8223\n",
      "Epoch [13/20], Train Loss: 0.0002, Train Acc: 1.0000, Valid Loss: 1.4267, Valid Acc: 0.8223\n",
      "Epoch [14/20], Train Loss: 0.0001, Train Acc: 1.0000, Valid Loss: 1.5024, Valid Acc: 0.8223\n",
      "Epoch [15/20], Train Loss: 0.0001, Train Acc: 1.0000, Valid Loss: 1.5630, Valid Acc: 0.8223\n",
      "Epoch [16/20], Train Loss: 0.0001, Train Acc: 1.0000, Valid Loss: 1.6120, Valid Acc: 0.8325\n",
      "Epoch [17/20], Train Loss: 0.0001, Train Acc: 1.0000, Valid Loss: 1.6516, Valid Acc: 0.8325\n",
      "Epoch [18/20], Train Loss: 0.0000, Train Acc: 1.0000, Valid Loss: 1.6832, Valid Acc: 0.8325\n",
      "Epoch [19/20], Train Loss: 0.0000, Train Acc: 1.0000, Valid Loss: 1.7091, Valid Acc: 0.8325\n",
      "Epoch [20/20], Train Loss: 0.0000, Train Acc: 1.0000, Valid Loss: 1.7301, Valid Acc: 0.8325\n"
     ]
    }
   ],
   "source": [
    "# evaluate the model\n",
    "loss_fn = nn.CrossEntropyLoss()\n",
    "learning_rate = 0.001\n",
    "optimizer = torch.optim.Adam(model.parameters(), lr=learning_rate)\n",
    "\n",
    "train_and_validate(model, init_train_dl, valid_dl, optimizer, loss_fn)"
   ]
  },
  {
   "cell_type": "markdown",
   "id": "bd70998c",
   "metadata": {},
   "source": [
    "hidden layer size: 1024, 1024"
   ]
  },
  {
   "cell_type": "code",
   "execution_count": 36,
   "id": "54cfbe1d",
   "metadata": {
    "scrolled": true
   },
   "outputs": [
    {
     "data": {
      "text/plain": [
       "Model(\n",
       "  (flatten): Flatten(start_dim=1, end_dim=-1)\n",
       "  (stack): Sequential(\n",
       "    (0): Linear(in_features=2048, out_features=1024, bias=True)\n",
       "    (1): ReLU()\n",
       "    (2): Linear(in_features=1024, out_features=1024, bias=True)\n",
       "    (3): ReLU()\n",
       "    (4): Linear(in_features=1024, out_features=2, bias=True)\n",
       "  )\n",
       ")"
      ]
     },
     "execution_count": 36,
     "metadata": {},
     "output_type": "execute_result"
    }
   ],
   "source": [
    "# construct a nn model with hidden layer dimensions: 1024, 1024\n",
    "class Model(nn.Module):\n",
    "    def __init__(self):\n",
    "        super(Model, self).__init__()\n",
    "        self.flatten = nn.Flatten()\n",
    "        self.stack = nn.Sequential(\n",
    "            nn.Linear(2048, 1024), \n",
    "            nn.ReLU(), \n",
    "            nn.Linear(1024, 1024),\n",
    "            nn.ReLU(), \n",
    "            nn.Linear(1024, 2)\n",
    "        )\n",
    "        \n",
    "    def forward(self, x):\n",
    "        x = self.flatten(x)\n",
    "        logits = self.stack(x)\n",
    "        return logits\n",
    "    \n",
    "model = Model()\n",
    "model"
   ]
  },
  {
   "cell_type": "code",
   "execution_count": 37,
   "id": "f7fd7bf1",
   "metadata": {},
   "outputs": [
    {
     "name": "stdout",
     "output_type": "stream",
     "text": [
      "Epoch [01/20], Train Loss: 0.6249, Train Acc: 0.6918, Valid Loss: 0.5416, Valid Acc: 0.7462\n",
      "Epoch [02/20], Train Loss: 0.4290, Train Acc: 0.7673, Valid Loss: 0.4808, Valid Acc: 0.7766\n",
      "Epoch [03/20], Train Loss: 0.2175, Train Acc: 0.9057, Valid Loss: 0.3913, Valid Acc: 0.8325\n",
      "Epoch [04/20], Train Loss: 0.1012, Train Acc: 1.0000, Valid Loss: 0.4524, Valid Acc: 0.8376\n",
      "Epoch [05/20], Train Loss: 0.0296, Train Acc: 1.0000, Valid Loss: 0.7064, Valid Acc: 0.8376\n",
      "Epoch [06/20], Train Loss: 0.0079, Train Acc: 1.0000, Valid Loss: 1.0153, Valid Acc: 0.8376\n",
      "Epoch [07/20], Train Loss: 0.0028, Train Acc: 1.0000, Valid Loss: 1.3142, Valid Acc: 0.8376\n",
      "Epoch [08/20], Train Loss: 0.0009, Train Acc: 1.0000, Valid Loss: 1.5775, Valid Acc: 0.8376\n",
      "Epoch [09/20], Train Loss: 0.0004, Train Acc: 1.0000, Valid Loss: 1.8045, Valid Acc: 0.8376\n",
      "Epoch [10/20], Train Loss: 0.0002, Train Acc: 1.0000, Valid Loss: 1.9936, Valid Acc: 0.8376\n",
      "Epoch [11/20], Train Loss: 0.0001, Train Acc: 1.0000, Valid Loss: 2.1473, Valid Acc: 0.8376\n",
      "Epoch [12/20], Train Loss: 0.0001, Train Acc: 1.0000, Valid Loss: 2.2717, Valid Acc: 0.8376\n",
      "Epoch [13/20], Train Loss: 0.0001, Train Acc: 1.0000, Valid Loss: 2.3697, Valid Acc: 0.8376\n",
      "Epoch [14/20], Train Loss: 0.0001, Train Acc: 1.0000, Valid Loss: 2.4474, Valid Acc: 0.8376\n",
      "Epoch [15/20], Train Loss: 0.0000, Train Acc: 1.0000, Valid Loss: 2.5080, Valid Acc: 0.8376\n",
      "Epoch [16/20], Train Loss: 0.0000, Train Acc: 1.0000, Valid Loss: 2.5567, Valid Acc: 0.8376\n",
      "Epoch [17/20], Train Loss: 0.0000, Train Acc: 1.0000, Valid Loss: 2.5943, Valid Acc: 0.8376\n",
      "Epoch [18/20], Train Loss: 0.0000, Train Acc: 1.0000, Valid Loss: 2.6240, Valid Acc: 0.8376\n",
      "Epoch [19/20], Train Loss: 0.0000, Train Acc: 1.0000, Valid Loss: 2.6473, Valid Acc: 0.8376\n",
      "Epoch [20/20], Train Loss: 0.0000, Train Acc: 1.0000, Valid Loss: 2.6656, Valid Acc: 0.8376\n"
     ]
    }
   ],
   "source": [
    "# evaluate the model\n",
    "loss_fn = nn.CrossEntropyLoss()\n",
    "learning_rate = 0.001\n",
    "optimizer = torch.optim.Adam(model.parameters(), lr=learning_rate)\n",
    "\n",
    "train_and_validate(model, init_train_dl, valid_dl, optimizer, loss_fn)"
   ]
  },
  {
   "cell_type": "markdown",
   "id": "4d2e80b7",
   "metadata": {},
   "source": [
    "The performance of the model seems the best with a hidden layer of at least 512 dimensions. Increasing the dimensions past 512 does not significantly improve performance on the validation set."
   ]
  },
  {
   "cell_type": "markdown",
   "id": "8a4aeb4e",
   "metadata": {},
   "source": [
    "#### Number of hidden layers "
   ]
  },
  {
   "cell_type": "markdown",
   "id": "1d4beed7",
   "metadata": {},
   "source": [
    "Two hidden layers with dimensions (512, 512), (512, 512)"
   ]
  },
  {
   "cell_type": "code",
   "execution_count": 38,
   "id": "424c27ed",
   "metadata": {},
   "outputs": [
    {
     "data": {
      "text/plain": [
       "Model(\n",
       "  (flatten): Flatten(start_dim=1, end_dim=-1)\n",
       "  (stack): Sequential(\n",
       "    (0): Linear(in_features=2048, out_features=512, bias=True)\n",
       "    (1): ReLU()\n",
       "    (2): Linear(in_features=512, out_features=512, bias=True)\n",
       "    (3): ReLU()\n",
       "    (4): Linear(in_features=512, out_features=512, bias=True)\n",
       "    (5): ReLU()\n",
       "    (6): Linear(in_features=512, out_features=2, bias=True)\n",
       "  )\n",
       ")"
      ]
     },
     "execution_count": 38,
     "metadata": {},
     "output_type": "execute_result"
    }
   ],
   "source": [
    "# construct a nn model with 2 hidden layers\n",
    "class Model(nn.Module):\n",
    "    def __init__(self):\n",
    "        super(Model, self).__init__()\n",
    "        self.flatten = nn.Flatten()\n",
    "        self.stack = nn.Sequential(\n",
    "            nn.Linear(2048, 512), \n",
    "            nn.ReLU(), \n",
    "            nn.Linear(512, 512),\n",
    "            nn.ReLU(), \n",
    "            nn.Linear(512, 512),\n",
    "            nn.ReLU(), \n",
    "            nn.Linear(512, 2)\n",
    "        )\n",
    "        \n",
    "    def forward(self, x):\n",
    "        x = self.flatten(x)\n",
    "        logits = self.stack(x)\n",
    "        return logits\n",
    "    \n",
    "model = Model()\n",
    "model"
   ]
  },
  {
   "cell_type": "code",
   "execution_count": 39,
   "id": "b9e03d8d",
   "metadata": {
    "scrolled": true
   },
   "outputs": [
    {
     "name": "stdout",
     "output_type": "stream",
     "text": [
      "Epoch [01/20], Train Loss: 0.6772, Train Acc: 0.5786, Valid Loss: 0.5917, Valid Acc: 0.7462\n",
      "Epoch [02/20], Train Loss: 0.5467, Train Acc: 0.7421, Valid Loss: 0.5342, Valid Acc: 0.7462\n",
      "Epoch [03/20], Train Loss: 0.3665, Train Acc: 0.7736, Valid Loss: 0.4915, Valid Acc: 0.7716\n",
      "Epoch [04/20], Train Loss: 0.2377, Train Acc: 0.8679, Valid Loss: 0.5274, Valid Acc: 0.8223\n",
      "Epoch [05/20], Train Loss: 0.1478, Train Acc: 0.9874, Valid Loss: 0.6124, Valid Acc: 0.8173\n",
      "Epoch [06/20], Train Loss: 0.0809, Train Acc: 1.0000, Valid Loss: 0.7396, Valid Acc: 0.8274\n",
      "Epoch [07/20], Train Loss: 0.0277, Train Acc: 1.0000, Valid Loss: 0.8555, Valid Acc: 0.8274\n",
      "Epoch [08/20], Train Loss: 0.0067, Train Acc: 1.0000, Valid Loss: 1.0122, Valid Acc: 0.8325\n",
      "Epoch [09/20], Train Loss: 0.0016, Train Acc: 1.0000, Valid Loss: 1.2218, Valid Acc: 0.8274\n",
      "Epoch [10/20], Train Loss: 0.0004, Train Acc: 1.0000, Valid Loss: 1.4595, Valid Acc: 0.8173\n",
      "Epoch [11/20], Train Loss: 0.0001, Train Acc: 1.0000, Valid Loss: 1.6826, Valid Acc: 0.8274\n",
      "Epoch [12/20], Train Loss: 0.0001, Train Acc: 1.0000, Valid Loss: 1.8749, Valid Acc: 0.8223\n",
      "Epoch [13/20], Train Loss: 0.0000, Train Acc: 1.0000, Valid Loss: 2.0333, Valid Acc: 0.8223\n",
      "Epoch [14/20], Train Loss: 0.0000, Train Acc: 1.0000, Valid Loss: 2.1612, Valid Acc: 0.8223\n",
      "Epoch [15/20], Train Loss: 0.0000, Train Acc: 1.0000, Valid Loss: 2.2625, Valid Acc: 0.8173\n",
      "Epoch [16/20], Train Loss: 0.0000, Train Acc: 1.0000, Valid Loss: 2.3416, Valid Acc: 0.8173\n",
      "Epoch [17/20], Train Loss: 0.0000, Train Acc: 1.0000, Valid Loss: 2.4029, Valid Acc: 0.8122\n",
      "Epoch [18/20], Train Loss: 0.0000, Train Acc: 1.0000, Valid Loss: 2.4499, Valid Acc: 0.8122\n",
      "Epoch [19/20], Train Loss: 0.0000, Train Acc: 1.0000, Valid Loss: 2.4859, Valid Acc: 0.8122\n",
      "Epoch [20/20], Train Loss: 0.0000, Train Acc: 1.0000, Valid Loss: 2.5132, Valid Acc: 0.8122\n"
     ]
    }
   ],
   "source": [
    "# evaluate the model\n",
    "loss_fn = nn.CrossEntropyLoss()\n",
    "learning_rate = 0.001\n",
    "optimizer = torch.optim.Adam(model.parameters(), lr=learning_rate)\n",
    "\n",
    "train_and_validate(model, init_train_dl, valid_dl, optimizer, loss_fn)"
   ]
  },
  {
   "cell_type": "markdown",
   "id": "9512458a",
   "metadata": {},
   "source": [
    "Two hidden layers with dimensions (512, 512, 512, 256)"
   ]
  },
  {
   "cell_type": "code",
   "execution_count": 40,
   "id": "17f04cad",
   "metadata": {},
   "outputs": [
    {
     "data": {
      "text/plain": [
       "Model(\n",
       "  (flatten): Flatten(start_dim=1, end_dim=-1)\n",
       "  (stack): Sequential(\n",
       "    (0): Linear(in_features=2048, out_features=512, bias=True)\n",
       "    (1): ReLU()\n",
       "    (2): Linear(in_features=512, out_features=512, bias=True)\n",
       "    (3): ReLU()\n",
       "    (4): Linear(in_features=512, out_features=256, bias=True)\n",
       "    (5): ReLU()\n",
       "    (6): Linear(in_features=256, out_features=2, bias=True)\n",
       "  )\n",
       ")"
      ]
     },
     "execution_count": 40,
     "metadata": {},
     "output_type": "execute_result"
    }
   ],
   "source": [
    "# construct a nn model with 2 hidden layers\n",
    "class Model(nn.Module):\n",
    "    def __init__(self):\n",
    "        super(Model, self).__init__()\n",
    "        self.flatten = nn.Flatten()\n",
    "        self.stack = nn.Sequential(\n",
    "            nn.Linear(2048, 512), \n",
    "            nn.ReLU(), \n",
    "            nn.Linear(512, 512),\n",
    "            nn.ReLU(), \n",
    "            nn.Linear(512, 256),\n",
    "            nn.ReLU(), \n",
    "            nn.Linear(256, 2)\n",
    "        )\n",
    "        \n",
    "    def forward(self, x):\n",
    "        x = self.flatten(x)\n",
    "        logits = self.stack(x)\n",
    "        return logits\n",
    "    \n",
    "model = Model()\n",
    "model"
   ]
  },
  {
   "cell_type": "code",
   "execution_count": 41,
   "id": "803759a8",
   "metadata": {
    "scrolled": false
   },
   "outputs": [
    {
     "name": "stdout",
     "output_type": "stream",
     "text": [
      "Epoch [01/20], Train Loss: 0.6596, Train Acc: 0.7421, Valid Loss: 0.5810, Valid Acc: 0.7462\n",
      "Epoch [02/20], Train Loss: 0.5240, Train Acc: 0.7421, Valid Loss: 0.5244, Valid Acc: 0.7462\n",
      "Epoch [03/20], Train Loss: 0.3527, Train Acc: 0.7736, Valid Loss: 0.5044, Valid Acc: 0.7716\n",
      "Epoch [04/20], Train Loss: 0.2272, Train Acc: 0.8868, Valid Loss: 0.4837, Valid Acc: 0.8274\n",
      "Epoch [05/20], Train Loss: 0.1488, Train Acc: 0.9937, Valid Loss: 0.6155, Valid Acc: 0.8274\n",
      "Epoch [06/20], Train Loss: 0.0903, Train Acc: 1.0000, Valid Loss: 0.7961, Valid Acc: 0.8274\n",
      "Epoch [07/20], Train Loss: 0.0388, Train Acc: 1.0000, Valid Loss: 0.9268, Valid Acc: 0.8325\n",
      "Epoch [08/20], Train Loss: 0.0096, Train Acc: 1.0000, Valid Loss: 1.0491, Valid Acc: 0.8223\n",
      "Epoch [09/20], Train Loss: 0.0022, Train Acc: 1.0000, Valid Loss: 1.2051, Valid Acc: 0.8325\n",
      "Epoch [10/20], Train Loss: 0.0006, Train Acc: 1.0000, Valid Loss: 1.3711, Valid Acc: 0.8173\n",
      "Epoch [11/20], Train Loss: 0.0001, Train Acc: 1.0000, Valid Loss: 1.5308, Valid Acc: 0.8071\n",
      "Epoch [12/20], Train Loss: 0.0000, Train Acc: 1.0000, Valid Loss: 1.6752, Valid Acc: 0.8071\n",
      "Epoch [13/20], Train Loss: 0.0000, Train Acc: 1.0000, Valid Loss: 1.7990, Valid Acc: 0.8071\n",
      "Epoch [14/20], Train Loss: 0.0000, Train Acc: 1.0000, Valid Loss: 1.9015, Valid Acc: 0.8020\n",
      "Epoch [15/20], Train Loss: 0.0000, Train Acc: 1.0000, Valid Loss: 1.9841, Valid Acc: 0.8020\n",
      "Epoch [16/20], Train Loss: 0.0000, Train Acc: 1.0000, Valid Loss: 2.0491, Valid Acc: 0.7970\n",
      "Epoch [17/20], Train Loss: 0.0000, Train Acc: 1.0000, Valid Loss: 2.0997, Valid Acc: 0.7919\n",
      "Epoch [18/20], Train Loss: 0.0000, Train Acc: 1.0000, Valid Loss: 2.1387, Valid Acc: 0.7919\n",
      "Epoch [19/20], Train Loss: 0.0000, Train Acc: 1.0000, Valid Loss: 2.1685, Valid Acc: 0.7919\n",
      "Epoch [20/20], Train Loss: 0.0000, Train Acc: 1.0000, Valid Loss: 2.1911, Valid Acc: 0.7919\n"
     ]
    }
   ],
   "source": [
    "# evaluate the model\n",
    "loss_fn = nn.CrossEntropyLoss()\n",
    "learning_rate = 0.001\n",
    "optimizer = torch.optim.Adam(model.parameters(), lr=learning_rate)\n",
    "\n",
    "train_and_validate(model, init_train_dl, valid_dl, optimizer, loss_fn)"
   ]
  },
  {
   "cell_type": "markdown",
   "id": "6e76ead6",
   "metadata": {},
   "source": [
    "Two hidden layers with dimensions (1024, 512, 512, 512)"
   ]
  },
  {
   "cell_type": "code",
   "execution_count": 42,
   "id": "a022d744",
   "metadata": {},
   "outputs": [
    {
     "data": {
      "text/plain": [
       "Model(\n",
       "  (flatten): Flatten(start_dim=1, end_dim=-1)\n",
       "  (stack): Sequential(\n",
       "    (0): Linear(in_features=2048, out_features=1024, bias=True)\n",
       "    (1): ReLU()\n",
       "    (2): Linear(in_features=1024, out_features=512, bias=True)\n",
       "    (3): ReLU()\n",
       "    (4): Linear(in_features=512, out_features=512, bias=True)\n",
       "    (5): ReLU()\n",
       "    (6): Linear(in_features=512, out_features=2, bias=True)\n",
       "  )\n",
       ")"
      ]
     },
     "execution_count": 42,
     "metadata": {},
     "output_type": "execute_result"
    }
   ],
   "source": [
    "# construct a nn model with 2 hidden layers\n",
    "class Model(nn.Module):\n",
    "    def __init__(self):\n",
    "        super(Model, self).__init__()\n",
    "        self.flatten = nn.Flatten()\n",
    "        self.stack = nn.Sequential(\n",
    "            nn.Linear(2048, 1024), \n",
    "            nn.ReLU(), \n",
    "            nn.Linear(1024, 512),\n",
    "            nn.ReLU(), \n",
    "            nn.Linear(512, 512),\n",
    "            nn.ReLU(), \n",
    "            nn.Linear(512, 2)\n",
    "        )\n",
    "        \n",
    "    def forward(self, x):\n",
    "        x = self.flatten(x)\n",
    "        logits = self.stack(x)\n",
    "        return logits\n",
    "    \n",
    "model = Model()\n",
    "model"
   ]
  },
  {
   "cell_type": "code",
   "execution_count": 43,
   "id": "501f0754",
   "metadata": {
    "scrolled": false
   },
   "outputs": [
    {
     "name": "stdout",
     "output_type": "stream",
     "text": [
      "Epoch [01/20], Train Loss: 0.6725, Train Acc: 0.5157, Valid Loss: 0.5636, Valid Acc: 0.7462\n",
      "Epoch [02/20], Train Loss: 0.4878, Train Acc: 0.7421, Valid Loss: 0.5574, Valid Acc: 0.7462\n",
      "Epoch [03/20], Train Loss: 0.3236, Train Acc: 0.7736, Valid Loss: 0.5025, Valid Acc: 0.7868\n",
      "Epoch [04/20], Train Loss: 0.2005, Train Acc: 0.9119, Valid Loss: 0.5410, Valid Acc: 0.8274\n",
      "Epoch [05/20], Train Loss: 0.1339, Train Acc: 1.0000, Valid Loss: 0.6292, Valid Acc: 0.8325\n",
      "Epoch [06/20], Train Loss: 0.0680, Train Acc: 1.0000, Valid Loss: 0.7521, Valid Acc: 0.8325\n",
      "Epoch [07/20], Train Loss: 0.0182, Train Acc: 1.0000, Valid Loss: 0.9011, Valid Acc: 0.8325\n",
      "Epoch [08/20], Train Loss: 0.0027, Train Acc: 1.0000, Valid Loss: 1.0938, Valid Acc: 0.8325\n",
      "Epoch [09/20], Train Loss: 0.0005, Train Acc: 1.0000, Valid Loss: 1.3479, Valid Acc: 0.8173\n",
      "Epoch [10/20], Train Loss: 0.0001, Train Acc: 1.0000, Valid Loss: 1.6674, Valid Acc: 0.8122\n",
      "Epoch [11/20], Train Loss: 0.0000, Train Acc: 1.0000, Valid Loss: 1.9999, Valid Acc: 0.8020\n",
      "Epoch [12/20], Train Loss: 0.0000, Train Acc: 1.0000, Valid Loss: 2.2999, Valid Acc: 0.7868\n",
      "Epoch [13/20], Train Loss: 0.0000, Train Acc: 1.0000, Valid Loss: 2.5547, Valid Acc: 0.7766\n",
      "Epoch [14/20], Train Loss: 0.0000, Train Acc: 1.0000, Valid Loss: 2.7630, Valid Acc: 0.7716\n",
      "Epoch [15/20], Train Loss: 0.0000, Train Acc: 1.0000, Valid Loss: 2.9285, Valid Acc: 0.7716\n",
      "Epoch [16/20], Train Loss: 0.0000, Train Acc: 1.0000, Valid Loss: 3.0572, Valid Acc: 0.7716\n",
      "Epoch [17/20], Train Loss: 0.0000, Train Acc: 1.0000, Valid Loss: 3.1558, Valid Acc: 0.7716\n",
      "Epoch [18/20], Train Loss: 0.0000, Train Acc: 1.0000, Valid Loss: 3.2303, Valid Acc: 0.7716\n",
      "Epoch [19/20], Train Loss: 0.0000, Train Acc: 1.0000, Valid Loss: 3.2864, Valid Acc: 0.7716\n",
      "Epoch [20/20], Train Loss: 0.0000, Train Acc: 1.0000, Valid Loss: 3.3278, Valid Acc: 0.7716\n"
     ]
    }
   ],
   "source": [
    "# evaluate the model\n",
    "loss_fn = nn.CrossEntropyLoss()\n",
    "learning_rate = 0.001\n",
    "optimizer = torch.optim.Adam(model.parameters(), lr=learning_rate)\n",
    "\n",
    "train_and_validate(model, init_train_dl, valid_dl, optimizer, loss_fn)"
   ]
  },
  {
   "cell_type": "markdown",
   "id": "53006398",
   "metadata": {},
   "source": [
    "Three hidden layers with dimensions (512, 512), (512, 512), (512, 512)"
   ]
  },
  {
   "cell_type": "code",
   "execution_count": 44,
   "id": "ecf613a5",
   "metadata": {},
   "outputs": [
    {
     "data": {
      "text/plain": [
       "Model(\n",
       "  (flatten): Flatten(start_dim=1, end_dim=-1)\n",
       "  (stack): Sequential(\n",
       "    (0): Linear(in_features=2048, out_features=512, bias=True)\n",
       "    (1): ReLU()\n",
       "    (2): Linear(in_features=512, out_features=512, bias=True)\n",
       "    (3): ReLU()\n",
       "    (4): Linear(in_features=512, out_features=512, bias=True)\n",
       "    (5): ReLU()\n",
       "    (6): Linear(in_features=512, out_features=512, bias=True)\n",
       "    (7): ReLU()\n",
       "    (8): Linear(in_features=512, out_features=2, bias=True)\n",
       "  )\n",
       ")"
      ]
     },
     "execution_count": 44,
     "metadata": {},
     "output_type": "execute_result"
    }
   ],
   "source": [
    "# construct a nn model with 2 hidden layers\n",
    "class Model(nn.Module):\n",
    "    def __init__(self):\n",
    "        super(Model, self).__init__()\n",
    "        self.flatten = nn.Flatten()\n",
    "        self.stack = nn.Sequential(\n",
    "            nn.Linear(2048, 512), \n",
    "            nn.ReLU(), \n",
    "            nn.Linear(512, 512),\n",
    "            nn.ReLU(), \n",
    "            nn.Linear(512, 512),\n",
    "            nn.ReLU(), \n",
    "            nn.Linear(512, 512),\n",
    "            nn.ReLU(), \n",
    "            nn.Linear(512, 2)\n",
    "        )\n",
    "        \n",
    "    def forward(self, x):\n",
    "        x = self.flatten(x)\n",
    "        logits = self.stack(x)\n",
    "        return logits\n",
    "    \n",
    "model = Model()\n",
    "model"
   ]
  },
  {
   "cell_type": "code",
   "execution_count": 45,
   "id": "a8f685cf",
   "metadata": {
    "scrolled": false
   },
   "outputs": [
    {
     "name": "stdout",
     "output_type": "stream",
     "text": [
      "Epoch [01/20], Train Loss: 0.6666, Train Acc: 0.7421, Valid Loss: 0.5994, Valid Acc: 0.7462\n",
      "Epoch [02/20], Train Loss: 0.5389, Train Acc: 0.7421, Valid Loss: 0.6116, Valid Acc: 0.7462\n",
      "Epoch [03/20], Train Loss: 0.4015, Train Acc: 0.7421, Valid Loss: 0.4855, Valid Acc: 0.7462\n",
      "Epoch [04/20], Train Loss: 0.2551, Train Acc: 0.7925, Valid Loss: 0.4568, Valid Acc: 0.8173\n",
      "Epoch [05/20], Train Loss: 0.1795, Train Acc: 0.9811, Valid Loss: 0.6923, Valid Acc: 0.8274\n",
      "Epoch [06/20], Train Loss: 0.1230, Train Acc: 1.0000, Valid Loss: 1.1063, Valid Acc: 0.8274\n",
      "Epoch [07/20], Train Loss: 0.0483, Train Acc: 1.0000, Valid Loss: 1.4581, Valid Acc: 0.8325\n",
      "Epoch [08/20], Train Loss: 0.0062, Train Acc: 1.0000, Valid Loss: 1.7529, Valid Acc: 0.8325\n",
      "Epoch [09/20], Train Loss: 0.0004, Train Acc: 1.0000, Valid Loss: 2.1248, Valid Acc: 0.8274\n",
      "Epoch [10/20], Train Loss: 0.0000, Train Acc: 1.0000, Valid Loss: 2.5419, Valid Acc: 0.8173\n",
      "Epoch [11/20], Train Loss: 0.0000, Train Acc: 1.0000, Valid Loss: 3.0555, Valid Acc: 0.8122\n",
      "Epoch [12/20], Train Loss: 0.0000, Train Acc: 1.0000, Valid Loss: 3.6053, Valid Acc: 0.7970\n",
      "Epoch [13/20], Train Loss: 0.0000, Train Acc: 1.0000, Valid Loss: 4.1333, Valid Acc: 0.8071\n",
      "Epoch [14/20], Train Loss: 0.0000, Train Acc: 1.0000, Valid Loss: 4.6023, Valid Acc: 0.8071\n",
      "Epoch [15/20], Train Loss: 0.0000, Train Acc: 1.0000, Valid Loss: 4.9972, Valid Acc: 0.8020\n",
      "Epoch [16/20], Train Loss: 0.0000, Train Acc: 1.0000, Valid Loss: 5.3193, Valid Acc: 0.7919\n",
      "Epoch [17/20], Train Loss: 0.0000, Train Acc: 1.0000, Valid Loss: 5.5761, Valid Acc: 0.7766\n",
      "Epoch [18/20], Train Loss: 0.0000, Train Acc: 1.0000, Valid Loss: 5.7760, Valid Acc: 0.7766\n",
      "Epoch [19/20], Train Loss: 0.0000, Train Acc: 1.0000, Valid Loss: 5.9293, Valid Acc: 0.7766\n",
      "Epoch [20/20], Train Loss: 0.0000, Train Acc: 1.0000, Valid Loss: 6.0453, Valid Acc: 0.7766\n"
     ]
    }
   ],
   "source": [
    "# evaluate the model\n",
    "loss_fn = nn.CrossEntropyLoss()\n",
    "learning_rate = 0.001\n",
    "optimizer = torch.optim.Adam(model.parameters(), lr=learning_rate)\n",
    "\n",
    "train_and_validate(model, init_train_dl, valid_dl, optimizer, loss_fn)"
   ]
  },
  {
   "cell_type": "markdown",
   "id": "e98b9b5f",
   "metadata": {},
   "source": [
    "The performance does not seem to improve with more hidden layers. I will keep the model with only one hidden layer."
   ]
  },
  {
   "cell_type": "markdown",
   "id": "d6e81ab5",
   "metadata": {},
   "source": [
    "#### Activation functions"
   ]
  },
  {
   "cell_type": "markdown",
   "id": "300105e0",
   "metadata": {},
   "source": [
    "ReLU activation function"
   ]
  },
  {
   "cell_type": "code",
   "execution_count": 50,
   "id": "869c401e",
   "metadata": {
    "scrolled": true
   },
   "outputs": [
    {
     "data": {
      "text/plain": [
       "Model(\n",
       "  (flatten): Flatten(start_dim=1, end_dim=-1)\n",
       "  (stack): Sequential(\n",
       "    (0): Linear(in_features=2048, out_features=512, bias=True)\n",
       "    (1): ReLU()\n",
       "    (2): Linear(in_features=512, out_features=512, bias=True)\n",
       "    (3): ReLU()\n",
       "    (4): Linear(in_features=512, out_features=2, bias=True)\n",
       "  )\n",
       ")"
      ]
     },
     "execution_count": 50,
     "metadata": {},
     "output_type": "execute_result"
    }
   ],
   "source": [
    "# construct a nn model with ReLU activation function\n",
    "class Model(nn.Module):\n",
    "    def __init__(self):\n",
    "        super(Model, self).__init__()\n",
    "        self.flatten = nn.Flatten()\n",
    "        self.stack = nn.Sequential(\n",
    "            nn.Linear(2048, 512), \n",
    "            nn.ReLU(), \n",
    "            nn.Linear(512, 512),\n",
    "            nn.ReLU(), \n",
    "            nn.Linear(512, 2)\n",
    "        )\n",
    "        \n",
    "    def forward(self, x):\n",
    "        x = self.flatten(x)\n",
    "        logits = self.stack(x)\n",
    "        return logits\n",
    "    \n",
    "model = Model()\n",
    "model"
   ]
  },
  {
   "cell_type": "code",
   "execution_count": 51,
   "id": "849b2bd7",
   "metadata": {
    "scrolled": false
   },
   "outputs": [
    {
     "name": "stdout",
     "output_type": "stream",
     "text": [
      "Epoch [01/20], Train Loss: 0.6588, Train Acc: 0.6352, Valid Loss: 0.5781, Valid Acc: 0.7462\n",
      "Epoch [02/20], Train Loss: 0.4998, Train Acc: 0.7484, Valid Loss: 0.5217, Valid Acc: 0.7462\n",
      "Epoch [03/20], Train Loss: 0.3462, Train Acc: 0.7987, Valid Loss: 0.5155, Valid Acc: 0.7868\n",
      "Epoch [04/20], Train Loss: 0.1955, Train Acc: 0.9119, Valid Loss: 0.4659, Valid Acc: 0.8223\n",
      "Epoch [05/20], Train Loss: 0.0981, Train Acc: 0.9937, Valid Loss: 0.4486, Valid Acc: 0.8223\n",
      "Epoch [06/20], Train Loss: 0.0455, Train Acc: 1.0000, Valid Loss: 0.5116, Valid Acc: 0.8376\n",
      "Epoch [07/20], Train Loss: 0.0177, Train Acc: 1.0000, Valid Loss: 0.6396, Valid Acc: 0.8376\n",
      "Epoch [08/20], Train Loss: 0.0068, Train Acc: 1.0000, Valid Loss: 0.8055, Valid Acc: 0.8325\n",
      "Epoch [09/20], Train Loss: 0.0030, Train Acc: 1.0000, Valid Loss: 0.9819, Valid Acc: 0.8274\n",
      "Epoch [10/20], Train Loss: 0.0014, Train Acc: 1.0000, Valid Loss: 1.1462, Valid Acc: 0.8274\n",
      "Epoch [11/20], Train Loss: 0.0008, Train Acc: 1.0000, Valid Loss: 1.2920, Valid Acc: 0.8274\n",
      "Epoch [12/20], Train Loss: 0.0004, Train Acc: 1.0000, Valid Loss: 1.4148, Valid Acc: 0.8274\n",
      "Epoch [13/20], Train Loss: 0.0003, Train Acc: 1.0000, Valid Loss: 1.5167, Valid Acc: 0.8274\n",
      "Epoch [14/20], Train Loss: 0.0002, Train Acc: 1.0000, Valid Loss: 1.5992, Valid Acc: 0.8325\n",
      "Epoch [15/20], Train Loss: 0.0001, Train Acc: 1.0000, Valid Loss: 1.6641, Valid Acc: 0.8325\n",
      "Epoch [16/20], Train Loss: 0.0001, Train Acc: 1.0000, Valid Loss: 1.7156, Valid Acc: 0.8325\n",
      "Epoch [17/20], Train Loss: 0.0001, Train Acc: 1.0000, Valid Loss: 1.7577, Valid Acc: 0.8325\n",
      "Epoch [18/20], Train Loss: 0.0001, Train Acc: 1.0000, Valid Loss: 1.7905, Valid Acc: 0.8325\n",
      "Epoch [19/20], Train Loss: 0.0001, Train Acc: 1.0000, Valid Loss: 1.8167, Valid Acc: 0.8325\n",
      "Epoch [20/20], Train Loss: 0.0001, Train Acc: 1.0000, Valid Loss: 1.8371, Valid Acc: 0.8325\n"
     ]
    }
   ],
   "source": [
    "# evaluate the model\n",
    "loss_fn = nn.CrossEntropyLoss()\n",
    "learning_rate = 0.001\n",
    "optimizer = torch.optim.Adam(model.parameters(), lr=learning_rate)\n",
    "\n",
    "train_and_validate(model, init_train_dl, valid_dl, optimizer, loss_fn)"
   ]
  },
  {
   "cell_type": "markdown",
   "id": "f9bd0687",
   "metadata": {},
   "source": [
    "Sigmoid activation function"
   ]
  },
  {
   "cell_type": "code",
   "execution_count": 52,
   "id": "64fb48b0",
   "metadata": {},
   "outputs": [
    {
     "data": {
      "text/plain": [
       "Model(\n",
       "  (flatten): Flatten(start_dim=1, end_dim=-1)\n",
       "  (stack): Sequential(\n",
       "    (0): Linear(in_features=2048, out_features=512, bias=True)\n",
       "    (1): Sigmoid()\n",
       "    (2): Linear(in_features=512, out_features=512, bias=True)\n",
       "    (3): Sigmoid()\n",
       "    (4): Linear(in_features=512, out_features=2, bias=True)\n",
       "  )\n",
       ")"
      ]
     },
     "execution_count": 52,
     "metadata": {},
     "output_type": "execute_result"
    }
   ],
   "source": [
    "# construct a nn model with Sigmoid activation function\n",
    "class Model(nn.Module):\n",
    "    def __init__(self):\n",
    "        super(Model, self).__init__()\n",
    "        self.flatten = nn.Flatten()\n",
    "        self.stack = nn.Sequential(\n",
    "            nn.Linear(2048, 512), \n",
    "            nn.Sigmoid(), \n",
    "            nn.Linear(512, 512),\n",
    "            nn.Sigmoid(), \n",
    "            nn.Linear(512, 2)\n",
    "        )\n",
    "        \n",
    "    def forward(self, x):\n",
    "        x = self.flatten(x)\n",
    "        logits = self.stack(x)\n",
    "        return logits\n",
    "    \n",
    "model = Model()\n",
    "model"
   ]
  },
  {
   "cell_type": "code",
   "execution_count": 53,
   "id": "070f34ec",
   "metadata": {
    "scrolled": false
   },
   "outputs": [
    {
     "name": "stdout",
     "output_type": "stream",
     "text": [
      "Epoch [01/20], Train Loss: 0.5799, Train Acc: 0.6164, Valid Loss: 0.7237, Valid Acc: 0.7462\n",
      "Epoch [02/20], Train Loss: 0.6981, Train Acc: 0.7421, Valid Loss: 0.5599, Valid Acc: 0.7462\n",
      "Epoch [03/20], Train Loss: 0.5640, Train Acc: 0.7421, Valid Loss: 0.5856, Valid Acc: 0.7462\n",
      "Epoch [04/20], Train Loss: 0.5551, Train Acc: 0.7421, Valid Loss: 0.5525, Valid Acc: 0.7462\n",
      "Epoch [05/20], Train Loss: 0.5404, Train Acc: 0.7421, Valid Loss: 0.5675, Valid Acc: 0.7462\n",
      "Epoch [06/20], Train Loss: 0.5151, Train Acc: 0.7421, Valid Loss: 0.5284, Valid Acc: 0.7462\n",
      "Epoch [07/20], Train Loss: 0.4891, Train Acc: 0.7736, Valid Loss: 0.5322, Valid Acc: 0.7513\n",
      "Epoch [08/20], Train Loss: 0.4457, Train Acc: 0.8113, Valid Loss: 0.4962, Valid Acc: 0.7513\n",
      "Epoch [09/20], Train Loss: 0.3978, Train Acc: 0.7799, Valid Loss: 0.5076, Valid Acc: 0.7513\n",
      "Epoch [10/20], Train Loss: 0.3557, Train Acc: 0.7987, Valid Loss: 0.4515, Valid Acc: 0.7766\n",
      "Epoch [11/20], Train Loss: 0.2809, Train Acc: 0.9057, Valid Loss: 0.4262, Valid Acc: 0.8223\n",
      "Epoch [12/20], Train Loss: 0.2390, Train Acc: 0.9623, Valid Loss: 0.4061, Valid Acc: 0.8274\n",
      "Epoch [13/20], Train Loss: 0.1849, Train Acc: 0.9497, Valid Loss: 0.4133, Valid Acc: 0.8173\n",
      "Epoch [14/20], Train Loss: 0.1451, Train Acc: 0.9560, Valid Loss: 0.4130, Valid Acc: 0.8274\n",
      "Epoch [15/20], Train Loss: 0.1117, Train Acc: 0.9686, Valid Loss: 0.4014, Valid Acc: 0.8274\n",
      "Epoch [16/20], Train Loss: 0.0878, Train Acc: 0.9811, Valid Loss: 0.3907, Valid Acc: 0.8376\n",
      "Epoch [17/20], Train Loss: 0.0669, Train Acc: 0.9874, Valid Loss: 0.4068, Valid Acc: 0.8376\n",
      "Epoch [18/20], Train Loss: 0.0496, Train Acc: 1.0000, Valid Loss: 0.4376, Valid Acc: 0.8376\n",
      "Epoch [19/20], Train Loss: 0.0372, Train Acc: 0.9937, Valid Loss: 0.4758, Valid Acc: 0.8274\n",
      "Epoch [20/20], Train Loss: 0.0289, Train Acc: 0.9937, Valid Loss: 0.4999, Valid Acc: 0.8274\n"
     ]
    }
   ],
   "source": [
    "# evaluate the model\n",
    "loss_fn = nn.CrossEntropyLoss()\n",
    "learning_rate = 0.001\n",
    "optimizer = torch.optim.Adam(model.parameters(), lr=learning_rate)\n",
    "\n",
    "train_and_validate(model, init_train_dl, valid_dl, optimizer, loss_fn)"
   ]
  },
  {
   "cell_type": "markdown",
   "id": "1cc63f23",
   "metadata": {},
   "source": [
    "Tanh activation function"
   ]
  },
  {
   "cell_type": "code",
   "execution_count": 54,
   "id": "9ccbee40",
   "metadata": {},
   "outputs": [
    {
     "data": {
      "text/plain": [
       "Model(\n",
       "  (flatten): Flatten(start_dim=1, end_dim=-1)\n",
       "  (stack): Sequential(\n",
       "    (0): Linear(in_features=2048, out_features=512, bias=True)\n",
       "    (1): Tanh()\n",
       "    (2): Linear(in_features=512, out_features=512, bias=True)\n",
       "    (3): Tanh()\n",
       "    (4): Linear(in_features=512, out_features=2, bias=True)\n",
       "  )\n",
       ")"
      ]
     },
     "execution_count": 54,
     "metadata": {},
     "output_type": "execute_result"
    }
   ],
   "source": [
    "# construct a nn model with Tanh activation function\n",
    "class Model(nn.Module):\n",
    "    def __init__(self):\n",
    "        super(Model, self).__init__()\n",
    "        self.flatten = nn.Flatten()\n",
    "        self.stack = nn.Sequential(\n",
    "            nn.Linear(2048, 512), \n",
    "            nn.Tanh(), \n",
    "            nn.Linear(512, 512),\n",
    "            nn.Tanh(), \n",
    "            nn.Linear(512, 2)\n",
    "        )\n",
    "        \n",
    "    def forward(self, x):\n",
    "        x = self.flatten(x)\n",
    "        logits = self.stack(x)\n",
    "        return logits\n",
    "    \n",
    "model = Model()\n",
    "model"
   ]
  },
  {
   "cell_type": "code",
   "execution_count": 55,
   "id": "70962fbe",
   "metadata": {
    "scrolled": false
   },
   "outputs": [
    {
     "name": "stdout",
     "output_type": "stream",
     "text": [
      "Epoch [01/20], Train Loss: 0.6462, Train Acc: 0.5535, Valid Loss: 0.5074, Valid Acc: 0.7563\n",
      "Epoch [02/20], Train Loss: 0.3459, Train Acc: 0.8176, Valid Loss: 0.4371, Valid Acc: 0.8223\n",
      "Epoch [03/20], Train Loss: 0.1284, Train Acc: 0.9623, Valid Loss: 0.4397, Valid Acc: 0.8274\n",
      "Epoch [04/20], Train Loss: 0.0407, Train Acc: 1.0000, Valid Loss: 0.5697, Valid Acc: 0.8376\n",
      "Epoch [05/20], Train Loss: 0.0109, Train Acc: 1.0000, Valid Loss: 0.7758, Valid Acc: 0.8325\n",
      "Epoch [06/20], Train Loss: 0.0030, Train Acc: 1.0000, Valid Loss: 1.0044, Valid Acc: 0.8325\n",
      "Epoch [07/20], Train Loss: 0.0011, Train Acc: 1.0000, Valid Loss: 1.2145, Valid Acc: 0.8376\n",
      "Epoch [08/20], Train Loss: 0.0005, Train Acc: 1.0000, Valid Loss: 1.3936, Valid Acc: 0.8325\n",
      "Epoch [09/20], Train Loss: 0.0003, Train Acc: 1.0000, Valid Loss: 1.5434, Valid Acc: 0.8325\n",
      "Epoch [10/20], Train Loss: 0.0002, Train Acc: 1.0000, Valid Loss: 1.6636, Valid Acc: 0.8274\n",
      "Epoch [11/20], Train Loss: 0.0001, Train Acc: 1.0000, Valid Loss: 1.7581, Valid Acc: 0.8274\n",
      "Epoch [12/20], Train Loss: 0.0001, Train Acc: 1.0000, Valid Loss: 1.8321, Valid Acc: 0.8274\n",
      "Epoch [13/20], Train Loss: 0.0001, Train Acc: 1.0000, Valid Loss: 1.8894, Valid Acc: 0.8274\n",
      "Epoch [14/20], Train Loss: 0.0000, Train Acc: 1.0000, Valid Loss: 1.9336, Valid Acc: 0.8223\n",
      "Epoch [15/20], Train Loss: 0.0000, Train Acc: 1.0000, Valid Loss: 1.9678, Valid Acc: 0.8173\n",
      "Epoch [16/20], Train Loss: 0.0000, Train Acc: 1.0000, Valid Loss: 1.9940, Valid Acc: 0.8173\n",
      "Epoch [17/20], Train Loss: 0.0000, Train Acc: 1.0000, Valid Loss: 2.0146, Valid Acc: 0.8173\n",
      "Epoch [18/20], Train Loss: 0.0000, Train Acc: 1.0000, Valid Loss: 2.0305, Valid Acc: 0.8173\n",
      "Epoch [19/20], Train Loss: 0.0000, Train Acc: 1.0000, Valid Loss: 2.0431, Valid Acc: 0.8173\n",
      "Epoch [20/20], Train Loss: 0.0000, Train Acc: 1.0000, Valid Loss: 2.0530, Valid Acc: 0.8173\n"
     ]
    }
   ],
   "source": [
    "# evaluate the model\n",
    "loss_fn = nn.CrossEntropyLoss()\n",
    "learning_rate = 0.001\n",
    "optimizer = torch.optim.Adam(model.parameters(), lr=learning_rate)\n",
    "\n",
    "train_and_validate(model, init_train_dl, valid_dl, optimizer, loss_fn)"
   ]
  },
  {
   "cell_type": "markdown",
   "id": "dfe6440d",
   "metadata": {},
   "source": [
    "LeakyReLU activation function"
   ]
  },
  {
   "cell_type": "code",
   "execution_count": 56,
   "id": "73487560",
   "metadata": {},
   "outputs": [
    {
     "data": {
      "text/plain": [
       "Model(\n",
       "  (flatten): Flatten(start_dim=1, end_dim=-1)\n",
       "  (stack): Sequential(\n",
       "    (0): Linear(in_features=2048, out_features=512, bias=True)\n",
       "    (1): LeakyReLU(negative_slope=0.01)\n",
       "    (2): Linear(in_features=512, out_features=512, bias=True)\n",
       "    (3): LeakyReLU(negative_slope=0.01)\n",
       "    (4): Linear(in_features=512, out_features=2, bias=True)\n",
       "  )\n",
       ")"
      ]
     },
     "execution_count": 56,
     "metadata": {},
     "output_type": "execute_result"
    }
   ],
   "source": [
    "# construct a nn model with LeakyReLU activation function\n",
    "class Model(nn.Module):\n",
    "    def __init__(self):\n",
    "        super(Model, self).__init__()\n",
    "        self.flatten = nn.Flatten()\n",
    "        self.stack = nn.Sequential(\n",
    "            nn.Linear(2048, 512), \n",
    "            nn.LeakyReLU(), \n",
    "            nn.Linear(512, 512),\n",
    "            nn.LeakyReLU(), \n",
    "            nn.Linear(512, 2)\n",
    "        )\n",
    "        \n",
    "    def forward(self, x):\n",
    "        x = self.flatten(x)\n",
    "        logits = self.stack(x)\n",
    "        return logits\n",
    "    \n",
    "model = Model()\n",
    "model"
   ]
  },
  {
   "cell_type": "code",
   "execution_count": 57,
   "id": "d4ba9486",
   "metadata": {
    "scrolled": false
   },
   "outputs": [
    {
     "name": "stdout",
     "output_type": "stream",
     "text": [
      "Epoch [01/20], Train Loss: 0.6585, Train Acc: 0.7044, Valid Loss: 0.5750, Valid Acc: 0.7462\n",
      "Epoch [02/20], Train Loss: 0.4919, Train Acc: 0.7421, Valid Loss: 0.5180, Valid Acc: 0.7462\n",
      "Epoch [03/20], Train Loss: 0.3297, Train Acc: 0.8239, Valid Loss: 0.5274, Valid Acc: 0.7868\n",
      "Epoch [04/20], Train Loss: 0.1826, Train Acc: 0.9182, Valid Loss: 0.4931, Valid Acc: 0.8223\n",
      "Epoch [05/20], Train Loss: 0.0833, Train Acc: 0.9937, Valid Loss: 0.4864, Valid Acc: 0.8274\n",
      "Epoch [06/20], Train Loss: 0.0322, Train Acc: 1.0000, Valid Loss: 0.5836, Valid Acc: 0.8376\n",
      "Epoch [07/20], Train Loss: 0.0105, Train Acc: 1.0000, Valid Loss: 0.7525, Valid Acc: 0.8376\n",
      "Epoch [08/20], Train Loss: 0.0036, Train Acc: 1.0000, Valid Loss: 0.9479, Valid Acc: 0.8325\n",
      "Epoch [09/20], Train Loss: 0.0014, Train Acc: 1.0000, Valid Loss: 1.1346, Valid Acc: 0.8274\n",
      "Epoch [10/20], Train Loss: 0.0007, Train Acc: 1.0000, Valid Loss: 1.3037, Valid Acc: 0.8223\n",
      "Epoch [11/20], Train Loss: 0.0004, Train Acc: 1.0000, Valid Loss: 1.4495, Valid Acc: 0.8223\n",
      "Epoch [12/20], Train Loss: 0.0002, Train Acc: 1.0000, Valid Loss: 1.5721, Valid Acc: 0.8223\n",
      "Epoch [13/20], Train Loss: 0.0002, Train Acc: 1.0000, Valid Loss: 1.6751, Valid Acc: 0.8274\n",
      "Epoch [14/20], Train Loss: 0.0001, Train Acc: 1.0000, Valid Loss: 1.7593, Valid Acc: 0.8274\n",
      "Epoch [15/20], Train Loss: 0.0001, Train Acc: 1.0000, Valid Loss: 1.8261, Valid Acc: 0.8325\n",
      "Epoch [16/20], Train Loss: 0.0001, Train Acc: 1.0000, Valid Loss: 1.8789, Valid Acc: 0.8325\n",
      "Epoch [17/20], Train Loss: 0.0001, Train Acc: 1.0000, Valid Loss: 1.9206, Valid Acc: 0.8325\n",
      "Epoch [18/20], Train Loss: 0.0000, Train Acc: 1.0000, Valid Loss: 1.9548, Valid Acc: 0.8325\n",
      "Epoch [19/20], Train Loss: 0.0000, Train Acc: 1.0000, Valid Loss: 1.9827, Valid Acc: 0.8325\n",
      "Epoch [20/20], Train Loss: 0.0000, Train Acc: 1.0000, Valid Loss: 2.0059, Valid Acc: 0.8325\n"
     ]
    }
   ],
   "source": [
    "# evaluate the model\n",
    "loss_fn = nn.CrossEntropyLoss()\n",
    "learning_rate = 0.001\n",
    "optimizer = torch.optim.Adam(model.parameters(), lr=learning_rate)\n",
    "\n",
    "train_and_validate(model, init_train_dl, valid_dl, optimizer, loss_fn)"
   ]
  },
  {
   "cell_type": "markdown",
   "id": "6dcd1518",
   "metadata": {},
   "source": [
    "ELU activation function"
   ]
  },
  {
   "cell_type": "code",
   "execution_count": 58,
   "id": "741b1a38",
   "metadata": {},
   "outputs": [
    {
     "data": {
      "text/plain": [
       "Model(\n",
       "  (flatten): Flatten(start_dim=1, end_dim=-1)\n",
       "  (stack): Sequential(\n",
       "    (0): Linear(in_features=2048, out_features=512, bias=True)\n",
       "    (1): ELU(alpha=1.0)\n",
       "    (2): Linear(in_features=512, out_features=512, bias=True)\n",
       "    (3): ELU(alpha=1.0)\n",
       "    (4): Linear(in_features=512, out_features=2, bias=True)\n",
       "  )\n",
       ")"
      ]
     },
     "execution_count": 58,
     "metadata": {},
     "output_type": "execute_result"
    }
   ],
   "source": [
    "# construct a nn model with ELU activation function\n",
    "class Model(nn.Module):\n",
    "    def __init__(self):\n",
    "        super(Model, self).__init__()\n",
    "        self.flatten = nn.Flatten()\n",
    "        self.stack = nn.Sequential(\n",
    "            nn.Linear(2048, 512), \n",
    "            nn.ELU(), \n",
    "            nn.Linear(512, 512),\n",
    "            nn.ELU(), \n",
    "            nn.Linear(512, 2)\n",
    "        )\n",
    "        \n",
    "    def forward(self, x):\n",
    "        x = self.flatten(x)\n",
    "        logits = self.stack(x)\n",
    "        return logits\n",
    "    \n",
    "model = Model()\n",
    "model"
   ]
  },
  {
   "cell_type": "code",
   "execution_count": 59,
   "id": "b2057a95",
   "metadata": {
    "scrolled": false
   },
   "outputs": [
    {
     "name": "stdout",
     "output_type": "stream",
     "text": [
      "Epoch [01/20], Train Loss: 0.6270, Train Acc: 0.6792, Valid Loss: 0.5097, Valid Acc: 0.7614\n",
      "Epoch [02/20], Train Loss: 0.3422, Train Acc: 0.8428, Valid Loss: 0.4461, Valid Acc: 0.8020\n",
      "Epoch [03/20], Train Loss: 0.1161, Train Acc: 0.9623, Valid Loss: 0.4349, Valid Acc: 0.8325\n",
      "Epoch [04/20], Train Loss: 0.0360, Train Acc: 1.0000, Valid Loss: 0.5703, Valid Acc: 0.8376\n",
      "Epoch [05/20], Train Loss: 0.0093, Train Acc: 1.0000, Valid Loss: 0.7942, Valid Acc: 0.8274\n",
      "Epoch [06/20], Train Loss: 0.0021, Train Acc: 1.0000, Valid Loss: 1.0404, Valid Acc: 0.8274\n",
      "Epoch [07/20], Train Loss: 0.0008, Train Acc: 1.0000, Valid Loss: 1.2753, Valid Acc: 0.8325\n",
      "Epoch [08/20], Train Loss: 0.0004, Train Acc: 1.0000, Valid Loss: 1.4841, Valid Acc: 0.8274\n",
      "Epoch [09/20], Train Loss: 0.0003, Train Acc: 1.0000, Valid Loss: 1.6604, Valid Acc: 0.8274\n",
      "Epoch [10/20], Train Loss: 0.0001, Train Acc: 1.0000, Valid Loss: 1.8038, Valid Acc: 0.8274\n",
      "Epoch [11/20], Train Loss: 0.0001, Train Acc: 1.0000, Valid Loss: 1.9187, Valid Acc: 0.8325\n",
      "Epoch [12/20], Train Loss: 0.0001, Train Acc: 1.0000, Valid Loss: 2.0095, Valid Acc: 0.8325\n",
      "Epoch [13/20], Train Loss: 0.0000, Train Acc: 1.0000, Valid Loss: 2.0804, Valid Acc: 0.8325\n",
      "Epoch [14/20], Train Loss: 0.0000, Train Acc: 1.0000, Valid Loss: 2.1352, Valid Acc: 0.8325\n",
      "Epoch [15/20], Train Loss: 0.0000, Train Acc: 1.0000, Valid Loss: 2.1779, Valid Acc: 0.8325\n",
      "Epoch [16/20], Train Loss: 0.0000, Train Acc: 1.0000, Valid Loss: 2.2108, Valid Acc: 0.8325\n",
      "Epoch [17/20], Train Loss: 0.0000, Train Acc: 1.0000, Valid Loss: 2.2359, Valid Acc: 0.8325\n",
      "Epoch [18/20], Train Loss: 0.0000, Train Acc: 1.0000, Valid Loss: 2.2552, Valid Acc: 0.8325\n",
      "Epoch [19/20], Train Loss: 0.0000, Train Acc: 1.0000, Valid Loss: 2.2700, Valid Acc: 0.8325\n",
      "Epoch [20/20], Train Loss: 0.0000, Train Acc: 1.0000, Valid Loss: 2.2814, Valid Acc: 0.8325\n"
     ]
    }
   ],
   "source": [
    "# evaluate the model\n",
    "loss_fn = nn.CrossEntropyLoss()\n",
    "learning_rate = 0.001\n",
    "optimizer = torch.optim.Adam(model.parameters(), lr=learning_rate)\n",
    "\n",
    "train_and_validate(model, init_train_dl, valid_dl, optimizer, loss_fn)"
   ]
  },
  {
   "cell_type": "markdown",
   "id": "2b3e98a6",
   "metadata": {},
   "source": [
    "The performance is best using ReLU as the activation function."
   ]
  },
  {
   "cell_type": "markdown",
   "id": "0a0930bb",
   "metadata": {},
   "source": [
    "#### Batch normalization"
   ]
  },
  {
   "cell_type": "markdown",
   "id": "40ec4469",
   "metadata": {},
   "source": [
    "no batch normalization"
   ]
  },
  {
   "cell_type": "code",
   "execution_count": 62,
   "id": "bb7984af",
   "metadata": {
    "scrolled": true
   },
   "outputs": [
    {
     "data": {
      "text/plain": [
       "Model(\n",
       "  (flatten): Flatten(start_dim=1, end_dim=-1)\n",
       "  (stack): Sequential(\n",
       "    (0): Linear(in_features=2048, out_features=512, bias=True)\n",
       "    (1): ReLU()\n",
       "    (2): Linear(in_features=512, out_features=512, bias=True)\n",
       "    (3): ReLU()\n",
       "    (4): Linear(in_features=512, out_features=2, bias=True)\n",
       "  )\n",
       ")"
      ]
     },
     "execution_count": 62,
     "metadata": {},
     "output_type": "execute_result"
    }
   ],
   "source": [
    "# construct a nn model with no batch normalization\n",
    "class Model(nn.Module):\n",
    "    def __init__(self):\n",
    "        super(Model, self).__init__()\n",
    "        self.flatten = nn.Flatten()\n",
    "        self.stack = nn.Sequential(\n",
    "            nn.Linear(2048, 512), \n",
    "            nn.ReLU(), \n",
    "            nn.Linear(512, 512),\n",
    "            nn.ReLU(), \n",
    "            nn.Linear(512, 2)\n",
    "        )\n",
    "        \n",
    "    def forward(self, x):\n",
    "        x = self.flatten(x)\n",
    "        logits = self.stack(x)\n",
    "        return logits\n",
    "    \n",
    "model = Model()\n",
    "model"
   ]
  },
  {
   "cell_type": "code",
   "execution_count": 63,
   "id": "3b14b20d",
   "metadata": {
    "scrolled": true
   },
   "outputs": [
    {
     "name": "stdout",
     "output_type": "stream",
     "text": [
      "Epoch [01/20], Train Loss: 0.6834, Train Acc: 0.5283, Valid Loss: 0.5901, Valid Acc: 0.7462\n",
      "Epoch [02/20], Train Loss: 0.5226, Train Acc: 0.7421, Valid Loss: 0.5144, Valid Acc: 0.7462\n",
      "Epoch [03/20], Train Loss: 0.3552, Train Acc: 0.8050, Valid Loss: 0.5158, Valid Acc: 0.7766\n",
      "Epoch [04/20], Train Loss: 0.2179, Train Acc: 0.8868, Valid Loss: 0.4939, Valid Acc: 0.8223\n",
      "Epoch [05/20], Train Loss: 0.1215, Train Acc: 0.9748, Valid Loss: 0.4697, Valid Acc: 0.8223\n",
      "Epoch [06/20], Train Loss: 0.0595, Train Acc: 1.0000, Valid Loss: 0.5239, Valid Acc: 0.8376\n",
      "Epoch [07/20], Train Loss: 0.0253, Train Acc: 1.0000, Valid Loss: 0.6431, Valid Acc: 0.8426\n",
      "Epoch [08/20], Train Loss: 0.0085, Train Acc: 1.0000, Valid Loss: 0.7980, Valid Acc: 0.8376\n",
      "Epoch [09/20], Train Loss: 0.0033, Train Acc: 1.0000, Valid Loss: 0.9563, Valid Acc: 0.8325\n",
      "Epoch [10/20], Train Loss: 0.0013, Train Acc: 1.0000, Valid Loss: 1.0968, Valid Acc: 0.8274\n",
      "Epoch [11/20], Train Loss: 0.0007, Train Acc: 1.0000, Valid Loss: 1.2242, Valid Acc: 0.8274\n",
      "Epoch [12/20], Train Loss: 0.0003, Train Acc: 1.0000, Valid Loss: 1.3314, Valid Acc: 0.8274\n",
      "Epoch [13/20], Train Loss: 0.0002, Train Acc: 1.0000, Valid Loss: 1.4229, Valid Acc: 0.8274\n",
      "Epoch [14/20], Train Loss: 0.0002, Train Acc: 1.0000, Valid Loss: 1.4999, Valid Acc: 0.8274\n",
      "Epoch [15/20], Train Loss: 0.0001, Train Acc: 1.0000, Valid Loss: 1.5616, Valid Acc: 0.8325\n",
      "Epoch [16/20], Train Loss: 0.0001, Train Acc: 1.0000, Valid Loss: 1.6104, Valid Acc: 0.8325\n",
      "Epoch [17/20], Train Loss: 0.0001, Train Acc: 1.0000, Valid Loss: 1.6485, Valid Acc: 0.8325\n",
      "Epoch [18/20], Train Loss: 0.0000, Train Acc: 1.0000, Valid Loss: 1.6784, Valid Acc: 0.8325\n",
      "Epoch [19/20], Train Loss: 0.0000, Train Acc: 1.0000, Valid Loss: 1.7015, Valid Acc: 0.8325\n",
      "Epoch [20/20], Train Loss: 0.0000, Train Acc: 1.0000, Valid Loss: 1.7197, Valid Acc: 0.8325\n"
     ]
    }
   ],
   "source": [
    "# evaluate the model\n",
    "loss_fn = nn.CrossEntropyLoss()\n",
    "learning_rate = 0.001\n",
    "optimizer = torch.optim.Adam(model.parameters(), lr=learning_rate)\n",
    "\n",
    "train_and_validate(model, init_train_dl, valid_dl, optimizer, loss_fn)"
   ]
  },
  {
   "cell_type": "markdown",
   "id": "45f836fe",
   "metadata": {},
   "source": [
    "1D batch normalization"
   ]
  },
  {
   "cell_type": "code",
   "execution_count": 64,
   "id": "797e491f",
   "metadata": {
    "scrolled": true
   },
   "outputs": [
    {
     "data": {
      "text/plain": [
       "Model(\n",
       "  (flatten): Flatten(start_dim=1, end_dim=-1)\n",
       "  (stack): Sequential(\n",
       "    (0): Linear(in_features=2048, out_features=512, bias=True)\n",
       "    (1): BatchNorm1d(512, eps=1e-05, momentum=0.1, affine=True, track_running_stats=True)\n",
       "    (2): ReLU()\n",
       "    (3): Linear(in_features=512, out_features=512, bias=True)\n",
       "    (4): BatchNorm1d(512, eps=1e-05, momentum=0.1, affine=True, track_running_stats=True)\n",
       "    (5): ReLU()\n",
       "    (6): Linear(in_features=512, out_features=2, bias=True)\n",
       "  )\n",
       ")"
      ]
     },
     "execution_count": 64,
     "metadata": {},
     "output_type": "execute_result"
    }
   ],
   "source": [
    "# construct a nn model with 1D batch normalization\n",
    "class Model(nn.Module):\n",
    "    def __init__(self):\n",
    "        super(Model, self).__init__()\n",
    "        self.flatten = nn.Flatten()\n",
    "        self.stack = nn.Sequential(\n",
    "            nn.Linear(2048, 512), \n",
    "            nn.BatchNorm1d(512), \n",
    "            nn.ReLU(), \n",
    "            nn.Linear(512, 512), \n",
    "            nn.BatchNorm1d(512), \n",
    "            nn.ReLU(), \n",
    "            nn.Linear(512, 2)\n",
    "        )\n",
    "        \n",
    "    def forward(self, x):\n",
    "        x = self.flatten(x)\n",
    "        logits = self.stack(x)\n",
    "        return logits\n",
    "    \n",
    "model = Model()\n",
    "model"
   ]
  },
  {
   "cell_type": "code",
   "execution_count": 65,
   "id": "d3dccabc",
   "metadata": {
    "scrolled": true
   },
   "outputs": [
    {
     "name": "stdout",
     "output_type": "stream",
     "text": [
      "Epoch [01/20], Train Loss: 0.5032, Train Acc: 0.7421, Valid Loss: 0.4159, Valid Acc: 0.8579\n",
      "Epoch [02/20], Train Loss: 0.0412, Train Acc: 1.0000, Valid Loss: 0.4682, Valid Acc: 0.8426\n",
      "Epoch [03/20], Train Loss: 0.0193, Train Acc: 0.9937, Valid Loss: 0.4929, Valid Acc: 0.8426\n",
      "Epoch [04/20], Train Loss: 0.0098, Train Acc: 1.0000, Valid Loss: 0.5267, Valid Acc: 0.8426\n",
      "Epoch [05/20], Train Loss: 0.0047, Train Acc: 1.0000, Valid Loss: 0.4775, Valid Acc: 0.8782\n",
      "Epoch [06/20], Train Loss: 0.0049, Train Acc: 1.0000, Valid Loss: 0.5779, Valid Acc: 0.8477\n",
      "Epoch [07/20], Train Loss: 0.0018, Train Acc: 1.0000, Valid Loss: 0.5850, Valid Acc: 0.8274\n",
      "Epoch [08/20], Train Loss: 0.0017, Train Acc: 1.0000, Valid Loss: 0.5829, Valid Acc: 0.8629\n",
      "Epoch [09/20], Train Loss: 0.0011, Train Acc: 1.0000, Valid Loss: 0.6238, Valid Acc: 0.8173\n",
      "Epoch [10/20], Train Loss: 0.0010, Train Acc: 1.0000, Valid Loss: 0.6197, Valid Acc: 0.8426\n",
      "Epoch [11/20], Train Loss: 0.0011, Train Acc: 1.0000, Valid Loss: 0.6725, Valid Acc: 0.8376\n",
      "Epoch [12/20], Train Loss: 0.0007, Train Acc: 1.0000, Valid Loss: 0.6263, Valid Acc: 0.8477\n",
      "Epoch [13/20], Train Loss: 0.0007, Train Acc: 1.0000, Valid Loss: 0.6151, Valid Acc: 0.8325\n",
      "Epoch [14/20], Train Loss: 0.0007, Train Acc: 1.0000, Valid Loss: 0.6689, Valid Acc: 0.8426\n",
      "Epoch [15/20], Train Loss: 0.0006, Train Acc: 1.0000, Valid Loss: 0.6429, Valid Acc: 0.8426\n",
      "Epoch [16/20], Train Loss: 0.0005, Train Acc: 1.0000, Valid Loss: 0.6775, Valid Acc: 0.8426\n",
      "Epoch [17/20], Train Loss: 0.0005, Train Acc: 1.0000, Valid Loss: 0.6460, Valid Acc: 0.8528\n",
      "Epoch [18/20], Train Loss: 0.0004, Train Acc: 1.0000, Valid Loss: 0.7272, Valid Acc: 0.8477\n",
      "Epoch [19/20], Train Loss: 0.0004, Train Acc: 1.0000, Valid Loss: 0.6656, Valid Acc: 0.8680\n",
      "Epoch [20/20], Train Loss: 0.0005, Train Acc: 1.0000, Valid Loss: 0.6423, Valid Acc: 0.8528\n"
     ]
    }
   ],
   "source": [
    "# evaluate the model\n",
    "loss_fn = nn.CrossEntropyLoss()\n",
    "learning_rate = 0.001\n",
    "optimizer = torch.optim.Adam(model.parameters(), lr=learning_rate)\n",
    "\n",
    "train_and_validate(model, init_train_dl, valid_dl, optimizer, loss_fn)"
   ]
  },
  {
   "cell_type": "markdown",
   "id": "0474b44a",
   "metadata": {},
   "source": [
    "Batch normalization significantly improves the model performance on the validation set."
   ]
  },
  {
   "cell_type": "markdown",
   "id": "6781de1a",
   "metadata": {},
   "source": [
    "#### Learning rates"
   ]
  },
  {
   "cell_type": "markdown",
   "id": "415a1622",
   "metadata": {},
   "source": [
    "learning_rate = 0.001"
   ]
  },
  {
   "cell_type": "code",
   "execution_count": 68,
   "id": "4c69e614",
   "metadata": {
    "scrolled": true
   },
   "outputs": [
    {
     "data": {
      "text/plain": [
       "Model(\n",
       "  (flatten): Flatten(start_dim=1, end_dim=-1)\n",
       "  (stack): Sequential(\n",
       "    (0): Linear(in_features=2048, out_features=512, bias=True)\n",
       "    (1): BatchNorm1d(512, eps=1e-05, momentum=0.1, affine=True, track_running_stats=True)\n",
       "    (2): ReLU()\n",
       "    (3): Linear(in_features=512, out_features=512, bias=True)\n",
       "    (4): BatchNorm1d(512, eps=1e-05, momentum=0.1, affine=True, track_running_stats=True)\n",
       "    (5): ReLU()\n",
       "    (6): Linear(in_features=512, out_features=2, bias=True)\n",
       "  )\n",
       ")"
      ]
     },
     "execution_count": 68,
     "metadata": {},
     "output_type": "execute_result"
    }
   ],
   "source": [
    "# construct the nn model\n",
    "class Model(nn.Module):\n",
    "    def __init__(self):\n",
    "        super(Model, self).__init__()\n",
    "        self.flatten = nn.Flatten()\n",
    "        self.stack = nn.Sequential(\n",
    "            nn.Linear(2048, 512), \n",
    "            nn.BatchNorm1d(512), \n",
    "            nn.ReLU(), \n",
    "            nn.Linear(512, 512), \n",
    "            nn.BatchNorm1d(512), \n",
    "            nn.ReLU(), \n",
    "            nn.Linear(512, 2)\n",
    "        )\n",
    "        \n",
    "    def forward(self, x):\n",
    "        x = self.flatten(x)\n",
    "        logits = self.stack(x)\n",
    "        return logits\n",
    "    \n",
    "model = Model()\n",
    "model"
   ]
  },
  {
   "cell_type": "code",
   "execution_count": 69,
   "id": "72cb063e",
   "metadata": {
    "scrolled": true
   },
   "outputs": [
    {
     "name": "stdout",
     "output_type": "stream",
     "text": [
      "Epoch [01/20], Train Loss: 0.5204, Train Acc: 0.7610, Valid Loss: 0.3814, Valid Acc: 0.8579\n",
      "Epoch [02/20], Train Loss: 0.0642, Train Acc: 0.9811, Valid Loss: 0.3901, Valid Acc: 0.8629\n",
      "Epoch [03/20], Train Loss: 0.0304, Train Acc: 1.0000, Valid Loss: 0.4346, Valid Acc: 0.8629\n",
      "Epoch [04/20], Train Loss: 0.0102, Train Acc: 1.0000, Valid Loss: 0.4792, Valid Acc: 0.8629\n",
      "Epoch [05/20], Train Loss: 0.0080, Train Acc: 1.0000, Valid Loss: 0.4913, Valid Acc: 0.8629\n",
      "Epoch [06/20], Train Loss: 0.0047, Train Acc: 1.0000, Valid Loss: 0.5352, Valid Acc: 0.8528\n",
      "Epoch [07/20], Train Loss: 0.0037, Train Acc: 1.0000, Valid Loss: 0.5658, Valid Acc: 0.8629\n",
      "Epoch [08/20], Train Loss: 0.0033, Train Acc: 1.0000, Valid Loss: 0.5584, Valid Acc: 0.8477\n",
      "Epoch [09/20], Train Loss: 0.0019, Train Acc: 1.0000, Valid Loss: 0.5447, Valid Acc: 0.8629\n",
      "Epoch [10/20], Train Loss: 0.0025, Train Acc: 1.0000, Valid Loss: 0.6401, Valid Acc: 0.8376\n",
      "Epoch [11/20], Train Loss: 0.0024, Train Acc: 1.0000, Valid Loss: 0.6022, Valid Acc: 0.8629\n",
      "Epoch [12/20], Train Loss: 0.0036, Train Acc: 1.0000, Valid Loss: 0.5960, Valid Acc: 0.8579\n",
      "Epoch [13/20], Train Loss: 0.0012, Train Acc: 1.0000, Valid Loss: 0.6552, Valid Acc: 0.8579\n",
      "Epoch [14/20], Train Loss: 0.0012, Train Acc: 1.0000, Valid Loss: 0.5794, Valid Acc: 0.8528\n",
      "Epoch [15/20], Train Loss: 0.0011, Train Acc: 1.0000, Valid Loss: 0.6046, Valid Acc: 0.8477\n",
      "Epoch [16/20], Train Loss: 0.0009, Train Acc: 1.0000, Valid Loss: 0.6140, Valid Acc: 0.8426\n",
      "Epoch [17/20], Train Loss: 0.0009, Train Acc: 1.0000, Valid Loss: 0.5806, Valid Acc: 0.8629\n",
      "Epoch [18/20], Train Loss: 0.0018, Train Acc: 1.0000, Valid Loss: 0.6376, Valid Acc: 0.8426\n",
      "Epoch [19/20], Train Loss: 0.0007, Train Acc: 1.0000, Valid Loss: 0.5827, Valid Acc: 0.8629\n",
      "Epoch [20/20], Train Loss: 0.0007, Train Acc: 1.0000, Valid Loss: 0.6719, Valid Acc: 0.8325\n"
     ]
    }
   ],
   "source": [
    "# evaluate the model\n",
    "loss_fn = nn.CrossEntropyLoss()\n",
    "learning_rate = 0.001\n",
    "optimizer = torch.optim.Adam(model.parameters(), lr=learning_rate)\n",
    "\n",
    "train_and_validate(model, init_train_dl, valid_dl, optimizer, loss_fn)"
   ]
  },
  {
   "cell_type": "markdown",
   "id": "ef98a8d9",
   "metadata": {},
   "source": [
    "learning_rate = 0.01"
   ]
  },
  {
   "cell_type": "code",
   "execution_count": 70,
   "id": "7c21c184",
   "metadata": {
    "scrolled": true
   },
   "outputs": [
    {
     "data": {
      "text/plain": [
       "Model(\n",
       "  (flatten): Flatten(start_dim=1, end_dim=-1)\n",
       "  (stack): Sequential(\n",
       "    (0): Linear(in_features=2048, out_features=512, bias=True)\n",
       "    (1): BatchNorm1d(512, eps=1e-05, momentum=0.1, affine=True, track_running_stats=True)\n",
       "    (2): ReLU()\n",
       "    (3): Linear(in_features=512, out_features=512, bias=True)\n",
       "    (4): BatchNorm1d(512, eps=1e-05, momentum=0.1, affine=True, track_running_stats=True)\n",
       "    (5): ReLU()\n",
       "    (6): Linear(in_features=512, out_features=2, bias=True)\n",
       "  )\n",
       ")"
      ]
     },
     "execution_count": 70,
     "metadata": {},
     "output_type": "execute_result"
    }
   ],
   "source": [
    "# construct the nn model\n",
    "class Model(nn.Module):\n",
    "    def __init__(self):\n",
    "        super(Model, self).__init__()\n",
    "        self.flatten = nn.Flatten()\n",
    "        self.stack = nn.Sequential(\n",
    "            nn.Linear(2048, 512), \n",
    "            nn.BatchNorm1d(512), \n",
    "            nn.ReLU(), \n",
    "            nn.Linear(512, 512), \n",
    "            nn.BatchNorm1d(512), \n",
    "            nn.ReLU(), \n",
    "            nn.Linear(512, 2)\n",
    "        )\n",
    "        \n",
    "    def forward(self, x):\n",
    "        x = self.flatten(x)\n",
    "        logits = self.stack(x)\n",
    "        return logits\n",
    "    \n",
    "model = Model()\n",
    "model"
   ]
  },
  {
   "cell_type": "code",
   "execution_count": 71,
   "id": "53baab47",
   "metadata": {
    "scrolled": true
   },
   "outputs": [
    {
     "name": "stdout",
     "output_type": "stream",
     "text": [
      "Epoch [01/20], Train Loss: 0.7381, Train Acc: 0.6101, Valid Loss: 0.5163, Valid Acc: 0.8122\n",
      "Epoch [02/20], Train Loss: 0.2232, Train Acc: 0.9057, Valid Loss: 0.5114, Valid Acc: 0.8325\n",
      "Epoch [03/20], Train Loss: 0.0537, Train Acc: 0.9748, Valid Loss: 0.6050, Valid Acc: 0.8528\n",
      "Epoch [04/20], Train Loss: 0.0260, Train Acc: 1.0000, Valid Loss: 0.6466, Valid Acc: 0.8629\n",
      "Epoch [05/20], Train Loss: 0.0035, Train Acc: 1.0000, Valid Loss: 0.8130, Valid Acc: 0.8528\n",
      "Epoch [06/20], Train Loss: 0.0050, Train Acc: 1.0000, Valid Loss: 0.7648, Valid Acc: 0.8680\n",
      "Epoch [07/20], Train Loss: 0.0030, Train Acc: 1.0000, Valid Loss: 0.8597, Valid Acc: 0.8376\n",
      "Epoch [08/20], Train Loss: 0.0008, Train Acc: 1.0000, Valid Loss: 0.9343, Valid Acc: 0.8426\n",
      "Epoch [09/20], Train Loss: 0.0007, Train Acc: 1.0000, Valid Loss: 0.9769, Valid Acc: 0.8579\n",
      "Epoch [10/20], Train Loss: 0.0006, Train Acc: 1.0000, Valid Loss: 0.9735, Valid Acc: 0.8376\n",
      "Epoch [11/20], Train Loss: 0.0007, Train Acc: 1.0000, Valid Loss: 0.9790, Valid Acc: 0.8528\n",
      "Epoch [12/20], Train Loss: 0.0001, Train Acc: 1.0000, Valid Loss: 0.9778, Valid Acc: 0.8376\n",
      "Epoch [13/20], Train Loss: 0.0002, Train Acc: 1.0000, Valid Loss: 0.9585, Valid Acc: 0.8477\n",
      "Epoch [14/20], Train Loss: 0.0001, Train Acc: 1.0000, Valid Loss: 1.1233, Valid Acc: 0.8528\n",
      "Epoch [15/20], Train Loss: 0.0001, Train Acc: 1.0000, Valid Loss: 1.1394, Valid Acc: 0.8274\n",
      "Epoch [16/20], Train Loss: 0.0001, Train Acc: 1.0000, Valid Loss: 1.2241, Valid Acc: 0.8376\n",
      "Epoch [17/20], Train Loss: 0.0001, Train Acc: 1.0000, Valid Loss: 1.1096, Valid Acc: 0.8376\n",
      "Epoch [18/20], Train Loss: 0.0001, Train Acc: 1.0000, Valid Loss: 1.0361, Valid Acc: 0.8528\n",
      "Epoch [19/20], Train Loss: 0.0001, Train Acc: 1.0000, Valid Loss: 1.1068, Valid Acc: 0.8122\n",
      "Epoch [20/20], Train Loss: 0.0001, Train Acc: 1.0000, Valid Loss: 1.0466, Valid Acc: 0.8426\n"
     ]
    }
   ],
   "source": [
    "# evaluate the model\n",
    "loss_fn = nn.CrossEntropyLoss()\n",
    "learning_rate = 0.01\n",
    "optimizer = torch.optim.Adam(model.parameters(), lr=learning_rate)\n",
    "\n",
    "train_and_validate(model, init_train_dl, valid_dl, optimizer, loss_fn)"
   ]
  },
  {
   "cell_type": "markdown",
   "id": "b174107b",
   "metadata": {},
   "source": [
    "learning_rate = 0.0001"
   ]
  },
  {
   "cell_type": "code",
   "execution_count": 72,
   "id": "8b0a3e95",
   "metadata": {
    "scrolled": true
   },
   "outputs": [
    {
     "data": {
      "text/plain": [
       "Model(\n",
       "  (flatten): Flatten(start_dim=1, end_dim=-1)\n",
       "  (stack): Sequential(\n",
       "    (0): Linear(in_features=2048, out_features=512, bias=True)\n",
       "    (1): BatchNorm1d(512, eps=1e-05, momentum=0.1, affine=True, track_running_stats=True)\n",
       "    (2): ReLU()\n",
       "    (3): Linear(in_features=512, out_features=512, bias=True)\n",
       "    (4): BatchNorm1d(512, eps=1e-05, momentum=0.1, affine=True, track_running_stats=True)\n",
       "    (5): ReLU()\n",
       "    (6): Linear(in_features=512, out_features=2, bias=True)\n",
       "  )\n",
       ")"
      ]
     },
     "execution_count": 72,
     "metadata": {},
     "output_type": "execute_result"
    }
   ],
   "source": [
    "# construct the nn model\n",
    "class Model(nn.Module):\n",
    "    def __init__(self):\n",
    "        super(Model, self).__init__()\n",
    "        self.flatten = nn.Flatten()\n",
    "        self.stack = nn.Sequential(\n",
    "            nn.Linear(2048, 512), \n",
    "            nn.BatchNorm1d(512), \n",
    "            nn.ReLU(), \n",
    "            nn.Linear(512, 512), \n",
    "            nn.BatchNorm1d(512), \n",
    "            nn.ReLU(), \n",
    "            nn.Linear(512, 2)\n",
    "        )\n",
    "        \n",
    "    def forward(self, x):\n",
    "        x = self.flatten(x)\n",
    "        logits = self.stack(x)\n",
    "        return logits\n",
    "    \n",
    "model = Model()\n",
    "model"
   ]
  },
  {
   "cell_type": "code",
   "execution_count": 73,
   "id": "3815c447",
   "metadata": {
    "scrolled": true
   },
   "outputs": [
    {
     "name": "stdout",
     "output_type": "stream",
     "text": [
      "Epoch [01/20], Train Loss: 0.5802, Train Acc: 0.7358, Valid Loss: 0.5328, Valid Acc: 0.7614\n",
      "Epoch [02/20], Train Loss: 0.3654, Train Acc: 0.9119, Valid Loss: 0.4845, Valid Acc: 0.7919\n",
      "Epoch [03/20], Train Loss: 0.2342, Train Acc: 0.9748, Valid Loss: 0.4554, Valid Acc: 0.8122\n",
      "Epoch [04/20], Train Loss: 0.1726, Train Acc: 0.9874, Valid Loss: 0.4261, Valid Acc: 0.8274\n",
      "Epoch [05/20], Train Loss: 0.1239, Train Acc: 0.9937, Valid Loss: 0.4110, Valid Acc: 0.8731\n",
      "Epoch [06/20], Train Loss: 0.1020, Train Acc: 0.9937, Valid Loss: 0.4006, Valid Acc: 0.8629\n",
      "Epoch [07/20], Train Loss: 0.0940, Train Acc: 1.0000, Valid Loss: 0.4071, Valid Acc: 0.8528\n",
      "Epoch [08/20], Train Loss: 0.0612, Train Acc: 1.0000, Valid Loss: 0.3973, Valid Acc: 0.8680\n",
      "Epoch [09/20], Train Loss: 0.0504, Train Acc: 1.0000, Valid Loss: 0.4059, Valid Acc: 0.8629\n",
      "Epoch [10/20], Train Loss: 0.0452, Train Acc: 1.0000, Valid Loss: 0.3974, Valid Acc: 0.8528\n",
      "Epoch [11/20], Train Loss: 0.0349, Train Acc: 1.0000, Valid Loss: 0.3971, Valid Acc: 0.8680\n",
      "Epoch [12/20], Train Loss: 0.0294, Train Acc: 1.0000, Valid Loss: 0.3863, Valid Acc: 0.8680\n",
      "Epoch [13/20], Train Loss: 0.0258, Train Acc: 1.0000, Valid Loss: 0.3819, Valid Acc: 0.8629\n",
      "Epoch [14/20], Train Loss: 0.0234, Train Acc: 1.0000, Valid Loss: 0.3953, Valid Acc: 0.8731\n",
      "Epoch [15/20], Train Loss: 0.0233, Train Acc: 1.0000, Valid Loss: 0.3899, Valid Acc: 0.8680\n",
      "Epoch [16/20], Train Loss: 0.0261, Train Acc: 1.0000, Valid Loss: 0.3877, Valid Acc: 0.8782\n",
      "Epoch [17/20], Train Loss: 0.0195, Train Acc: 1.0000, Valid Loss: 0.4049, Valid Acc: 0.8629\n",
      "Epoch [18/20], Train Loss: 0.0186, Train Acc: 1.0000, Valid Loss: 0.3972, Valid Acc: 0.8579\n",
      "Epoch [19/20], Train Loss: 0.0175, Train Acc: 1.0000, Valid Loss: 0.3874, Valid Acc: 0.8731\n",
      "Epoch [20/20], Train Loss: 0.0137, Train Acc: 1.0000, Valid Loss: 0.3995, Valid Acc: 0.8477\n"
     ]
    }
   ],
   "source": [
    "# evaluate the model\n",
    "loss_fn = nn.CrossEntropyLoss()\n",
    "learning_rate = 0.0001\n",
    "optimizer = torch.optim.Adam(model.parameters(), lr=learning_rate)\n",
    "\n",
    "train_and_validate(model, init_train_dl, valid_dl, optimizer, loss_fn)"
   ]
  },
  {
   "cell_type": "markdown",
   "id": "41f617e3",
   "metadata": {},
   "source": [
    "Model performance on the validation set seems to slightly improve with a lower learning rate."
   ]
  },
  {
   "cell_type": "markdown",
   "id": "8dde6ac2",
   "metadata": {},
   "source": [
    "#### Optimization functions"
   ]
  },
  {
   "cell_type": "markdown",
   "id": "e0daff83",
   "metadata": {},
   "source": [
    "Adam optimization function"
   ]
  },
  {
   "cell_type": "code",
   "execution_count": 68,
   "id": "77a59a0e",
   "metadata": {
    "scrolled": true
   },
   "outputs": [
    {
     "data": {
      "text/plain": [
       "Model(\n",
       "  (flatten): Flatten(start_dim=1, end_dim=-1)\n",
       "  (stack): Sequential(\n",
       "    (0): Linear(in_features=2048, out_features=512, bias=True)\n",
       "    (1): BatchNorm1d(512, eps=1e-05, momentum=0.1, affine=True, track_running_stats=True)\n",
       "    (2): ReLU()\n",
       "    (3): Linear(in_features=512, out_features=512, bias=True)\n",
       "    (4): BatchNorm1d(512, eps=1e-05, momentum=0.1, affine=True, track_running_stats=True)\n",
       "    (5): ReLU()\n",
       "    (6): Linear(in_features=512, out_features=2, bias=True)\n",
       "  )\n",
       ")"
      ]
     },
     "execution_count": 68,
     "metadata": {},
     "output_type": "execute_result"
    }
   ],
   "source": [
    "# construct the nn model\n",
    "class Model(nn.Module):\n",
    "    def __init__(self):\n",
    "        super(Model, self).__init__()\n",
    "        self.flatten = nn.Flatten()\n",
    "        self.stack = nn.Sequential(\n",
    "            nn.Linear(2048, 512), \n",
    "            nn.BatchNorm1d(512), \n",
    "            nn.ReLU(), \n",
    "            nn.Linear(512, 512), \n",
    "            nn.BatchNorm1d(512), \n",
    "            nn.ReLU(), \n",
    "            nn.Linear(512, 2)\n",
    "        )\n",
    "        \n",
    "    def forward(self, x):\n",
    "        x = self.flatten(x)\n",
    "        logits = self.stack(x)\n",
    "        return logits\n",
    "    \n",
    "model = Model()\n",
    "model"
   ]
  },
  {
   "cell_type": "code",
   "execution_count": 69,
   "id": "c6fc5135",
   "metadata": {
    "scrolled": true
   },
   "outputs": [
    {
     "name": "stdout",
     "output_type": "stream",
     "text": [
      "Epoch [01/20], Train Loss: 0.5204, Train Acc: 0.7610, Valid Loss: 0.3814, Valid Acc: 0.8579\n",
      "Epoch [02/20], Train Loss: 0.0642, Train Acc: 0.9811, Valid Loss: 0.3901, Valid Acc: 0.8629\n",
      "Epoch [03/20], Train Loss: 0.0304, Train Acc: 1.0000, Valid Loss: 0.4346, Valid Acc: 0.8629\n",
      "Epoch [04/20], Train Loss: 0.0102, Train Acc: 1.0000, Valid Loss: 0.4792, Valid Acc: 0.8629\n",
      "Epoch [05/20], Train Loss: 0.0080, Train Acc: 1.0000, Valid Loss: 0.4913, Valid Acc: 0.8629\n",
      "Epoch [06/20], Train Loss: 0.0047, Train Acc: 1.0000, Valid Loss: 0.5352, Valid Acc: 0.8528\n",
      "Epoch [07/20], Train Loss: 0.0037, Train Acc: 1.0000, Valid Loss: 0.5658, Valid Acc: 0.8629\n",
      "Epoch [08/20], Train Loss: 0.0033, Train Acc: 1.0000, Valid Loss: 0.5584, Valid Acc: 0.8477\n",
      "Epoch [09/20], Train Loss: 0.0019, Train Acc: 1.0000, Valid Loss: 0.5447, Valid Acc: 0.8629\n",
      "Epoch [10/20], Train Loss: 0.0025, Train Acc: 1.0000, Valid Loss: 0.6401, Valid Acc: 0.8376\n",
      "Epoch [11/20], Train Loss: 0.0024, Train Acc: 1.0000, Valid Loss: 0.6022, Valid Acc: 0.8629\n",
      "Epoch [12/20], Train Loss: 0.0036, Train Acc: 1.0000, Valid Loss: 0.5960, Valid Acc: 0.8579\n",
      "Epoch [13/20], Train Loss: 0.0012, Train Acc: 1.0000, Valid Loss: 0.6552, Valid Acc: 0.8579\n",
      "Epoch [14/20], Train Loss: 0.0012, Train Acc: 1.0000, Valid Loss: 0.5794, Valid Acc: 0.8528\n",
      "Epoch [15/20], Train Loss: 0.0011, Train Acc: 1.0000, Valid Loss: 0.6046, Valid Acc: 0.8477\n",
      "Epoch [16/20], Train Loss: 0.0009, Train Acc: 1.0000, Valid Loss: 0.6140, Valid Acc: 0.8426\n",
      "Epoch [17/20], Train Loss: 0.0009, Train Acc: 1.0000, Valid Loss: 0.5806, Valid Acc: 0.8629\n",
      "Epoch [18/20], Train Loss: 0.0018, Train Acc: 1.0000, Valid Loss: 0.6376, Valid Acc: 0.8426\n",
      "Epoch [19/20], Train Loss: 0.0007, Train Acc: 1.0000, Valid Loss: 0.5827, Valid Acc: 0.8629\n",
      "Epoch [20/20], Train Loss: 0.0007, Train Acc: 1.0000, Valid Loss: 0.6719, Valid Acc: 0.8325\n"
     ]
    }
   ],
   "source": [
    "# evaluate the model\n",
    "loss_fn = nn.CrossEntropyLoss()\n",
    "learning_rate = 0.001\n",
    "optimizer = torch.optim.Adam(model.parameters(), lr=learning_rate)\n",
    "\n",
    "train_and_validate(model, init_train_dl, valid_dl, optimizer, loss_fn)"
   ]
  },
  {
   "cell_type": "markdown",
   "id": "ddac8b9e",
   "metadata": {},
   "source": [
    "SGD optimization function"
   ]
  },
  {
   "cell_type": "code",
   "execution_count": 76,
   "id": "04004358",
   "metadata": {
    "scrolled": true
   },
   "outputs": [
    {
     "data": {
      "text/plain": [
       "Model(\n",
       "  (flatten): Flatten(start_dim=1, end_dim=-1)\n",
       "  (stack): Sequential(\n",
       "    (0): Linear(in_features=2048, out_features=512, bias=True)\n",
       "    (1): BatchNorm1d(512, eps=1e-05, momentum=0.1, affine=True, track_running_stats=True)\n",
       "    (2): ReLU()\n",
       "    (3): Linear(in_features=512, out_features=512, bias=True)\n",
       "    (4): BatchNorm1d(512, eps=1e-05, momentum=0.1, affine=True, track_running_stats=True)\n",
       "    (5): ReLU()\n",
       "    (6): Linear(in_features=512, out_features=2, bias=True)\n",
       "  )\n",
       ")"
      ]
     },
     "execution_count": 76,
     "metadata": {},
     "output_type": "execute_result"
    }
   ],
   "source": [
    "# construct the nn model\n",
    "class Model(nn.Module):\n",
    "    def __init__(self):\n",
    "        super(Model, self).__init__()\n",
    "        self.flatten = nn.Flatten()\n",
    "        self.stack = nn.Sequential(\n",
    "            nn.Linear(2048, 512), \n",
    "            nn.BatchNorm1d(512), \n",
    "            nn.ReLU(), \n",
    "            nn.Linear(512, 512), \n",
    "            nn.BatchNorm1d(512), \n",
    "            nn.ReLU(), \n",
    "            nn.Linear(512, 2)\n",
    "        )\n",
    "        \n",
    "    def forward(self, x):\n",
    "        x = self.flatten(x)\n",
    "        logits = self.stack(x)\n",
    "        return logits\n",
    "    \n",
    "model = Model()\n",
    "model"
   ]
  },
  {
   "cell_type": "code",
   "execution_count": 77,
   "id": "7bc4673d",
   "metadata": {
    "scrolled": true
   },
   "outputs": [
    {
     "name": "stdout",
     "output_type": "stream",
     "text": [
      "Epoch [01/20], Train Loss: 0.6813, Train Acc: 0.5786, Valid Loss: 0.6762, Valid Acc: 0.5584\n",
      "Epoch [02/20], Train Loss: 0.6349, Train Acc: 0.6478, Valid Loss: 0.6526, Valid Acc: 0.6091\n",
      "Epoch [03/20], Train Loss: 0.5967, Train Acc: 0.7673, Valid Loss: 0.6325, Valid Acc: 0.6396\n",
      "Epoch [04/20], Train Loss: 0.5736, Train Acc: 0.7421, Valid Loss: 0.6188, Valid Acc: 0.6701\n",
      "Epoch [05/20], Train Loss: 0.5475, Train Acc: 0.7925, Valid Loss: 0.6081, Valid Acc: 0.6802\n",
      "Epoch [06/20], Train Loss: 0.5154, Train Acc: 0.8491, Valid Loss: 0.5875, Valid Acc: 0.7259\n",
      "Epoch [07/20], Train Loss: 0.4997, Train Acc: 0.8553, Valid Loss: 0.5727, Valid Acc: 0.7360\n",
      "Epoch [08/20], Train Loss: 0.4752, Train Acc: 0.8491, Valid Loss: 0.5636, Valid Acc: 0.7310\n",
      "Epoch [09/20], Train Loss: 0.4653, Train Acc: 0.8679, Valid Loss: 0.5590, Valid Acc: 0.7665\n",
      "Epoch [10/20], Train Loss: 0.4408, Train Acc: 0.8742, Valid Loss: 0.5441, Valid Acc: 0.7665\n",
      "Epoch [11/20], Train Loss: 0.4260, Train Acc: 0.8679, Valid Loss: 0.5446, Valid Acc: 0.7716\n",
      "Epoch [12/20], Train Loss: 0.4172, Train Acc: 0.8868, Valid Loss: 0.5389, Valid Acc: 0.7716\n",
      "Epoch [13/20], Train Loss: 0.4002, Train Acc: 0.8868, Valid Loss: 0.5336, Valid Acc: 0.7766\n",
      "Epoch [14/20], Train Loss: 0.3856, Train Acc: 0.8805, Valid Loss: 0.5248, Valid Acc: 0.7817\n",
      "Epoch [15/20], Train Loss: 0.3804, Train Acc: 0.8868, Valid Loss: 0.5177, Valid Acc: 0.7919\n",
      "Epoch [16/20], Train Loss: 0.3662, Train Acc: 0.8868, Valid Loss: 0.5075, Valid Acc: 0.7919\n",
      "Epoch [17/20], Train Loss: 0.3567, Train Acc: 0.8868, Valid Loss: 0.5096, Valid Acc: 0.7970\n",
      "Epoch [18/20], Train Loss: 0.3447, Train Acc: 0.9057, Valid Loss: 0.5047, Valid Acc: 0.8020\n",
      "Epoch [19/20], Train Loss: 0.3327, Train Acc: 0.9057, Valid Loss: 0.4979, Valid Acc: 0.8020\n",
      "Epoch [20/20], Train Loss: 0.3269, Train Acc: 0.9057, Valid Loss: 0.4920, Valid Acc: 0.7919\n"
     ]
    }
   ],
   "source": [
    "# evaluate the model\n",
    "loss_fn = nn.CrossEntropyLoss()\n",
    "learning_rate = 0.001\n",
    "optimizer = torch.optim.SGD(model.parameters(), lr=learning_rate)\n",
    "\n",
    "train_and_validate(model, init_train_dl, valid_dl, optimizer, loss_fn)"
   ]
  },
  {
   "cell_type": "markdown",
   "id": "2f23ff8c",
   "metadata": {},
   "source": [
    "Adam optimization leads to better performance of the model on both the training set and the validation set."
   ]
  },
  {
   "cell_type": "markdown",
   "id": "f14dfcd5",
   "metadata": {},
   "source": [
    "#### The best model so far"
   ]
  },
  {
   "cell_type": "code",
   "execution_count": 78,
   "id": "5e96afac",
   "metadata": {
    "scrolled": true
   },
   "outputs": [
    {
     "data": {
      "text/plain": [
       "Model(\n",
       "  (flatten): Flatten(start_dim=1, end_dim=-1)\n",
       "  (stack): Sequential(\n",
       "    (0): Linear(in_features=2048, out_features=512, bias=True)\n",
       "    (1): BatchNorm1d(512, eps=1e-05, momentum=0.1, affine=True, track_running_stats=True)\n",
       "    (2): ReLU()\n",
       "    (3): Linear(in_features=512, out_features=512, bias=True)\n",
       "    (4): BatchNorm1d(512, eps=1e-05, momentum=0.1, affine=True, track_running_stats=True)\n",
       "    (5): ReLU()\n",
       "    (6): Linear(in_features=512, out_features=2, bias=True)\n",
       "  )\n",
       ")"
      ]
     },
     "execution_count": 78,
     "metadata": {},
     "output_type": "execute_result"
    }
   ],
   "source": [
    "# construct the nn model\n",
    "class Model(nn.Module):\n",
    "    def __init__(self):\n",
    "        super(Model, self).__init__()\n",
    "        self.flatten = nn.Flatten()\n",
    "        self.stack = nn.Sequential(\n",
    "            nn.Linear(2048, 512), \n",
    "            nn.BatchNorm1d(512), \n",
    "            nn.ReLU(), \n",
    "            nn.Linear(512, 512), \n",
    "            nn.BatchNorm1d(512), \n",
    "            nn.ReLU(), \n",
    "            nn.Linear(512, 2)\n",
    "        )\n",
    "        \n",
    "    def forward(self, x):\n",
    "        x = self.flatten(x)\n",
    "        logits = self.stack(x)\n",
    "        return logits\n",
    "    \n",
    "model = Model()\n",
    "model"
   ]
  },
  {
   "cell_type": "code",
   "execution_count": 79,
   "id": "e0a42446",
   "metadata": {
    "scrolled": true
   },
   "outputs": [
    {
     "name": "stdout",
     "output_type": "stream",
     "text": [
      "Epoch [01/20], Train Loss: 0.6455, Train Acc: 0.6667, Valid Loss: 0.6006, Valid Acc: 0.6701\n",
      "Epoch [02/20], Train Loss: 0.4146, Train Acc: 0.9119, Valid Loss: 0.5330, Valid Acc: 0.7868\n",
      "Epoch [03/20], Train Loss: 0.2695, Train Acc: 0.9937, Valid Loss: 0.4997, Valid Acc: 0.8071\n",
      "Epoch [04/20], Train Loss: 0.2010, Train Acc: 1.0000, Valid Loss: 0.4629, Valid Acc: 0.8274\n",
      "Epoch [05/20], Train Loss: 0.1426, Train Acc: 1.0000, Valid Loss: 0.4332, Valid Acc: 0.8274\n",
      "Epoch [06/20], Train Loss: 0.1130, Train Acc: 1.0000, Valid Loss: 0.4254, Valid Acc: 0.8274\n",
      "Epoch [07/20], Train Loss: 0.0864, Train Acc: 1.0000, Valid Loss: 0.4145, Valid Acc: 0.8528\n",
      "Epoch [08/20], Train Loss: 0.0689, Train Acc: 1.0000, Valid Loss: 0.4117, Valid Acc: 0.8325\n",
      "Epoch [09/20], Train Loss: 0.0570, Train Acc: 1.0000, Valid Loss: 0.3982, Valid Acc: 0.8325\n",
      "Epoch [10/20], Train Loss: 0.0510, Train Acc: 1.0000, Valid Loss: 0.4002, Valid Acc: 0.8325\n",
      "Epoch [11/20], Train Loss: 0.0413, Train Acc: 1.0000, Valid Loss: 0.4097, Valid Acc: 0.8325\n",
      "Epoch [12/20], Train Loss: 0.0358, Train Acc: 1.0000, Valid Loss: 0.4010, Valid Acc: 0.8325\n",
      "Epoch [13/20], Train Loss: 0.0348, Train Acc: 1.0000, Valid Loss: 0.3939, Valid Acc: 0.8528\n",
      "Epoch [14/20], Train Loss: 0.0339, Train Acc: 1.0000, Valid Loss: 0.3949, Valid Acc: 0.8528\n",
      "Epoch [15/20], Train Loss: 0.0274, Train Acc: 1.0000, Valid Loss: 0.3908, Valid Acc: 0.8376\n",
      "Epoch [16/20], Train Loss: 0.0254, Train Acc: 1.0000, Valid Loss: 0.3924, Valid Acc: 0.8376\n",
      "Epoch [17/20], Train Loss: 0.0223, Train Acc: 1.0000, Valid Loss: 0.3918, Valid Acc: 0.8426\n",
      "Epoch [18/20], Train Loss: 0.0192, Train Acc: 1.0000, Valid Loss: 0.3876, Valid Acc: 0.8376\n",
      "Epoch [19/20], Train Loss: 0.0176, Train Acc: 1.0000, Valid Loss: 0.3927, Valid Acc: 0.8477\n",
      "Epoch [20/20], Train Loss: 0.0150, Train Acc: 1.0000, Valid Loss: 0.3920, Valid Acc: 0.8579\n"
     ]
    }
   ],
   "source": [
    "# evaluate the model\n",
    "loss_fn = nn.CrossEntropyLoss()\n",
    "learning_rate = 0.0001\n",
    "optimizer = torch.optim.Adam(model.parameters(), lr=learning_rate)\n",
    "\n",
    "train_and_validate(model, init_train_dl, valid_dl, optimizer, loss_fn)"
   ]
  },
  {
   "cell_type": "markdown",
   "id": "63035d66",
   "metadata": {},
   "source": [
    "## Train the best model on the training set"
   ]
  },
  {
   "cell_type": "code",
   "execution_count": 80,
   "id": "4edc2b3b",
   "metadata": {},
   "outputs": [
    {
     "name": "stdout",
     "output_type": "stream",
     "text": [
      "Epoch [01/20], Train Loss: 0.3614, Train Acc: 0.8594, Valid Loss: 0.3059, Valid Acc: 0.9086\n",
      "Epoch [02/20], Train Loss: 0.1584, Train Acc: 0.9550, Valid Loss: 0.2903, Valid Acc: 0.8934\n",
      "Epoch [03/20], Train Loss: 0.0924, Train Acc: 0.9831, Valid Loss: 0.2989, Valid Acc: 0.8934\n",
      "Epoch [04/20], Train Loss: 0.0610, Train Acc: 0.9923, Valid Loss: 0.3022, Valid Acc: 0.9086\n",
      "Epoch [05/20], Train Loss: 0.0436, Train Acc: 0.9958, Valid Loss: 0.3293, Valid Acc: 0.9036\n",
      "Epoch [06/20], Train Loss: 0.0302, Train Acc: 0.9972, Valid Loss: 0.3544, Valid Acc: 0.8883\n",
      "Epoch [07/20], Train Loss: 0.0233, Train Acc: 0.9972, Valid Loss: 0.3519, Valid Acc: 0.8883\n",
      "Epoch [08/20], Train Loss: 0.0195, Train Acc: 0.9979, Valid Loss: 0.3453, Valid Acc: 0.8883\n",
      "Epoch [09/20], Train Loss: 0.0186, Train Acc: 0.9965, Valid Loss: 0.3851, Valid Acc: 0.8934\n",
      "Epoch [10/20], Train Loss: 0.0158, Train Acc: 0.9986, Valid Loss: 0.3565, Valid Acc: 0.8934\n",
      "Epoch [11/20], Train Loss: 0.0140, Train Acc: 0.9965, Valid Loss: 0.4080, Valid Acc: 0.8782\n",
      "Epoch [12/20], Train Loss: 0.0137, Train Acc: 0.9972, Valid Loss: 0.3926, Valid Acc: 0.8985\n",
      "Epoch [13/20], Train Loss: 0.0096, Train Acc: 0.9986, Valid Loss: 0.3977, Valid Acc: 0.8782\n",
      "Epoch [14/20], Train Loss: 0.0147, Train Acc: 0.9965, Valid Loss: 0.3776, Valid Acc: 0.9137\n",
      "Epoch [15/20], Train Loss: 0.0104, Train Acc: 0.9986, Valid Loss: 0.4115, Valid Acc: 0.9036\n",
      "Epoch [16/20], Train Loss: 0.0093, Train Acc: 0.9979, Valid Loss: 0.3942, Valid Acc: 0.9036\n",
      "Epoch [17/20], Train Loss: 0.0102, Train Acc: 0.9965, Valid Loss: 0.4114, Valid Acc: 0.8985\n",
      "Epoch [18/20], Train Loss: 0.0088, Train Acc: 0.9965, Valid Loss: 0.4184, Valid Acc: 0.9036\n",
      "Epoch [19/20], Train Loss: 0.0104, Train Acc: 0.9972, Valid Loss: 0.4110, Valid Acc: 0.9036\n",
      "Epoch [20/20], Train Loss: 0.0078, Train Acc: 0.9979, Valid Loss: 0.4273, Valid Acc: 0.8985\n"
     ]
    }
   ],
   "source": [
    "# train on the training set\n",
    "train_and_validate(model, train_dl, valid_dl, optimizer, loss_fn)"
   ]
  },
  {
   "cell_type": "markdown",
   "id": "6576abfd",
   "metadata": {},
   "source": [
    "The training accuracy reaches 99.69, and the validation accuracy reaches 89.85%."
   ]
  },
  {
   "cell_type": "markdown",
   "id": "e7e58e36",
   "metadata": {},
   "source": [
    "## Evaluate the best model on the test set"
   ]
  },
  {
   "cell_type": "code",
   "execution_count": 82,
   "id": "2e24eb45",
   "metadata": {},
   "outputs": [
    {
     "name": "stdout",
     "output_type": "stream",
     "text": [
      "Accuracy on the test set: 89.34%\n"
     ]
    }
   ],
   "source": [
    "# evaluate the model on the test set\n",
    "correct = 0\n",
    "total = 0\n",
    "\n",
    "with torch.no_grad():\n",
    "    for inputs, labels in test_dl:\n",
    "        outputs = mo87%del(inputs)\n",
    "        _, predicted = torch.max(outputs.data, 1)\n",
    "        total += labels.size(0)\n",
    "        correct += (predicted == labels).sum().item()\n",
    "\n",
    "print('Accuracy on the test set: {:.2f}%'.format(100 * correct / total))"
   ]
  },
  {
   "cell_type": "markdown",
   "id": "17350e5f",
   "metadata": {},
   "source": [
    "## Summary"
   ]
  },
  {
   "cell_type": "markdown",
   "id": "4a2aaf52",
   "metadata": {},
   "source": [
    "I learned that it is important to explore many different model architectures and training methods. Similar to my HW8b, in this experiment, the architecture of my final model was very different from what I expected. The final model is very different from my final model in HW8b. I used different numbers of hidden layers, different hidden layer dimensions, and different activation functions. There are probably many reasons for the differences between my two models. HW8b was a multi-class classification problem, while BBBP is a binary classification problem. Additionally, MNIST has much more data available to learn from than BBBP. It seems clear that there is no single optimal model that works for general tasks, and different factors mean different architectures should be explored.\n",
    "\n",
    "The performance of my BBBP model in HW5c, measured by accuracy, was 87%. My neural network had an accuracy of 89.34%, which is an approxiate 2% increase in performance. This is a big improvement. In addition, my neural network model has much more room for futher tweaking which could potentially improve the model even further."
   ]
  }
 ],
 "metadata": {
  "kernelspec": {
   "display_name": "Python 3 (ipykernel)",
   "language": "python",
   "name": "python3"
  },
  "language_info": {
   "codemirror_mode": {
    "name": "ipython",
    "version": 3
   },
   "file_extension": ".py",
   "mimetype": "text/x-python",
   "name": "python",
   "nbconvert_exporter": "python",
   "pygments_lexer": "ipython3",
   "version": "3.9.7"
  }
 },
 "nbformat": 4,
 "nbformat_minor": 5
}
