{
 "cells": [
  {
   "cell_type": "markdown",
   "id": "2f031a44",
   "metadata": {},
   "source": [
    "# ML Project using the BBBP Dataset"
   ]
  },
  {
   "cell_type": "code",
   "execution_count": 231,
   "id": "15ac6486",
   "metadata": {},
   "outputs": [],
   "source": [
    "import pandas as pd\n",
    "import numpy as np\n",
    "import matplotlib.pyplot as plt\n",
    "\n",
    "from rdkit import Chem\n",
    "from rdkit.Chem import AllChem\n",
    "\n",
    "\n",
    "from sklearn.linear_model import SGDClassifier\n",
    "from sklearn.ensemble import RandomForestClassifier\n",
    "from sklearn.model_selection import (train_test_split, \n",
    "                                     cross_val_score, \n",
    "                                     cross_val_predict)\n",
    "from sklearn.metrics import (confusion_matrix, \n",
    "                             precision_score, \n",
    "                             recall_score, \n",
    "                             f1_score, \n",
    "                             precision_recall_curve, \n",
    "                             roc_curve, roc_auc_score, \n",
    "                             accuracy_score)"
   ]
  },
  {
   "cell_type": "markdown",
   "id": "a0d03224",
   "metadata": {},
   "source": [
    "### Import Data"
   ]
  },
  {
   "cell_type": "code",
   "execution_count": 232,
   "id": "351675dd",
   "metadata": {},
   "outputs": [
    {
     "data": {
      "text/html": [
       "<div>\n",
       "<style scoped>\n",
       "    .dataframe tbody tr th:only-of-type {\n",
       "        vertical-align: middle;\n",
       "    }\n",
       "\n",
       "    .dataframe tbody tr th {\n",
       "        vertical-align: top;\n",
       "    }\n",
       "\n",
       "    .dataframe thead th {\n",
       "        text-align: right;\n",
       "    }\n",
       "</style>\n",
       "<table border=\"1\" class=\"dataframe\">\n",
       "  <thead>\n",
       "    <tr style=\"text-align: right;\">\n",
       "      <th></th>\n",
       "      <th>num</th>\n",
       "      <th>name</th>\n",
       "      <th>p_np</th>\n",
       "      <th>smiles</th>\n",
       "    </tr>\n",
       "  </thead>\n",
       "  <tbody>\n",
       "    <tr>\n",
       "      <th>0</th>\n",
       "      <td>1</td>\n",
       "      <td>Propanolol</td>\n",
       "      <td>1</td>\n",
       "      <td>[Cl].CC(C)NCC(O)COc1cccc2ccccc12</td>\n",
       "    </tr>\n",
       "    <tr>\n",
       "      <th>1</th>\n",
       "      <td>2</td>\n",
       "      <td>Terbutylchlorambucil</td>\n",
       "      <td>1</td>\n",
       "      <td>C(=O)(OC(C)(C)C)CCCc1ccc(cc1)N(CCCl)CCCl</td>\n",
       "    </tr>\n",
       "    <tr>\n",
       "      <th>2</th>\n",
       "      <td>3</td>\n",
       "      <td>40730</td>\n",
       "      <td>1</td>\n",
       "      <td>c12c3c(N4CCN(C)CC4)c(F)cc1c(c(C(O)=O)cn2C(C)CO...</td>\n",
       "    </tr>\n",
       "    <tr>\n",
       "      <th>3</th>\n",
       "      <td>4</td>\n",
       "      <td>24</td>\n",
       "      <td>1</td>\n",
       "      <td>C1CCN(CC1)Cc1cccc(c1)OCCCNC(=O)C</td>\n",
       "    </tr>\n",
       "    <tr>\n",
       "      <th>4</th>\n",
       "      <td>5</td>\n",
       "      <td>cloxacillin</td>\n",
       "      <td>1</td>\n",
       "      <td>Cc1onc(c2ccccc2Cl)c1C(=O)N[C@H]3[C@H]4SC(C)(C)...</td>\n",
       "    </tr>\n",
       "  </tbody>\n",
       "</table>\n",
       "</div>"
      ],
      "text/plain": [
       "   num                  name  p_np  \\\n",
       "0    1            Propanolol     1   \n",
       "1    2  Terbutylchlorambucil     1   \n",
       "2    3                 40730     1   \n",
       "3    4                    24     1   \n",
       "4    5           cloxacillin     1   \n",
       "\n",
       "                                              smiles  \n",
       "0                   [Cl].CC(C)NCC(O)COc1cccc2ccccc12  \n",
       "1           C(=O)(OC(C)(C)C)CCCc1ccc(cc1)N(CCCl)CCCl  \n",
       "2  c12c3c(N4CCN(C)CC4)c(F)cc1c(c(C(O)=O)cn2C(C)CO...  \n",
       "3                   C1CCN(CC1)Cc1cccc(c1)OCCCNC(=O)C  \n",
       "4  Cc1onc(c2ccccc2Cl)c1C(=O)N[C@H]3[C@H]4SC(C)(C)...  "
      ]
     },
     "execution_count": 232,
     "metadata": {},
     "output_type": "execute_result"
    }
   ],
   "source": [
    "# read dataset\n",
    "bbbp_raw = pd.read_csv(\"BBBP.csv\")\n",
    "bbbp_raw.head()"
   ]
  },
  {
   "cell_type": "markdown",
   "id": "b0d6fb81",
   "metadata": {},
   "source": [
    "### Calculate Morgan Fingerprints from SMILES"
   ]
  },
  {
   "cell_type": "code",
   "execution_count": 233,
   "id": "53324919",
   "metadata": {},
   "outputs": [],
   "source": [
    "# suppress warnings from invalid molecules\n",
    "# for the sake of readability — will deal later\n",
    "from rdkit import RDLogger\n",
    "RDLogger.DisableLog('rdApp.*')"
   ]
  },
  {
   "cell_type": "code",
   "execution_count": 234,
   "id": "ca85c615",
   "metadata": {},
   "outputs": [],
   "source": [
    "# function to generate canon SMILES\n",
    "def gen_canon_smiles(smiles_list):\n",
    "    \n",
    "    invalid_ids = []\n",
    "    canon_smiles = []\n",
    "\n",
    "    for i in range(len(smiles_list)):   \n",
    "        mol = Chem.MolFromSmiles(smiles_list[i])\n",
    "        \n",
    "        # do not append NoneType if invalid\n",
    "        if mol is None: \n",
    "            invalid_ids.append(i)\n",
    "            continue\n",
    "\n",
    "        canon_smiles.append(Chem.MolToSmiles(mol))\n",
    "\n",
    "    return canon_smiles, invalid_ids"
   ]
  },
  {
   "cell_type": "code",
   "execution_count": 235,
   "id": "1f43183e",
   "metadata": {},
   "outputs": [],
   "source": [
    "# generate canon smiles\n",
    "canon_smiles, invalid_ids = gen_canon_smiles(bbbp_raw.smiles)\n",
    "\n",
    "# drop rows with invalid SMILES\n",
    "bbbp = bbbp_raw.drop(invalid_ids)\n",
    "\n",
    "# replace SMILES with canon SMILES\n",
    "bbbp.smiles = canon_smiles\n",
    "\n",
    "# drop duplicates to prevent train/valid/test contamination\n",
    "bbbp.drop_duplicates(subset=['smiles'], inplace=True)"
   ]
  },
  {
   "cell_type": "code",
   "execution_count": 236,
   "id": "27f3fb34",
   "metadata": {},
   "outputs": [],
   "source": [
    "# function to calculate morgan fingerprints\n",
    "def calc_morgan_fpts(smiles_list):\n",
    "    morgan_fingerprints = []\n",
    "    \n",
    "    for i in smiles_list:\n",
    "        mol = Chem.MolFromSmiles(i)\n",
    "        \n",
    "        # do not try to calculate if invalid\n",
    "        if mol is None: continue\n",
    "            \n",
    "        fpts = AllChem.GetMorganFingerprintAsBitVect(mol,2,2048)\n",
    "        mfpts = np.array(fpts)\n",
    "        morgan_fingerprints.append(mfpts) \n",
    "        \n",
    "    return np.array(morgan_fingerprints)"
   ]
  },
  {
   "cell_type": "code",
   "execution_count": 237,
   "id": "96177232",
   "metadata": {},
   "outputs": [],
   "source": [
    "X = calc_morgan_fpts(bbbp.smiles) # -> model features\n",
    "y = bbbp.p_np # -> model labels"
   ]
  },
  {
   "cell_type": "markdown",
   "id": "8a598a8c",
   "metadata": {},
   "source": [
    "### Split Data into Train/Valid/Test Sets"
   ]
  },
  {
   "cell_type": "code",
   "execution_count": 238,
   "id": "5afa41c0",
   "metadata": {},
   "outputs": [
    {
     "name": "stdout",
     "output_type": "stream",
     "text": [
      "0.8 : 0.1 : 0.1\n"
     ]
    }
   ],
   "source": [
    "# set random state\n",
    "np.random.seed(2023)\n",
    "\n",
    "# split data into training set and everything else\n",
    "X_train, X_valid_and_test, y_train, y_valid_and_test = train_test_split(X, y, test_size=0.2, stratify=y)\n",
    "\n",
    "# split everything else into validation and test sets\n",
    "X_valid, X_test, y_valid, y_test = train_test_split(X_valid_and_test, y_valid_and_test, test_size=0.5, stratify=y_valid_and_test)\n",
    "\n",
    "train_ratio = round(y_train.size/y.size, 2)\n",
    "valid_ratio = round(y_valid.size/y.size, 2)\n",
    "test_ratio = round(y_test.size/y.size, 2)\n",
    "\n",
    "print(train_ratio, \":\", valid_ratio, \":\", test_ratio)"
   ]
  },
  {
   "cell_type": "markdown",
   "id": "39a69d21",
   "metadata": {},
   "source": [
    "### Develop and Evaluate Models"
   ]
  },
  {
   "cell_type": "markdown",
   "id": "3293b457",
   "metadata": {},
   "source": [
    "**training the models**"
   ]
  },
  {
   "cell_type": "code",
   "execution_count": 239,
   "id": "911206f6",
   "metadata": {},
   "outputs": [
    {
     "data": {
      "text/html": [
       "<style>#sk-container-id-6 {color: black;background-color: white;}#sk-container-id-6 pre{padding: 0;}#sk-container-id-6 div.sk-toggleable {background-color: white;}#sk-container-id-6 label.sk-toggleable__label {cursor: pointer;display: block;width: 100%;margin-bottom: 0;padding: 0.3em;box-sizing: border-box;text-align: center;}#sk-container-id-6 label.sk-toggleable__label-arrow:before {content: \"▸\";float: left;margin-right: 0.25em;color: #696969;}#sk-container-id-6 label.sk-toggleable__label-arrow:hover:before {color: black;}#sk-container-id-6 div.sk-estimator:hover label.sk-toggleable__label-arrow:before {color: black;}#sk-container-id-6 div.sk-toggleable__content {max-height: 0;max-width: 0;overflow: hidden;text-align: left;background-color: #f0f8ff;}#sk-container-id-6 div.sk-toggleable__content pre {margin: 0.2em;color: black;border-radius: 0.25em;background-color: #f0f8ff;}#sk-container-id-6 input.sk-toggleable__control:checked~div.sk-toggleable__content {max-height: 200px;max-width: 100%;overflow: auto;}#sk-container-id-6 input.sk-toggleable__control:checked~label.sk-toggleable__label-arrow:before {content: \"▾\";}#sk-container-id-6 div.sk-estimator input.sk-toggleable__control:checked~label.sk-toggleable__label {background-color: #d4ebff;}#sk-container-id-6 div.sk-label input.sk-toggleable__control:checked~label.sk-toggleable__label {background-color: #d4ebff;}#sk-container-id-6 input.sk-hidden--visually {border: 0;clip: rect(1px 1px 1px 1px);clip: rect(1px, 1px, 1px, 1px);height: 1px;margin: -1px;overflow: hidden;padding: 0;position: absolute;width: 1px;}#sk-container-id-6 div.sk-estimator {font-family: monospace;background-color: #f0f8ff;border: 1px dotted black;border-radius: 0.25em;box-sizing: border-box;margin-bottom: 0.5em;}#sk-container-id-6 div.sk-estimator:hover {background-color: #d4ebff;}#sk-container-id-6 div.sk-parallel-item::after {content: \"\";width: 100%;border-bottom: 1px solid gray;flex-grow: 1;}#sk-container-id-6 div.sk-label:hover label.sk-toggleable__label {background-color: #d4ebff;}#sk-container-id-6 div.sk-serial::before {content: \"\";position: absolute;border-left: 1px solid gray;box-sizing: border-box;top: 0;bottom: 0;left: 50%;z-index: 0;}#sk-container-id-6 div.sk-serial {display: flex;flex-direction: column;align-items: center;background-color: white;padding-right: 0.2em;padding-left: 0.2em;position: relative;}#sk-container-id-6 div.sk-item {position: relative;z-index: 1;}#sk-container-id-6 div.sk-parallel {display: flex;align-items: stretch;justify-content: center;background-color: white;position: relative;}#sk-container-id-6 div.sk-item::before, #sk-container-id-6 div.sk-parallel-item::before {content: \"\";position: absolute;border-left: 1px solid gray;box-sizing: border-box;top: 0;bottom: 0;left: 50%;z-index: -1;}#sk-container-id-6 div.sk-parallel-item {display: flex;flex-direction: column;z-index: 1;position: relative;background-color: white;}#sk-container-id-6 div.sk-parallel-item:first-child::after {align-self: flex-end;width: 50%;}#sk-container-id-6 div.sk-parallel-item:last-child::after {align-self: flex-start;width: 50%;}#sk-container-id-6 div.sk-parallel-item:only-child::after {width: 0;}#sk-container-id-6 div.sk-dashed-wrapped {border: 1px dashed gray;margin: 0 0.4em 0.5em 0.4em;box-sizing: border-box;padding-bottom: 0.4em;background-color: white;}#sk-container-id-6 div.sk-label label {font-family: monospace;font-weight: bold;display: inline-block;line-height: 1.2em;}#sk-container-id-6 div.sk-label-container {text-align: center;}#sk-container-id-6 div.sk-container {/* jupyter's `normalize.less` sets `[hidden] { display: none; }` but bootstrap.min.css set `[hidden] { display: none !important; }` so we also need the `!important` here to be able to override the default hidden behavior on the sphinx rendered scikit-learn.org. See: https://github.com/scikit-learn/scikit-learn/issues/21755 */display: inline-block !important;position: relative;}#sk-container-id-6 div.sk-text-repr-fallback {display: none;}</style><div id=\"sk-container-id-6\" class=\"sk-top-container\"><div class=\"sk-text-repr-fallback\"><pre>SGDClassifier()</pre><b>In a Jupyter environment, please rerun this cell to show the HTML representation or trust the notebook. <br />On GitHub, the HTML representation is unable to render, please try loading this page with nbviewer.org.</b></div><div class=\"sk-container\" hidden><div class=\"sk-item\"><div class=\"sk-estimator sk-toggleable\"><input class=\"sk-toggleable__control sk-hidden--visually\" id=\"sk-estimator-id-6\" type=\"checkbox\" checked><label for=\"sk-estimator-id-6\" class=\"sk-toggleable__label sk-toggleable__label-arrow\">SGDClassifier</label><div class=\"sk-toggleable__content\"><pre>SGDClassifier()</pre></div></div></div></div></div>"
      ],
      "text/plain": [
       "SGDClassifier()"
      ]
     },
     "execution_count": 239,
     "metadata": {},
     "output_type": "execute_result"
    }
   ],
   "source": [
    "# SGD Classifier\n",
    "sgd_clf = SGDClassifier()\n",
    "sgd_clf.fit(X_train, y_train)"
   ]
  },
  {
   "cell_type": "code",
   "execution_count": 240,
   "id": "d9716e54",
   "metadata": {},
   "outputs": [
    {
     "data": {
      "text/html": [
       "<style>#sk-container-id-7 {color: black;background-color: white;}#sk-container-id-7 pre{padding: 0;}#sk-container-id-7 div.sk-toggleable {background-color: white;}#sk-container-id-7 label.sk-toggleable__label {cursor: pointer;display: block;width: 100%;margin-bottom: 0;padding: 0.3em;box-sizing: border-box;text-align: center;}#sk-container-id-7 label.sk-toggleable__label-arrow:before {content: \"▸\";float: left;margin-right: 0.25em;color: #696969;}#sk-container-id-7 label.sk-toggleable__label-arrow:hover:before {color: black;}#sk-container-id-7 div.sk-estimator:hover label.sk-toggleable__label-arrow:before {color: black;}#sk-container-id-7 div.sk-toggleable__content {max-height: 0;max-width: 0;overflow: hidden;text-align: left;background-color: #f0f8ff;}#sk-container-id-7 div.sk-toggleable__content pre {margin: 0.2em;color: black;border-radius: 0.25em;background-color: #f0f8ff;}#sk-container-id-7 input.sk-toggleable__control:checked~div.sk-toggleable__content {max-height: 200px;max-width: 100%;overflow: auto;}#sk-container-id-7 input.sk-toggleable__control:checked~label.sk-toggleable__label-arrow:before {content: \"▾\";}#sk-container-id-7 div.sk-estimator input.sk-toggleable__control:checked~label.sk-toggleable__label {background-color: #d4ebff;}#sk-container-id-7 div.sk-label input.sk-toggleable__control:checked~label.sk-toggleable__label {background-color: #d4ebff;}#sk-container-id-7 input.sk-hidden--visually {border: 0;clip: rect(1px 1px 1px 1px);clip: rect(1px, 1px, 1px, 1px);height: 1px;margin: -1px;overflow: hidden;padding: 0;position: absolute;width: 1px;}#sk-container-id-7 div.sk-estimator {font-family: monospace;background-color: #f0f8ff;border: 1px dotted black;border-radius: 0.25em;box-sizing: border-box;margin-bottom: 0.5em;}#sk-container-id-7 div.sk-estimator:hover {background-color: #d4ebff;}#sk-container-id-7 div.sk-parallel-item::after {content: \"\";width: 100%;border-bottom: 1px solid gray;flex-grow: 1;}#sk-container-id-7 div.sk-label:hover label.sk-toggleable__label {background-color: #d4ebff;}#sk-container-id-7 div.sk-serial::before {content: \"\";position: absolute;border-left: 1px solid gray;box-sizing: border-box;top: 0;bottom: 0;left: 50%;z-index: 0;}#sk-container-id-7 div.sk-serial {display: flex;flex-direction: column;align-items: center;background-color: white;padding-right: 0.2em;padding-left: 0.2em;position: relative;}#sk-container-id-7 div.sk-item {position: relative;z-index: 1;}#sk-container-id-7 div.sk-parallel {display: flex;align-items: stretch;justify-content: center;background-color: white;position: relative;}#sk-container-id-7 div.sk-item::before, #sk-container-id-7 div.sk-parallel-item::before {content: \"\";position: absolute;border-left: 1px solid gray;box-sizing: border-box;top: 0;bottom: 0;left: 50%;z-index: -1;}#sk-container-id-7 div.sk-parallel-item {display: flex;flex-direction: column;z-index: 1;position: relative;background-color: white;}#sk-container-id-7 div.sk-parallel-item:first-child::after {align-self: flex-end;width: 50%;}#sk-container-id-7 div.sk-parallel-item:last-child::after {align-self: flex-start;width: 50%;}#sk-container-id-7 div.sk-parallel-item:only-child::after {width: 0;}#sk-container-id-7 div.sk-dashed-wrapped {border: 1px dashed gray;margin: 0 0.4em 0.5em 0.4em;box-sizing: border-box;padding-bottom: 0.4em;background-color: white;}#sk-container-id-7 div.sk-label label {font-family: monospace;font-weight: bold;display: inline-block;line-height: 1.2em;}#sk-container-id-7 div.sk-label-container {text-align: center;}#sk-container-id-7 div.sk-container {/* jupyter's `normalize.less` sets `[hidden] { display: none; }` but bootstrap.min.css set `[hidden] { display: none !important; }` so we also need the `!important` here to be able to override the default hidden behavior on the sphinx rendered scikit-learn.org. See: https://github.com/scikit-learn/scikit-learn/issues/21755 */display: inline-block !important;position: relative;}#sk-container-id-7 div.sk-text-repr-fallback {display: none;}</style><div id=\"sk-container-id-7\" class=\"sk-top-container\"><div class=\"sk-text-repr-fallback\"><pre>RandomForestClassifier()</pre><b>In a Jupyter environment, please rerun this cell to show the HTML representation or trust the notebook. <br />On GitHub, the HTML representation is unable to render, please try loading this page with nbviewer.org.</b></div><div class=\"sk-container\" hidden><div class=\"sk-item\"><div class=\"sk-estimator sk-toggleable\"><input class=\"sk-toggleable__control sk-hidden--visually\" id=\"sk-estimator-id-7\" type=\"checkbox\" checked><label for=\"sk-estimator-id-7\" class=\"sk-toggleable__label sk-toggleable__label-arrow\">RandomForestClassifier</label><div class=\"sk-toggleable__content\"><pre>RandomForestClassifier()</pre></div></div></div></div></div>"
      ],
      "text/plain": [
       "RandomForestClassifier()"
      ]
     },
     "execution_count": 240,
     "metadata": {},
     "output_type": "execute_result"
    }
   ],
   "source": [
    "# Random Forest Classifier\n",
    "forest_clf = RandomForestClassifier()\n",
    "forest_clf.fit(X_train, y_train)"
   ]
  },
  {
   "cell_type": "markdown",
   "id": "cf778f01",
   "metadata": {},
   "source": [
    "**evaluating the models**"
   ]
  },
  {
   "cell_type": "code",
   "execution_count": 275,
   "id": "e022ddd8",
   "metadata": {},
   "outputs": [
    {
     "data": {
      "image/png": "[encoded data removed]",
      "text/plain": [
       "<Figure size 648x288 with 2 Axes>"
      ]
     },
     "metadata": {
      "needs_background": "light"
     },
     "output_type": "display_data"
    }
   ],
   "source": [
    "# precision vs. recall curve (PRC)\n",
    "\n",
    "# calculate precision/recall for SGD\n",
    "y_scores_sgd = sgd_clf.decision_function(X_valid)\n",
    "precisions_sgd, recalls_sgd, thresholds_sgd = precision_recall_curve(y_valid, y_scores_sgd)\n",
    "\n",
    "# calculate decision scores for Random Forest\n",
    "y_probas_forest = forest_clf.predict_proba(X_valid)\n",
    "y_scores_forest = y_probas_forest[:, 1]\n",
    "precisions_forest, recalls_forest, thresholds_forest = precision_recall_curve(y_valid, y_scores_forest)\n",
    "\n",
    "# plot the precision recall curves for both classifiers\n",
    "fig, axs = plt.subplots(1, 2, figsize=(9, 4), sharey=True)\n",
    "axs[0].plot(recalls_sgd, precisions_sgd, linewidth=3)\n",
    "axs[1].plot(recalls_forest, precisions_forest, linewidth=3)\n",
    "axs[0].set_xlabel(\"Recall\")\n",
    "axs[1].set_xlabel(\"Recall\")\n",
    "axs[0].set_ylabel(\"Precision\")\n",
    "axs[1].set_ylabel(\"Precision\")\n",
    "axs[0].grid()\n",
    "axs[0].axis([0, 1, 0, 1])\n",
    "axs[0].set_title(\"PRC for Steep Gradient Descent\")\n",
    "axs[1].grid()\n",
    "axs[1].axis([0, 1, 0, 1])\n",
    "axs[1].set_title(\"PRC for Random Forest\")\n",
    "plt.show()"
   ]
  },
  {
   "cell_type": "markdown",
   "id": "dd90a1be",
   "metadata": {},
   "source": [
    "Based on these graphs, the Random Forest Model seems slightly better at the classification task."
   ]
  },
  {
   "cell_type": "code",
   "execution_count": 276,
   "id": "dac10ae5",
   "metadata": {},
   "outputs": [
    {
     "data": {
      "image/png": "[encoded data removed]",
      "text/plain": [
       "<Figure size 648x288 with 2 Axes>"
      ]
     },
     "metadata": {
      "needs_background": "light"
     },
     "output_type": "display_data"
    }
   ],
   "source": [
    "# reciever operating characteristic curve (ROC)\n",
    "\n",
    "# calculations for SGD\n",
    "fpr_sgd, tpr_sgd, thresholds_sgd = roc_curve(y_valid, y_scores_sgd)\n",
    "\n",
    "# calculations for Random Forest\n",
    "fpr_forest, tpr_forest, thresholds_forest = roc_curve(y_valid, y_scores_forest)\n",
    "\n",
    "# plot the ROC curves for both classifiers\n",
    "fig, axs = plt.subplots(1, 2, figsize=(9, 4), sharey=True)\n",
    "axs[0].plot(fpr_sgd, tpr_sgd, linewidth=3)\n",
    "axs[1].plot(fpr_forest, tpr_forest, linewidth=3)\n",
    "axs[0].set_xlabel(\"False Positive Rate (Fall-Out)\")\n",
    "axs[1].set_xlabel(\"False Positive Rate (Fall-Out)\")\n",
    "axs[0].set_ylabel(\"True Positive Rate (Recall)\")\n",
    "axs[1].set_ylabel(\"True Positive Rate (Recall)\")\n",
    "axs[0].grid()\n",
    "axs[0].axis([0, 1, 0, 1])\n",
    "axs[0].set_title(\"ROC for Steep Gradient Descent\")\n",
    "axs[1].grid()\n",
    "axs[1].axis([0, 1, 0, 1])\n",
    "axs[1].set_title(\"ROC for Random Forest\")\n",
    "plt.show()"
   ]
  },
  {
   "cell_type": "markdown",
   "id": "36925b8d",
   "metadata": {},
   "source": [
    "The graphs look similar at first, but we can calculate the area under the curve (AUC) to compare the two models."
   ]
  },
  {
   "cell_type": "code",
   "execution_count": 277,
   "id": "356bc2bb",
   "metadata": {},
   "outputs": [
    {
     "name": "stdout",
     "output_type": "stream",
     "text": [
      "SGD ROC-AUC score: 0.899290780141844\n",
      "Forest ROC-AUC score: 0.9157446808510639\n"
     ]
    }
   ],
   "source": [
    "# ROC AOC scores\n",
    "\n",
    "# SGD classifier\n",
    "print(\"SGD ROC-AUC score:\", roc_auc_score(y_valid, y_scores_sgd))\n",
    "\n",
    "# Random Forest classifier\n",
    "print(\"Forest ROC-AUC score:\", roc_auc_score(y_valid, y_scores_forest))"
   ]
  },
  {
   "cell_type": "markdown",
   "id": "d48e20e7",
   "metadata": {},
   "source": [
    "The models are very similar in performance, however, the Random Forest Classifier seems to perform slightly better than the SGD Classifier, so we will use the Random Forest Classifier."
   ]
  },
  {
   "cell_type": "markdown",
   "id": "92deba5b",
   "metadata": {},
   "source": [
    "**evaluate on the test set**"
   ]
  },
  {
   "cell_type": "code",
   "execution_count": 270,
   "id": "5ac0fa37",
   "metadata": {},
   "outputs": [
    {
     "data": {
      "image/png": "[encoded data removed]",
      "text/plain": [
       "<Figure size 648x288 with 2 Axes>"
      ]
     },
     "metadata": {
      "needs_background": "light"
     },
     "output_type": "display_data"
    }
   ],
   "source": [
    "# precision vs. recall curve (PRC)\n",
    "\n",
    "# calculations for PRC\n",
    "y_probas_forest = forest_clf.predict_proba(X_test)\n",
    "y_scores_forest = y_probas_forest[:, 1]\n",
    "precisions_forest, recalls_forest, thresholds_forest = precision_recall_curve(y_test, y_scores_forest)\n",
    "\n",
    "# calculations for ROC\n",
    "fpr_forest, tpr_forest, thresholds_forest = roc_curve(y_test, y_scores_forest)\n",
    "\n",
    "# plot\n",
    "fig, axs = plt.subplots(1, 2, figsize=(9, 4), sharey=True)\n",
    "axs[0].plot(recalls_forest, precisions_forest, linewidth=3)\n",
    "axs[1].plot(fpr_forest, tpr_forest, linewidth=3)\n",
    "axs[0].set_xlabel(\"Recall\")\n",
    "axs[1].set_xlabel(\"False Positive Rate (Fall-Out)\")\n",
    "axs[0].set_ylabel(\"Precision\")\n",
    "axs[1].set_ylabel(\"True Positive Rate (Recall)\")\n",
    "axs[0].grid()\n",
    "axs[0].axis([0, 1, 0, 1])\n",
    "axs[0].set_title(\"PRC for Steep Gradient Descent\")\n",
    "axs[1].grid()\n",
    "axs[1].axis([0, 1, 0, 1])\n",
    "axs[1].set_title(\"PRC for Random Forest\")\n",
    "plt.show()"
   ]
  },
  {
   "cell_type": "code",
   "execution_count": 273,
   "id": "a61eb8ba",
   "metadata": {},
   "outputs": [
    {
     "name": "stdout",
     "output_type": "stream",
     "text": [
      "Forest ROC-AUC score: 0.8863194444444443\n"
     ]
    }
   ],
   "source": [
    "print(\"Forest ROC-AUC score:\", roc_auc_score(y_test, y_scores_forest))"
   ]
  },
  {
   "cell_type": "markdown",
   "id": "5209425b",
   "metadata": {},
   "source": [
    "The model performs slightly worse on the test set, but not by much. Overall, this Random Forest Binary Classifier seems to work pretty well."
   ]
  },
  {
   "cell_type": "markdown",
   "id": "85d5e22c",
   "metadata": {},
   "source": [
    "### Questions"
   ]
  },
  {
   "cell_type": "markdown",
   "id": "cc209c32",
   "metadata": {},
   "source": [
    "**Using probability=0.5 as the threshold for the positive label, calculate this model’s accuracy, sensitivity, specificity, precision score, recall score, and F1-score on the training, validation and test sets respectively.**"
   ]
  },
  {
   "cell_type": "code",
   "execution_count": 244,
   "id": "a2e77125",
   "metadata": {},
   "outputs": [],
   "source": [
    "threshold = 0.5\n",
    "\n",
    "def sensitivity(labels, predictions):\n",
    "    cm = confusion_matrix(labels, predictions)\n",
    "    return cm[0,0]/(cm[0,0]+cm[0,1])\n",
    "\n",
    "def specificity(labels, predictions):\n",
    "    cm = confusion_matrix(labels, predictions)\n",
    "    return cm[1,1]/(cm[1,0]+cm[1,1])"
   ]
  },
  {
   "cell_type": "code",
   "execution_count": 245,
   "id": "c5d05c37",
   "metadata": {},
   "outputs": [
    {
     "name": "stdout",
     "output_type": "stream",
     "text": [
      "Training Set:\n",
      "* accuracy: 0.9981012658227848\n",
      "* sensitivity: 0.9920844327176781\n",
      "* specificity: 1.0\n",
      "* precision score: 0.9975083056478405\n",
      "* recall score: 1.0\n",
      "* f1 score: 0.9987525987525987\n"
     ]
    }
   ],
   "source": [
    "# on the training set\n",
    "pred_proba = forest_clf.predict_proba(X_train)\n",
    "pred = (pred_proba [:,1] >= threshold)\n",
    "\n",
    "print(\"Training Set:\")\n",
    "print(\"* accuracy:\", accuracy_score(y_train, pred))\n",
    "print(\"* sensitivity:\", sensitivity(y_train, pred))\n",
    "print(\"* specificity:\", specificity(y_train, pred))\n",
    "print(\"* precision score:\", precision_score(y_train, pred))\n",
    "print(\"* recall score:\", recall_score(y_train, pred))\n",
    "print(\"* f1 score:\", f1_score(y_train, pred))"
   ]
  },
  {
   "cell_type": "code",
   "execution_count": 246,
   "id": "2c0f788a",
   "metadata": {},
   "outputs": [
    {
     "name": "stdout",
     "output_type": "stream",
     "text": [
      "Training Set:\n",
      "* accuracy: 0.9086294416243654\n",
      "* sensitivity: 0.6808510638297872\n",
      "* specificity: 0.98\n",
      "* precision score: 0.9074074074074074\n",
      "* recall score: 0.98\n",
      "* f1 score: 0.9423076923076924\n"
     ]
    }
   ],
   "source": [
    "# on the validation set\n",
    "pred_proba = forest_clf.predict_proba(X_valid)\n",
    "pred = (pred_proba [:,1] >= threshold)\n",
    "\n",
    "print(\"Training Set:\")\n",
    "print(\"* accuracy:\", accuracy_score(y_valid, pred))\n",
    "print(\"* sensitivity:\", sensitivity(y_valid, pred))\n",
    "print(\"* specificity:\", specificity(y_valid, pred))\n",
    "print(\"* precision score:\", precision_score(y_valid, pred))\n",
    "print(\"* recall score:\", recall_score(y_valid, pred))\n",
    "print(\"* f1 score:\", f1_score(y_valid, pred))"
   ]
  },
  {
   "cell_type": "code",
   "execution_count": 247,
   "id": "969fc24e",
   "metadata": {},
   "outputs": [
    {
     "name": "stdout",
     "output_type": "stream",
     "text": [
      "Training Set:\n",
      "* accuracy: 0.8737373737373737\n",
      "* sensitivity: 0.625\n",
      "* specificity: 0.9533333333333334\n",
      "* precision score: 0.8881987577639752\n",
      "* recall score: 0.9533333333333334\n",
      "* f1 score: 0.9196141479099679\n"
     ]
    }
   ],
   "source": [
    "# on the test set\n",
    "pred_proba = forest_clf.predict_proba(X_test)\n",
    "pred = (pred_proba [:,1] >= threshold)\n",
    "\n",
    "print(\"Training Set:\")\n",
    "print(\"* accuracy:\", accuracy_score(y_test, pred))\n",
    "print(\"* sensitivity:\", sensitivity(y_test, pred))\n",
    "print(\"* specificity:\", specificity(y_test, pred))\n",
    "print(\"* precision score:\", precision_score(y_test, pred))\n",
    "print(\"* recall score:\", recall_score(y_test, pred))\n",
    "print(\"* f1 score:\", f1_score(y_test, pred))"
   ]
  },
  {
   "cell_type": "markdown",
   "id": "e189c94e",
   "metadata": {},
   "source": [
    "**What should be the probability threshold for the positive label to choose if you would like to maximize its F1 score performance on the validation set ? At this threshold, what would be this model’s accuracy, sensitivity, specificity, precision score, recall score, and F1-score on the training, validation and test sets respectively.**"
   ]
  },
  {
   "cell_type": "markdown",
   "id": "21e5c6b0",
   "metadata": {},
   "source": [
    "The $F_1  \\text{score}$ favors classifiers with similar precision and recall. "
   ]
  },
  {
   "cell_type": "code",
   "execution_count": 248,
   "id": "5ce0a5fd",
   "metadata": {},
   "outputs": [
    {
     "data": {
      "image/png": "[encoded data removed]",
      "text/plain": [
       "<Figure size 576x288 with 1 Axes>"
      ]
     },
     "metadata": {
      "needs_background": "light"
     },
     "output_type": "display_data"
    }
   ],
   "source": [
    "precisions, recalls, thresholds = precision_recall_curve(y_valid, y_scores_forest)\n",
    "\n",
    "plt.figure(figsize=(8, 4))  # extra code – it's not needed, just formatting\n",
    "plt.plot(thresholds, precisions[:-1], \"b--\", label=\"Precision\", linewidth=2)\n",
    "plt.plot(thresholds, recalls[:-1], \"g-\", label=\"Recall\", linewidth=2)\n",
    "\n",
    "plt.grid()\n",
    "plt.xlabel(\"Threshold\")\n",
    "plt.legend(loc=\"center right\")\n",
    "\n",
    "plt.show()"
   ]
  },
  {
   "cell_type": "markdown",
   "id": "4e48fb5e",
   "metadata": {},
   "source": [
    "Precision and recall look the most similar at approximately $\\text{threshold}=0.7$. If we plot a vertical line for $\\text{threshold}=0.7$ we can see:"
   ]
  },
  {
   "cell_type": "code",
   "execution_count": 249,
   "id": "db9be827",
   "metadata": {},
   "outputs": [
    {
     "data": {
      "image/png": "[encoded data removed]",
      "text/plain": [
       "<Figure size 576x288 with 1 Axes>"
      ]
     },
     "metadata": {
      "needs_background": "light"
     },
     "output_type": "display_data"
    }
   ],
   "source": [
    "threshold = 0.7\n",
    "precisions, recalls, thresholds = precision_recall_curve(y_valid, y_scores_forest)\n",
    "\n",
    "plt.figure(figsize=(8, 4))  # extra code – it's not needed, just formatting\n",
    "plt.plot(thresholds, precisions[:-1], \"b--\", label=\"Precision\", linewidth=2)\n",
    "plt.plot(thresholds, recalls[:-1], \"g-\", label=\"Recall\", linewidth=2)\n",
    "plt.vlines(threshold, 0, 1.0, \"k\", \"dotted\", label=\"threshold\")\n",
    "\n",
    "idx = (thresholds >= threshold).argmax()  # first index ≥ threshold\n",
    "plt.plot(thresholds[idx], precisions[idx], \"bo\")\n",
    "plt.plot(thresholds[idx], recalls[idx], \"go\")\n",
    "\n",
    "plt.grid()\n",
    "plt.xlabel(\"Threshold\")\n",
    "plt.legend(loc=\"center right\")\n",
    "\n",
    "plt.show()"
   ]
  },
  {
   "cell_type": "code",
   "execution_count": 256,
   "id": "04acde14",
   "metadata": {},
   "outputs": [
    {
     "name": "stdout",
     "output_type": "stream",
     "text": [
      "At Threshold = 0.7:\n",
      "* accuracy: 0.9086294416243654\n",
      "* sensitivity: 0.8085106382978723\n",
      "* specificity: 0.94\n",
      "* precision score: 0.94\n",
      "* recall score: 0.94\n",
      "* f1 score: 0.94\n"
     ]
    }
   ],
   "source": [
    "pred_proba = forest_clf.predict_proba(X_valid)\n",
    "pred = (pred_proba [:,1] >= threshold)\n",
    "\n",
    "print(\"At Threshold = 0.7:\")\n",
    "print(\"* accuracy:\", accuracy_score(y_valid, pred))\n",
    "print(\"* sensitivity:\", sensitivity(y_valid, pred))\n",
    "print(\"* specificity:\", specificity(y_valid, pred))\n",
    "print(\"* precision score:\", precision_score(y_valid, pred))\n",
    "print(\"* recall score:\", recall_score(y_valid, pred))\n",
    "print(\"* f1 score:\", f1_score(y_valid, pred))"
   ]
  },
  {
   "cell_type": "markdown",
   "id": "e19c2901",
   "metadata": {},
   "source": [
    "**If you would like to have a machine learning model to have a precision of  50%, what should be the probability threshold for the positive label to choose ?  At this threshold, what would be this model’s accuracy, sensitivity, specificity, precision score, recall score, and F1-score on the training, validation and test sets respectively.**"
   ]
  },
  {
   "cell_type": "markdown",
   "id": "1f6d473f",
   "metadata": {},
   "source": [
    "Search for lowest threshold that gives 50% precision using ```argmax()``` on a numpy array:"
   ]
  },
  {
   "cell_type": "code",
   "execution_count": 251,
   "id": "92de762e",
   "metadata": {},
   "outputs": [
    {
     "data": {
      "text/plain": [
       "0.0"
      ]
     },
     "execution_count": 251,
     "metadata": {},
     "output_type": "execute_result"
    }
   ],
   "source": [
    "idx_for_50_precision = (precisions >= 0.50).argmax()\n",
    "threshold_for_50_precision = thresholds[idx_for_50_precision]\n",
    "threshold_for_50_precision"
   ]
  },
  {
   "cell_type": "code",
   "execution_count": 252,
   "id": "44cd8c3d",
   "metadata": {},
   "outputs": [
    {
     "name": "stdout",
     "output_type": "stream",
     "text": [
      "Training Set:\n",
      "* accuracy: 0.7601265822784811\n",
      "* sensitivity: 0.0\n",
      "* specificity: 1.0\n",
      "* precision score: 0.7601265822784811\n",
      "* recall score: 1.0\n",
      "* f1 score: 0.863718087019058\n"
     ]
    }
   ],
   "source": [
    "# on the training set\n",
    "pred_proba = forest_clf.predict_proba(X_train)\n",
    "pred = (pred_proba [:,1] >= threshold_for_50_precision)\n",
    "\n",
    "print(\"Training Set:\")\n",
    "print(\"* accuracy:\", accuracy_score(y_train, pred))\n",
    "print(\"* sensitivity:\", sensitivity(y_train, pred))\n",
    "print(\"* specificity:\", specificity(y_train, pred))\n",
    "print(\"* precision score:\", precision_score(y_train, pred))\n",
    "print(\"* recall score:\", recall_score(y_train, pred))\n",
    "print(\"* f1 score:\", f1_score(y_train, pred))"
   ]
  },
  {
   "cell_type": "code",
   "execution_count": 253,
   "id": "431ad07b",
   "metadata": {},
   "outputs": [
    {
     "name": "stdout",
     "output_type": "stream",
     "text": [
      "Training Set:\n",
      "* accuracy: 0.7614213197969543\n",
      "* sensitivity: 0.0\n",
      "* specificity: 1.0\n",
      "* precision score: 0.7614213197969543\n",
      "* recall score: 1.0\n",
      "* f1 score: 0.8645533141210375\n"
     ]
    }
   ],
   "source": [
    "# on the validation set\n",
    "pred_proba = forest_clf.predict_proba(X_valid)\n",
    "pred = (pred_proba [:,1] >= threshold_for_50_precision)\n",
    "\n",
    "print(\"Training Set:\")\n",
    "print(\"* accuracy:\", accuracy_score(y_valid, pred))\n",
    "print(\"* sensitivity:\", sensitivity(y_valid, pred))\n",
    "print(\"* specificity:\", specificity(y_valid, pred))\n",
    "print(\"* precision score:\", precision_score(y_valid, pred))\n",
    "print(\"* recall score:\", recall_score(y_valid, pred))\n",
    "print(\"* f1 score:\", f1_score(y_valid, pred))"
   ]
  },
  {
   "cell_type": "code",
   "execution_count": 254,
   "id": "f2b482e7",
   "metadata": {},
   "outputs": [
    {
     "name": "stdout",
     "output_type": "stream",
     "text": [
      "Training Set:\n",
      "* accuracy: 0.7575757575757576\n",
      "* sensitivity: 0.0\n",
      "* specificity: 1.0\n",
      "* precision score: 0.7575757575757576\n",
      "* recall score: 1.0\n",
      "* f1 score: 0.8620689655172413\n"
     ]
    }
   ],
   "source": [
    "# on the test set\n",
    "pred_proba = forest_clf.predict_proba(X_test)\n",
    "pred = (pred_proba [:,1] >= threshold_for_50_precision)\n",
    "\n",
    "print(\"Training Set:\")\n",
    "print(\"* accuracy:\", accuracy_score(y_test, pred))\n",
    "print(\"* sensitivity:\", sensitivity(y_test, pred))\n",
    "print(\"* specificity:\", specificity(y_test, pred))\n",
    "print(\"* precision score:\", precision_score(y_test, pred))\n",
    "print(\"* recall score:\", recall_score(y_test, pred))\n",
    "print(\"* f1 score:\", f1_score(y_test, pred))"
   ]
  }
 ],
 "metadata": {
  "kernelspec": {
   "display_name": "Python 3 (ipykernel)",
   "language": "python",
   "name": "python3"
  },
  "language_info": {
   "codemirror_mode": {
    "name": "ipython",
    "version": 3
   },
   "file_extension": ".py",
   "mimetype": "text/x-python",
   "name": "python",
   "nbconvert_exporter": "python",
   "pygments_lexer": "ipython3",
   "version": "3.9.7"
  }
 },
 "nbformat": 4,
 "nbformat_minor": 5
}
